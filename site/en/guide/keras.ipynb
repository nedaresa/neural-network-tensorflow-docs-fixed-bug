{
  "nbformat": 4,
  "nbformat_minor": 0,
  "metadata": {
    "colab": {
      "name": "keras.ipynb",
      "version": "0.3.2",
      "provenance": []
    }
  },
  "cells": [
    {
      "metadata": {
        "id": "F1xIRPtY0E1w",
        "colab_type": "text"
      },
      "cell_type": "markdown",
      "source": [
        "# Keras\n",
        "\n",
        "Keras is a high-level API to build and train deep learning models. It's used for\n",
        "fast prototyping, advanced research, and production, with three key advantages:\n",
        "\n",
        "- *User friendly*<br>\n",
        "  Keras has a simple, consistent interface optimized for common use cases. It\n",
        "  provides clear and actionable feedback for user errors.\n",
        "- *Modular and composable*<br>\n",
        "  Keras models are made by connecting configurable building blocks together,\n",
        "  with few restrictions.\n",
        "- *Easy to extend*<br> Write custom building blocks to express new ideas for\n",
        "  research. Create new layers, loss functions, and develop state-of-the-art\n",
        "  models.\n",
        "\n",
        "## Import tf.keras\n",
        "\n",
        "`tf.keras` is TensorFlow's implementation of the\n",
        "[Keras API specification](https://keras.io){:.external}. This is a high-level\n",
        "API to build and train models that includes first-class support for\n",
        "TensorFlow-specific functionality, such as [eager execution](#eager_execution),\n",
        "`tf.data` pipelines, and [Estimators](./estimators.md).\n",
        "`tf.keras` makes TensorFlow easier to use without sacrificing flexibility and\n",
        "performance.\n",
        "\n",
        "To get started, import `tf.keras` as part of your TensorFlow program setup:"
      ]
    },
    {
      "metadata": {
        "id": "TgPcBFru0E1z",
        "colab_type": "code",
        "colab": {
          "base_uri": "https://localhost:8080/",
          "height": 51
        },
        "outputId": "ee4ffdcc-f271-412c-87b5-d1424e7f894b"
      },
      "cell_type": "code",
      "source": [
        "import tensorflow as tf\n",
        "from tensorflow import keras\n",
        "from tensorflow.keras import layers\n",
        "\n",
        "print(tf.VERSION)\n",
        "print(tf.keras.__version__)"
      ],
      "execution_count": 5,
      "outputs": [
        {
          "output_type": "stream",
          "text": [
            "1.12.0-rc1\n",
            "2.1.6-tf\n"
          ],
          "name": "stdout"
        }
      ]
    },
    {
      "metadata": {
        "id": "lj03RamP0E13",
        "colab_type": "text"
      },
      "cell_type": "markdown",
      "source": [
        "`tf.keras` can run any Keras-compatible code, but keep in mind:\n",
        "\n",
        "* The `tf.keras` version in the latest TensorFlow release might not be the same\n",
        "  as the latest `keras` version from PyPI. Check `tf.keras.__version__`.\n",
        "* When [saving a model's weights](#weights_only), `tf.keras` defaults to the\n",
        "  [checkpoint format](./checkpoints.md). Pass `save_format='h5'` to\n",
        "  use HDF5."
      ]
    },
    {
      "metadata": {
        "id": "7e1LPcXx0gR6",
        "colab_type": "text"
      },
      "cell_type": "markdown",
      "source": [
        "## Build a simple model\n",
        "\n",
        "### Sequential model\n",
        "\n",
        "In Keras, you assemble *layers* to build *models*. A model is (usually) a graph\n",
        "of layers. The most common type of model is a stack of layers: the\n",
        "`tf.keras.Sequential` model.\n",
        "\n",
        "To build a simple, fully-connected network (i.e. multi-layer perceptron):"
      ]
    },
    {
      "metadata": {
        "id": "WM-DUVQB0E14",
        "colab_type": "code",
        "colab": {}
      },
      "cell_type": "code",
      "source": [
        "model = keras.Sequential()\n",
        "# Adds a densely-connected layer with 64 units to the model:\n",
        "model.add(keras.layers.Dense(64, activation='relu'))\n",
        "# Add another:\n",
        "model.add(keras.layers.Dense(64, activation='relu'))\n",
        "# Add a softmax layer with 10 output units:\n",
        "model.add(keras.layers.Dense(10, activation='softmax'))"
      ],
      "execution_count": 0,
      "outputs": []
    },
    {
      "metadata": {
        "id": "-ztyTipu0E18",
        "colab_type": "text"
      },
      "cell_type": "markdown",
      "source": [
        "### Configure the layers\n",
        "\n",
        "There are many `tf.keras.layers` available with some common constructor\n",
        "parameters:\n",
        "\n",
        "* `activation`: Set the activation function for the layer. This parameter is\n",
        "  specified by the name of a built-in function or as a callable object. By\n",
        "  default, no activation is applied.\n",
        "* `kernel_initializer` and `bias_initializer`: The initialization schemes\n",
        "  that create the layer's weights (kernel and bias). This parameter is a name or\n",
        "  a callable object. This defaults to the `\"Glorot uniform\"` initializer.\n",
        "* `kernel_regularizer` and `bias_regularizer`: The regularization schemes\n",
        "  that apply the layer's weights (kernel and bias), such as L1 or L2\n",
        "  regularization. By default, no regularization is applied.\n",
        "\n",
        "The following instantiates `tf.keras.layers.Dense` layers using constructor\n",
        "arguments:"
      ]
    },
    {
      "metadata": {
        "id": "MlL7PBtp0E19",
        "colab_type": "code",
        "colab": {
          "base_uri": "https://localhost:8080/",
          "height": 34
        },
        "outputId": "e1cd3fcb-14b5-4e69-d1e1-37265346ad01"
      },
      "cell_type": "code",
      "source": [
        "# Create a sigmoid layer:\n",
        "layers.Dense(64, activation='sigmoid')\n",
        "# Or:\n",
        "layers.Dense(64, activation=tf.sigmoid)\n",
        "\n",
        "# A linear layer with L1 regularization of factor 0.01 applied to the kernel matrix:\n",
        "layers.Dense(64, kernel_regularizer=keras.regularizers.l1(0.01))\n",
        "\n",
        "# A linear layer with L2 regularization of factor 0.01 applied to the bias vector:\n",
        "layers.Dense(64, bias_regularizer=keras.regularizers.l2(0.01))\n",
        "\n",
        "# A linear layer with a kernel initialized to a random orthogonal matrix:\n",
        "layers.Dense(64, kernel_initializer='orthogonal')\n",
        "\n",
        "# A linear layer with a bias vector initialized to 2.0s:\n",
        "layers.Dense(64, bias_initializer=keras.initializers.constant(2.0))"
      ],
      "execution_count": 8,
      "outputs": [
        {
          "output_type": "execute_result",
          "data": {
            "text/plain": [
              "<tensorflow.python.keras.layers.core.Dense at 0x7f68b5fb71d0>"
            ]
          },
          "metadata": {
            "tags": []
          },
          "execution_count": 8
        }
      ]
    },
    {
      "metadata": {
        "id": "9NR6reyk0E2A",
        "colab_type": "text"
      },
      "cell_type": "markdown",
      "source": [
        "## Train and evaluate\n",
        "\n",
        "### Set up training\n",
        "\n",
        "After the model is constructed, configure its learning process by calling the\n",
        "`compile` method:"
      ]
    },
    {
      "metadata": {
        "id": "sJ4AOn090E2A",
        "colab_type": "code",
        "colab": {}
      },
      "cell_type": "code",
      "source": [
        "model = keras.Sequential([\n",
        "# Adds a densely-connected layer with 64 units to the model:\n",
        "layers.Dense(64, activation='relu'),\n",
        "# Add another:\n",
        "layers.Dense(64, activation='relu'),\n",
        "# Add a softmax layer with 10 output units:\n",
        "layers.Dense(10, activation='softmax')])\n",
        "\n",
        "model.compile(optimizer=tf.train.AdamOptimizer(0.001),\n",
        "              loss='categorical_crossentropy',\n",
        "              metrics=['accuracy'])"
      ],
      "execution_count": 0,
      "outputs": []
    },
    {
      "metadata": {
        "id": "HG-RAa9F0E2D",
        "colab_type": "text"
      },
      "cell_type": "markdown",
      "source": [
        "`tf.keras.Model.compile` takes three important arguments:\n",
        "\n",
        "* `optimizer`: This object specifies the training procedure. Pass it optimizer\n",
        "  instances from the `tf.train` module, such as\n",
        "  `tf.train.AdamOptimizer`, `tf.train.RMSPropOptimizer`, or\n",
        "  `tf.train.GradientDescentOptimizer`.\n",
        "* `loss`: The function to minimize during optimization. Common choices include\n",
        "  mean square error (`mse`), `categorical_crossentropy`, and\n",
        "  `binary_crossentropy`. Loss functions are specified by name or by\n",
        "  passing a callable object from the `tf.keras.losses` module.\n",
        "* `metrics`: Used to monitor training. These are string names or callables from\n",
        "  the `tf.keras.metrics` module.\n",
        "\n",
        "The following shows a few examples of configuring a model for training:"
      ]
    },
    {
      "metadata": {
        "id": "St4Mgdar0E2E",
        "colab_type": "code",
        "colab": {}
      },
      "cell_type": "code",
      "source": [
        "# Configure a model for mean-squared error regression.\n",
        "model.compile(optimizer=tf.train.AdamOptimizer(0.01),\n",
        "              loss='mse',       # mean squared error\n",
        "              metrics=['mae'])  # mean absolute error\n",
        "\n",
        "# Configure a model for categorical classification.\n",
        "model.compile(optimizer=tf.train.RMSPropOptimizer(0.01),\n",
        "              loss=keras.losses.categorical_crossentropy,\n",
        "              metrics=[keras.metrics.categorical_accuracy])"
      ],
      "execution_count": 0,
      "outputs": []
    },
    {
      "metadata": {
        "id": "yjI5rbi80E2G",
        "colab_type": "text"
      },
      "cell_type": "markdown",
      "source": [
        "### Input NumPy data\n",
        "\n",
        "For small datasets, use in-memory [NumPy](https://www.numpy.org/){:.external}\n",
        "arrays to train and evaluate a model. The model is \"fit\" to the training data\n",
        "using the `fit` method:"
      ]
    },
    {
      "metadata": {
        "id": "3CvP6L-m0E2I",
        "colab_type": "code",
        "colab": {
          "base_uri": "https://localhost:8080/",
          "height": 374
        },
        "outputId": "c5a67da6-0feb-4df3-8074-79a40334cbba"
      },
      "cell_type": "code",
      "source": [
        "import numpy as np\n",
        "\n",
        "data = np.random.random((1000, 32))\n",
        "labels = np.random.random((1000, 10))\n",
        "\n",
        "model.fit(data, labels, epochs=10, batch_size=32)"
      ],
      "execution_count": 11,
      "outputs": [
        {
          "output_type": "stream",
          "text": [
            "Epoch 1/10\n",
            "1000/1000 [==============================] - 0s 159us/step - loss: 11.5293 - categorical_accuracy: 0.1110\n",
            "Epoch 2/10\n",
            "1000/1000 [==============================] - 0s 44us/step - loss: 11.4834 - categorical_accuracy: 0.1220\n",
            "Epoch 3/10\n",
            "1000/1000 [==============================] - 0s 39us/step - loss: 11.4751 - categorical_accuracy: 0.0890\n",
            "Epoch 4/10\n",
            "1000/1000 [==============================] - 0s 43us/step - loss: 11.4691 - categorical_accuracy: 0.0880\n",
            "Epoch 5/10\n",
            "1000/1000 [==============================] - 0s 43us/step - loss: 11.4654 - categorical_accuracy: 0.1060\n",
            "Epoch 6/10\n",
            "1000/1000 [==============================] - 0s 44us/step - loss: 11.4637 - categorical_accuracy: 0.1040\n",
            "Epoch 7/10\n",
            "1000/1000 [==============================] - 0s 50us/step - loss: 11.4700 - categorical_accuracy: 0.1070\n",
            "Epoch 8/10\n",
            "1000/1000 [==============================] - 0s 43us/step - loss: 11.4604 - categorical_accuracy: 0.1160\n",
            "Epoch 9/10\n",
            "1000/1000 [==============================] - 0s 40us/step - loss: 11.4604 - categorical_accuracy: 0.1430\n",
            "Epoch 10/10\n",
            "1000/1000 [==============================] - 0s 41us/step - loss: 11.4554 - categorical_accuracy: 0.1180\n"
          ],
          "name": "stdout"
        },
        {
          "output_type": "execute_result",
          "data": {
            "text/plain": [
              "<tensorflow.python.keras.callbacks.History at 0x7f68b5fb7610>"
            ]
          },
          "metadata": {
            "tags": []
          },
          "execution_count": 11
        }
      ]
    },
    {
      "metadata": {
        "id": "N-pnVaFe0E2N",
        "colab_type": "text"
      },
      "cell_type": "markdown",
      "source": [
        "`tf.keras.Model.fit` takes three important arguments:\n",
        "\n",
        "* `epochs`: Training is structured into *epochs*. An epoch is one iteration over\n",
        "  the entire input data (this is done in smaller batches).\n",
        "* `batch_size`: When passed NumPy data, the model slices the data into smaller\n",
        "  batches and iterates over these batches during training. This integer\n",
        "  specifies the size of each batch. Be aware that the last batch may be smaller\n",
        "  if the total number of samples is not divisible by the batch size.\n",
        "* `validation_data`: When prototyping a model, you want to easily monitor its\n",
        "  performance on some validation data. Passing this argument—a tuple of inputs\n",
        "  and labels—allows the model to display the loss and metrics in inference mode\n",
        "  for the passed data, at the end of each epoch.\n",
        "\n",
        "Here's an example using `validation_data`:"
      ]
    },
    {
      "metadata": {
        "id": "gFcXzVQa0E2N",
        "colab_type": "code",
        "colab": {
          "base_uri": "https://localhost:8080/",
          "height": 391
        },
        "outputId": "f72aa71b-1aa3-4d5a-fa06-44b975d7cb72"
      },
      "cell_type": "code",
      "source": [
        "import numpy as np\n",
        "\n",
        "data = np.random.random((1000, 32))\n",
        "labels = np.random.random((1000, 10))\n",
        "\n",
        "val_data = np.random.random((100, 32))\n",
        "val_labels = np.random.random((100, 10))\n",
        "\n",
        "model.fit(data, labels, epochs=10, batch_size=32,\n",
        "          validation_data=(val_data, val_labels))"
      ],
      "execution_count": 12,
      "outputs": [
        {
          "output_type": "stream",
          "text": [
            "Train on 1000 samples, validate on 100 samples\n",
            "Epoch 1/10\n",
            "1000/1000 [==============================] - 0s 72us/step - loss: 11.5715 - categorical_accuracy: 0.1110 - val_loss: 11.4862 - val_categorical_accuracy: 0.1600\n",
            "Epoch 2/10\n",
            "1000/1000 [==============================] - 0s 41us/step - loss: 11.5696 - categorical_accuracy: 0.1080 - val_loss: 11.4806 - val_categorical_accuracy: 0.0900\n",
            "Epoch 3/10\n",
            "1000/1000 [==============================] - 0s 48us/step - loss: 11.5685 - categorical_accuracy: 0.1150 - val_loss: 11.4773 - val_categorical_accuracy: 0.1500\n",
            "Epoch 4/10\n",
            "1000/1000 [==============================] - 0s 44us/step - loss: 11.5696 - categorical_accuracy: 0.0930 - val_loss: 11.4851 - val_categorical_accuracy: 0.0800\n",
            "Epoch 5/10\n",
            "1000/1000 [==============================] - 0s 39us/step - loss: 11.5685 - categorical_accuracy: 0.1000 - val_loss: 11.4850 - val_categorical_accuracy: 0.1900\n",
            "Epoch 6/10\n",
            "1000/1000 [==============================] - 0s 40us/step - loss: 11.5676 - categorical_accuracy: 0.1100 - val_loss: 11.4775 - val_categorical_accuracy: 0.1700\n",
            "Epoch 7/10\n",
            "1000/1000 [==============================] - 0s 46us/step - loss: 11.5662 - categorical_accuracy: 0.1250 - val_loss: 11.4820 - val_categorical_accuracy: 0.0700\n",
            "Epoch 8/10\n",
            "1000/1000 [==============================] - 0s 42us/step - loss: 11.5647 - categorical_accuracy: 0.1200 - val_loss: 11.4777 - val_categorical_accuracy: 0.1700\n",
            "Epoch 9/10\n",
            "1000/1000 [==============================] - 0s 39us/step - loss: 11.5648 - categorical_accuracy: 0.1340 - val_loss: 11.4924 - val_categorical_accuracy: 0.1600\n",
            "Epoch 10/10\n",
            "1000/1000 [==============================] - 0s 39us/step - loss: 11.5599 - categorical_accuracy: 0.1260 - val_loss: 11.5092 - val_categorical_accuracy: 0.1100\n"
          ],
          "name": "stdout"
        },
        {
          "output_type": "execute_result",
          "data": {
            "text/plain": [
              "<tensorflow.python.keras.callbacks.History at 0x7f68b6094350>"
            ]
          },
          "metadata": {
            "tags": []
          },
          "execution_count": 12
        }
      ]
    },
    {
      "metadata": {
        "id": "-6ImyXzz0E2Q",
        "colab_type": "text"
      },
      "cell_type": "markdown",
      "source": [
        "### Input tf.data datasets\n",
        "\n",
        "Use the [Datasets API](./datasets.md) to scale to large datasets\n",
        "or multi-device training. Pass a `tf.data.Dataset` instance to the `fit`\n",
        "method:"
      ]
    },
    {
      "metadata": {
        "id": "OziqhpIj0E2R",
        "colab_type": "code",
        "colab": {
          "base_uri": "https://localhost:8080/",
          "height": 374
        },
        "outputId": "5ec3263d-b685-42ec-827f-15d4c727feb6"
      },
      "cell_type": "code",
      "source": [
        "# Instantiates a toy dataset instance:\n",
        "dataset = tf.data.Dataset.from_tensor_slices((data, labels))\n",
        "dataset = dataset.batch(32)\n",
        "dataset = dataset.repeat()\n",
        "\n",
        "# Don't forget to specify `steps_per_epoch` when calling `fit` on a dataset.\n",
        "model.fit(dataset, epochs=10, steps_per_epoch=30)"
      ],
      "execution_count": 13,
      "outputs": [
        {
          "output_type": "stream",
          "text": [
            "Epoch 1/10\n",
            "30/30 [==============================] - 0s 4ms/step - loss: 11.5454 - categorical_accuracy: 0.1240\n",
            "Epoch 2/10\n",
            "30/30 [==============================] - 0s 1ms/step - loss: 11.4976 - categorical_accuracy: 0.1302\n",
            "Epoch 3/10\n",
            "30/30 [==============================] - 0s 1ms/step - loss: 11.5383 - categorical_accuracy: 0.1490\n",
            "Epoch 4/10\n",
            "30/30 [==============================] - 0s 1ms/step - loss: 11.5132 - categorical_accuracy: 0.1323\n",
            "Epoch 5/10\n",
            "30/30 [==============================] - 0s 1ms/step - loss: 11.4975 - categorical_accuracy: 0.1375\n",
            "Epoch 6/10\n",
            "30/30 [==============================] - 0s 1ms/step - loss: 11.4923 - categorical_accuracy: 0.1552\n",
            "Epoch 7/10\n",
            "30/30 [==============================] - 0s 1ms/step - loss: 11.5453 - categorical_accuracy: 0.1583\n",
            "Epoch 8/10\n",
            "30/30 [==============================] - 0s 1ms/step - loss: 11.5282 - categorical_accuracy: 0.1510\n",
            "Epoch 9/10\n",
            "30/30 [==============================] - 0s 1ms/step - loss: 11.4722 - categorical_accuracy: 0.1594\n",
            "Epoch 10/10\n",
            "30/30 [==============================] - 0s 1ms/step - loss: 11.4512 - categorical_accuracy: 0.1552\n"
          ],
          "name": "stdout"
        },
        {
          "output_type": "execute_result",
          "data": {
            "text/plain": [
              "<tensorflow.python.keras.callbacks.History at 0x7f68b33f0b10>"
            ]
          },
          "metadata": {
            "tags": []
          },
          "execution_count": 13
        }
      ]
    },
    {
      "metadata": {
        "id": "I7BcMHkB0E2U",
        "colab_type": "text"
      },
      "cell_type": "markdown",
      "source": [
        "Here, the `fit` method uses the `steps_per_epoch` argument—this is the number of\n",
        "training steps the model runs before it moves to the next epoch. Since the\n",
        "`Dataset` yields batches of data, this snippet does not require a `batch_size`.\n",
        "\n",
        "Datasets can also be used for validation:"
      ]
    },
    {
      "metadata": {
        "id": "YPMb3A0N0E2V",
        "colab_type": "code",
        "colab": {
          "base_uri": "https://localhost:8080/",
          "height": 374
        },
        "outputId": "b5e51e07-aa74-46da-f3e9-d69744a9ec64"
      },
      "cell_type": "code",
      "source": [
        "dataset = tf.data.Dataset.from_tensor_slices((data, labels))\n",
        "dataset = dataset.batch(32).repeat()\n",
        "\n",
        "val_dataset = tf.data.Dataset.from_tensor_slices((val_data, val_labels))\n",
        "val_dataset = val_dataset.batch(32).repeat()\n",
        "\n",
        "model.fit(dataset, epochs=10, steps_per_epoch=30,\n",
        "          validation_data=val_dataset,\n",
        "          validation_steps=3)"
      ],
      "execution_count": 14,
      "outputs": [
        {
          "output_type": "stream",
          "text": [
            "Epoch 1/10\n",
            "30/30 [==============================] - 0s 6ms/step - loss: 11.5068 - categorical_accuracy: 0.1604 - val_loss: 11.5189 - val_categorical_accuracy: 0.1146\n",
            "Epoch 2/10\n",
            "30/30 [==============================] - 0s 1ms/step - loss: 11.4603 - categorical_accuracy: 0.1708 - val_loss: 11.4891 - val_categorical_accuracy: 0.0729\n",
            "Epoch 3/10\n",
            "30/30 [==============================] - 0s 1ms/step - loss: 11.4972 - categorical_accuracy: 0.1760 - val_loss: 11.5724 - val_categorical_accuracy: 0.1458\n",
            "Epoch 4/10\n",
            "30/30 [==============================] - 0s 1ms/step - loss: 11.4792 - categorical_accuracy: 0.1708 - val_loss: 11.4539 - val_categorical_accuracy: 0.2083\n",
            "Epoch 5/10\n",
            "30/30 [==============================] - 0s 1ms/step - loss: 11.4605 - categorical_accuracy: 0.1771 - val_loss: 11.5266 - val_categorical_accuracy: 0.1250\n",
            "Epoch 6/10\n",
            "30/30 [==============================] - 0s 1ms/step - loss: 11.4571 - categorical_accuracy: 0.1802 - val_loss: 11.5262 - val_categorical_accuracy: 0.1562\n",
            "Epoch 7/10\n",
            "30/30 [==============================] - 0s 2ms/step - loss: 11.5099 - categorical_accuracy: 0.1729 - val_loss: 11.6054 - val_categorical_accuracy: 0.1250\n",
            "Epoch 8/10\n",
            "30/30 [==============================] - 0s 1ms/step - loss: 11.4981 - categorical_accuracy: 0.1802 - val_loss: 11.4818 - val_categorical_accuracy: 0.0938\n",
            "Epoch 9/10\n",
            "30/30 [==============================] - 0s 1ms/step - loss: 11.4403 - categorical_accuracy: 0.1865 - val_loss: 11.5818 - val_categorical_accuracy: 0.1042\n",
            "Epoch 10/10\n",
            "30/30 [==============================] - 0s 1ms/step - loss: 11.4236 - categorical_accuracy: 0.1885 - val_loss: 11.5332 - val_categorical_accuracy: 0.1042\n"
          ],
          "name": "stdout"
        },
        {
          "output_type": "execute_result",
          "data": {
            "text/plain": [
              "<tensorflow.python.keras.callbacks.History at 0x7f68b2b9b9d0>"
            ]
          },
          "metadata": {
            "tags": []
          },
          "execution_count": 14
        }
      ]
    },
    {
      "metadata": {
        "id": "IgGdlXso0E2X",
        "colab_type": "text"
      },
      "cell_type": "markdown",
      "source": [
        "### Evaluate and predict\n",
        "\n",
        "The `tf.keras.Model.evaluate` and `tf.keras.Model.predict` methods can use NumPy\n",
        "data and a `tf.data.Dataset`.\n",
        "\n",
        "To *evaluate* the inference-mode loss and metrics for the data provided:"
      ]
    },
    {
      "metadata": {
        "id": "mhDbOHEK0E2Y",
        "colab_type": "code",
        "colab": {
          "base_uri": "https://localhost:8080/",
          "height": 68
        },
        "outputId": "092970c2-4c07-4af8-8057-5588767a3e0d"
      },
      "cell_type": "code",
      "source": [
        "data = np.random.random((1000, 32))\n",
        "labels = np.random.random((1000, 10))\n",
        "\n",
        "model.evaluate(data, labels, batch_size=32)\n",
        "\n",
        "model.evaluate(dataset, steps=30)"
      ],
      "execution_count": 17,
      "outputs": [
        {
          "output_type": "stream",
          "text": [
            "1000/1000 [==============================] - 0s 60us/step\n",
            "30/30 [==============================] - 0s 2ms/step\n"
          ],
          "name": "stdout"
        },
        {
          "output_type": "execute_result",
          "data": {
            "text/plain": [
              "[11.491742610931396, 0.171875]"
            ]
          },
          "metadata": {
            "tags": []
          },
          "execution_count": 17
        }
      ]
    },
    {
      "metadata": {
        "id": "UXUTmDfb0E2b",
        "colab_type": "text"
      },
      "cell_type": "markdown",
      "source": [
        "And to *predict* the output of the last layer in inference for the data provided,\n",
        "as a NumPy array:"
      ]
    },
    {
      "metadata": {
        "id": "9e3JsSoQ0E2c",
        "colab_type": "code",
        "colab": {
          "base_uri": "https://localhost:8080/",
          "height": 238
        },
        "outputId": "4a155c73-bf0f-4398-ed91-81e8ae037752"
      },
      "cell_type": "code",
      "source": [
        "model.predict(data, batch_size=32)"
      ],
      "execution_count": 19,
      "outputs": [
        {
          "output_type": "execute_result",
          "data": {
            "text/plain": [
              "array([[0.08651027, 0.11150093, 0.10060506, ..., 0.10820732, 0.08056128,\n",
              "        0.10374879],\n",
              "       [0.10438695, 0.09854566, 0.09672558, ..., 0.09839065, 0.10074211,\n",
              "        0.10495251],\n",
              "       [0.10134231, 0.10117786, 0.09571415, ..., 0.10056727, 0.09754345,\n",
              "        0.10167129],\n",
              "       ...,\n",
              "       [0.12671246, 0.07874161, 0.13829686, ..., 0.11194731, 0.08029194,\n",
              "        0.08501249],\n",
              "       [0.06486149, 0.15455392, 0.10991681, ..., 0.11607713, 0.06429089,\n",
              "        0.12425699],\n",
              "       [0.09881883, 0.07996731, 0.08147062, ..., 0.082319  , 0.12147423,\n",
              "        0.10429092]], dtype=float32)"
            ]
          },
          "metadata": {
            "tags": []
          },
          "execution_count": 19
        }
      ]
    },
    {
      "metadata": {
        "id": "uzsM2yWC1xsF",
        "colab_type": "code",
        "colab": {
          "base_uri": "https://localhost:8080/",
          "height": 238
        },
        "outputId": "c82ebffc-9554-46ee-da1d-8d59878a9bd7"
      },
      "cell_type": "code",
      "source": [
        "model.predict(dataset, steps=30)"
      ],
      "execution_count": 20,
      "outputs": [
        {
          "output_type": "execute_result",
          "data": {
            "text/plain": [
              "array([[0.08651027, 0.11150093, 0.10060506, ..., 0.10820732, 0.08056128,\n",
              "        0.10374879],\n",
              "       [0.10438695, 0.09854566, 0.09672558, ..., 0.09839065, 0.10074211,\n",
              "        0.10495251],\n",
              "       [0.10134231, 0.10117786, 0.09571415, ..., 0.10056727, 0.09754345,\n",
              "        0.10167129],\n",
              "       ...,\n",
              "       [0.12671246, 0.07874161, 0.13829686, ..., 0.11194731, 0.08029194,\n",
              "        0.08501249],\n",
              "       [0.06486149, 0.15455392, 0.10991681, ..., 0.11607713, 0.06429089,\n",
              "        0.12425699],\n",
              "       [0.09881883, 0.07996731, 0.08147062, ..., 0.082319  , 0.12147423,\n",
              "        0.10429092]], dtype=float32)"
            ]
          },
          "metadata": {
            "tags": []
          },
          "execution_count": 20
        }
      ]
    },
    {
      "metadata": {
        "id": "fzEOW4Cn0E2h",
        "colab_type": "text"
      },
      "cell_type": "markdown",
      "source": [
        "## Build advanced models\n",
        "\n",
        "### Functional API\n",
        "\n",
        "The `tf.keras.Sequential` model is a simple stack of layers that cannot\n",
        "represent arbitrary models. Use the\n",
        "[Keras functional API](https://keras.io/getting-started/functional-api-guide/){:.external}\n",
        "to build complex model topologies such as:\n",
        "\n",
        "* Multi-input models,\n",
        "* Multi-output models,\n",
        "* Models with shared layers (the same layer called several times),\n",
        "* Models with non-sequential data flows (e.g. residual connections).\n",
        "\n",
        "Building a model with the functional API works like this:\n",
        "\n",
        "1. A layer instance is callable and returns a tensor.\n",
        "2. Input tensors and output tensors are used to define a `tf.keras.Model`\n",
        "   instance.\n",
        "3. This model is trained just like the `Sequential` model.\n",
        "\n",
        "The following example uses the functional API to build a simple, fully-connected\n",
        "network:"
      ]
    },
    {
      "metadata": {
        "id": "mROj832r0E2i",
        "colab_type": "code",
        "colab": {}
      },
      "cell_type": "code",
      "source": [
        "inputs = keras.Input(shape=(32,))  # Returns a placeholder tensor\n",
        "\n",
        "# A layer instance is callable on a tensor, and returns a tensor.\n",
        "x = keras.layers.Dense(64, activation='relu')(inputs)\n",
        "x = keras.layers.Dense(64, activation='relu')(x)\n",
        "predictions = keras.layers.Dense(10, activation='softmax')(x)"
      ],
      "execution_count": 0,
      "outputs": []
    },
    {
      "metadata": {
        "id": "AFmspHeG1_W7",
        "colab_type": "text"
      },
      "cell_type": "markdown",
      "source": [
        "Instantiate the model given inputs and outputs."
      ]
    },
    {
      "metadata": {
        "id": "5k5uzlyu16HM",
        "colab_type": "code",
        "colab": {
          "base_uri": "https://localhost:8080/",
          "height": 204
        },
        "outputId": "a8112a92-8a90-4300-8eaa-1cc458dd89a5"
      },
      "cell_type": "code",
      "source": [
        "model = keras.Model(inputs=inputs, outputs=predictions)\n",
        "\n",
        "# The compile step specifies the training configuration.\n",
        "model.compile(optimizer=tf.train.RMSPropOptimizer(0.001),\n",
        "              loss='categorical_crossentropy',\n",
        "              metrics=['accuracy'])\n",
        "\n",
        "# Trains for 5 epochs\n",
        "model.fit(data, labels, batch_size=32, epochs=5)"
      ],
      "execution_count": 23,
      "outputs": [
        {
          "output_type": "stream",
          "text": [
            "Epoch 1/5\n",
            "1000/1000 [==============================] - 0s 234us/step - loss: 11.5163 - acc: 0.0890\n",
            "Epoch 2/5\n",
            "1000/1000 [==============================] - 0s 41us/step - loss: 11.4500 - acc: 0.1030\n",
            "Epoch 3/5\n",
            "1000/1000 [==============================] - 0s 40us/step - loss: 11.4242 - acc: 0.1130\n",
            "Epoch 4/5\n",
            "1000/1000 [==============================] - 0s 48us/step - loss: 11.4127 - acc: 0.1040\n",
            "Epoch 5/5\n",
            "1000/1000 [==============================] - 0s 39us/step - loss: 11.4026 - acc: 0.1060\n"
          ],
          "name": "stdout"
        },
        {
          "output_type": "execute_result",
          "data": {
            "text/plain": [
              "<tensorflow.python.keras.callbacks.History at 0x7f68b340c510>"
            ]
          },
          "metadata": {
            "tags": []
          },
          "execution_count": 23
        }
      ]
    },
    {
      "metadata": {
        "id": "EcKSLH3i0E2k",
        "colab_type": "text"
      },
      "cell_type": "markdown",
      "source": [
        "### Model subclassing\n",
        "\n",
        "Build a fully-customizable model by subclassing `tf.keras.Model` and defining\n",
        "your own forward pass. Create layers in the `__init__` method and set them as\n",
        "attributes of the class instance. Define the forward pass in the `call` method.\n",
        "\n",
        "Model subclassing is particularly useful when\n",
        "[eager execution](./eager.md) is enabled since the forward pass\n",
        "can be written imperatively.\n",
        "\n",
        "Key Point: Use the right API for the job. While model subclassing offers\n",
        "flexibility, it comes at a cost of greater complexity and more opportunities for\n",
        "user errors. If possible, prefer the functional API.\n",
        "\n",
        "The following example shows a subclassed `tf.keras.Model` using a custom forward\n",
        "pass:"
      ]
    },
    {
      "metadata": {
        "id": "KLiHWzcn2Fzk",
        "colab_type": "code",
        "colab": {}
      },
      "cell_type": "code",
      "source": [
        "class MyModel(keras.Model):\n",
        "\n",
        "  def __init__(self, num_classes=10):\n",
        "    super(MyModel, self).__init__(name='my_model')\n",
        "    self.num_classes = num_classes\n",
        "    # Define your layers here.\n",
        "    self.dense_1 = keras.layers.Dense(32, activation='relu')\n",
        "    self.dense_2 = keras.layers.Dense(num_classes, activation='sigmoid')\n",
        "\n",
        "  def call(self, inputs):\n",
        "    # Define your forward pass here,\n",
        "    # using layers you previously defined (in `__init__`).\n",
        "    x = self.dense_1(inputs)\n",
        "    return self.dense_2(x)\n",
        "\n",
        "  def compute_output_shape(self, input_shape):\n",
        "    # You need to override this function if you want to use the subclassed model\n",
        "    # as part of a functional-style model.\n",
        "    # Otherwise, this method is optional.\n",
        "    shape = tf.TensorShape(input_shape).as_list()\n",
        "    shape[-1] = self.num_classes\n",
        "    return tf.TensorShape(shape)"
      ],
      "execution_count": 0,
      "outputs": []
    },
    {
      "metadata": {
        "id": "ShDD4fv72KGc",
        "colab_type": "text"
      },
      "cell_type": "markdown",
      "source": [
        "Instantiat the new model class:"
      ]
    },
    {
      "metadata": {
        "id": "42C-qQHm0E2l",
        "colab_type": "code",
        "colab": {
          "base_uri": "https://localhost:8080/",
          "height": 204
        },
        "outputId": "14ea31dc-d790-4656-841d-773f8ec7d1de"
      },
      "cell_type": "code",
      "source": [
        "model = MyModel(num_classes=10)\n",
        "\n",
        "# The compile step specifies the training configuration.\n",
        "model.compile(optimizer=tf.train.RMSPropOptimizer(0.001),\n",
        "              loss='categorical_crossentropy',\n",
        "              metrics=['accuracy'])\n",
        "\n",
        "# Trains for 5 epochs.\n",
        "model.fit(data, labels, batch_size=32, epochs=5)"
      ],
      "execution_count": 26,
      "outputs": [
        {
          "output_type": "stream",
          "text": [
            "Epoch 1/5\n",
            "1000/1000 [==============================] - 0s 274us/step - loss: 11.5761 - acc: 0.1120\n",
            "Epoch 2/5\n",
            "1000/1000 [==============================] - 0s 43us/step - loss: 11.5063 - acc: 0.1130\n",
            "Epoch 3/5\n",
            "1000/1000 [==============================] - 0s 46us/step - loss: 11.4344 - acc: 0.1150\n",
            "Epoch 4/5\n",
            "1000/1000 [==============================] - 0s 41us/step - loss: 11.4125 - acc: 0.1030\n",
            "Epoch 5/5\n",
            "1000/1000 [==============================] - 0s 43us/step - loss: 11.4059 - acc: 0.1150\n"
          ],
          "name": "stdout"
        },
        {
          "output_type": "execute_result",
          "data": {
            "text/plain": [
              "<tensorflow.python.keras.callbacks.History at 0x7f68b33fdcd0>"
            ]
          },
          "metadata": {
            "tags": []
          },
          "execution_count": 26
        }
      ]
    },
    {
      "metadata": {
        "id": "yqRQiKj20E2o",
        "colab_type": "text"
      },
      "cell_type": "markdown",
      "source": [
        "### Custom layers\n",
        "\n",
        "Create a custom layer by subclassing `tf.keras.layers.Layer` and implementing\n",
        "the following methods:\n",
        "\n",
        "* `build`: Create the weights of the layer. Add weights with the `add_weight`\n",
        "  method.\n",
        "* `call`: Define the forward pass.\n",
        "* `compute_output_shape`: Specify how to compute the output shape of the layer\n",
        "  given the input shape.\n",
        "* Optionally, a layer can be serialized by implementing the `get_config` method\n",
        "  and the `from_config` class method.\n",
        "\n",
        "Here's an example of a custom layer that implements a `matmul` of an input with\n",
        "a kernel matrix:"
      ]
    },
    {
      "metadata": {
        "id": "l7BFnIHr2WNc",
        "colab_type": "code",
        "colab": {}
      },
      "cell_type": "code",
      "source": [
        "class MyLayer(keras.layers.Layer):\n",
        "\n",
        "  def __init__(self, output_dim, **kwargs):\n",
        "    self.output_dim = output_dim\n",
        "    super(MyLayer, self).__init__(**kwargs)\n",
        "\n",
        "  def build(self, input_shape):\n",
        "    shape = tf.TensorShape((input_shape[1], self.output_dim))\n",
        "    # Create a trainable weight variable for this layer.\n",
        "    self.kernel = self.add_weight(name='kernel',\n",
        "                                  shape=shape,\n",
        "                                  initializer='uniform',\n",
        "                                  trainable=True)\n",
        "    # Be sure to call this at the end\n",
        "    super(MyLayer, self).build(input_shape)\n",
        "\n",
        "  def call(self, inputs):\n",
        "    return tf.matmul(inputs, self.kernel)\n",
        "\n",
        "  def compute_output_shape(self, input_shape):\n",
        "    shape = tf.TensorShape(input_shape).as_list()\n",
        "    shape[-1] = self.output_dim\n",
        "    return tf.TensorShape(shape)\n",
        "\n",
        "  def get_config(self):\n",
        "    base_config = super(MyLayer, self).get_config()\n",
        "    base_config['output_dim'] = self.output_dim\n",
        "    return base_config\n",
        "\n",
        "  @classmethod\n",
        "  def from_config(cls, config):\n",
        "    return cls(**config)"
      ],
      "execution_count": 0,
      "outputs": []
    },
    {
      "metadata": {
        "id": "8wXDRgXV2ZrF",
        "colab_type": "text"
      },
      "cell_type": "markdown",
      "source": [
        "Create a model using your custom layer:"
      ]
    },
    {
      "metadata": {
        "id": "uqH-cY0h0E2p",
        "colab_type": "code",
        "colab": {
          "base_uri": "https://localhost:8080/",
          "height": 204
        },
        "outputId": "0f713bd8-f9e1-4d44-9285-d0b794f34ada"
      },
      "cell_type": "code",
      "source": [
        "model = keras.Sequential([MyLayer(10),\n",
        "                          keras.layers.Activation('softmax')])\n",
        "\n",
        "# The compile step specifies the training configuration\n",
        "model.compile(optimizer=tf.train.RMSPropOptimizer(0.001),\n",
        "              loss='categorical_crossentropy',\n",
        "              metrics=['accuracy'])\n",
        "\n",
        "# Trains for 5 epochs.\n",
        "model.fit(data, labels, batch_size=32, epochs=5)"
      ],
      "execution_count": 29,
      "outputs": [
        {
          "output_type": "stream",
          "text": [
            "Epoch 1/5\n",
            "1000/1000 [==============================] - 0s 326us/step - loss: 11.4049 - acc: 0.1270\n",
            "Epoch 2/5\n",
            "1000/1000 [==============================] - 0s 42us/step - loss: 11.4018 - acc: 0.1190\n",
            "Epoch 3/5\n",
            "1000/1000 [==============================] - 0s 38us/step - loss: 11.4005 - acc: 0.1100\n",
            "Epoch 4/5\n",
            "1000/1000 [==============================] - 0s 40us/step - loss: 11.4000 - acc: 0.1100\n",
            "Epoch 5/5\n",
            "1000/1000 [==============================] - 0s 38us/step - loss: 11.3981 - acc: 0.1370\n"
          ],
          "name": "stdout"
        },
        {
          "output_type": "execute_result",
          "data": {
            "text/plain": [
              "<tensorflow.python.keras.callbacks.History at 0x7f68b10cc450>"
            ]
          },
          "metadata": {
            "tags": []
          },
          "execution_count": 29
        }
      ]
    },
    {
      "metadata": {
        "id": "Lu8cc3AJ0E2v",
        "colab_type": "text"
      },
      "cell_type": "markdown",
      "source": [
        "## Callbacks\n",
        "\n",
        "A callback is an object passed to a model to customize and extend its behavior\n",
        "during training. You can write your own custom callback, or use the built-in\n",
        "`tf.keras.callbacks` that include:\n",
        "\n",
        "* `tf.keras.callbacks.ModelCheckpoint`: Save checkpoints of your model at\n",
        "  regular intervals.\n",
        "* `tf.keras.callbacks.LearningRateScheduler`: Dynamically change the learning\n",
        "  rate.\n",
        "* `tf.keras.callbacks.EarlyStopping`: Interrupt training when validation\n",
        "  performance has stopped improving.\n",
        "* `tf.keras.callbacks.TensorBoard`: Monitor the model's behavior using\n",
        "  [TensorBoard](./summaries_and_tensorboard.md).\n",
        "\n",
        "To use a `tf.keras.callbacks.Callback`, pass it to the model's `fit` method:"
      ]
    },
    {
      "metadata": {
        "id": "rdYwzSYV0E2v",
        "colab_type": "code",
        "colab": {
          "base_uri": "https://localhost:8080/",
          "height": 221
        },
        "outputId": "eaf5d8fb-3c90-4d71-ad0c-a87eca8a603b"
      },
      "cell_type": "code",
      "source": [
        "callbacks = [\n",
        "  # Interrupt training if `val_loss` stops improving for over 2 epochs\n",
        "  keras.callbacks.EarlyStopping(patience=2, monitor='val_loss'),\n",
        "  # Write TensorBoard logs to `./logs` directory\n",
        "  keras.callbacks.TensorBoard(log_dir='./logs')\n",
        "]\n",
        "model.fit(data, labels, batch_size=32, epochs=5, callbacks=callbacks,\n",
        "          validation_data=(val_data, val_labels))"
      ],
      "execution_count": 31,
      "outputs": [
        {
          "output_type": "stream",
          "text": [
            "Train on 1000 samples, validate on 100 samples\n",
            "Epoch 1/5\n",
            "1000/1000 [==============================] - 0s 168us/step - loss: 11.3962 - acc: 0.1140 - val_loss: 11.4828 - val_acc: 0.0700\n",
            "Epoch 2/5\n",
            "1000/1000 [==============================] - 0s 56us/step - loss: 11.3940 - acc: 0.1280 - val_loss: 11.4848 - val_acc: 0.0500\n",
            "Epoch 3/5\n",
            "1000/1000 [==============================] - 0s 55us/step - loss: 11.3937 - acc: 0.1230 - val_loss: 11.4819 - val_acc: 0.1200\n",
            "Epoch 4/5\n",
            "1000/1000 [==============================] - 0s 67us/step - loss: 11.3924 - acc: 0.1230 - val_loss: 11.4879 - val_acc: 0.0800\n",
            "Epoch 5/5\n",
            "1000/1000 [==============================] - 0s 56us/step - loss: 11.3906 - acc: 0.1200 - val_loss: 11.4853 - val_acc: 0.1100\n"
          ],
          "name": "stdout"
        },
        {
          "output_type": "execute_result",
          "data": {
            "text/plain": [
              "<tensorflow.python.keras.callbacks.History at 0x7f68b0782850>"
            ]
          },
          "metadata": {
            "tags": []
          },
          "execution_count": 31
        }
      ]
    },
    {
      "metadata": {
        "id": "qnl7K-aI0E2z",
        "colab_type": "text"
      },
      "cell_type": "markdown",
      "source": [
        "## Save and restore\n",
        "\n",
        "### Weights only\n",
        "\n",
        "Save and load the weights of a model using `tf.keras.Model.save_weights`:"
      ]
    },
    {
      "metadata": {
        "id": "uQIANjB94fLB",
        "colab_type": "code",
        "colab": {}
      },
      "cell_type": "code",
      "source": [
        "model = keras.Sequential([\n",
        "layers.Dense(64, activation='relu'),\n",
        "layers.Dense(10, activation='softmax')])\n",
        "\n",
        "model.compile(optimizer=tf.train.AdamOptimizer(0.001),\n",
        "              loss='categorical_crossentropy',\n",
        "              metrics=['accuracy'])"
      ],
      "execution_count": 0,
      "outputs": []
    },
    {
      "metadata": {
        "id": "4eoHJ-ny0E21",
        "colab_type": "code",
        "colab": {
          "base_uri": "https://localhost:8080/",
          "height": 34
        },
        "outputId": "c2e4bae7-1687-499f-98c3-2407d6e715fd"
      },
      "cell_type": "code",
      "source": [
        "# Save weights to a TensorFlow Checkpoint file\n",
        "model.save_weights('./weights/my_model')\n",
        "\n",
        "# Restore the model's state,\n",
        "# this requires a model with the same architecture.\n",
        "model.load_weights('./weights/my_model')"
      ],
      "execution_count": 61,
      "outputs": [
        {
          "output_type": "execute_result",
          "data": {
            "text/plain": [
              "<tensorflow.python.training.checkpointable.util.CheckpointLoadStatus at 0x7f68b0181dd0>"
            ]
          },
          "metadata": {
            "tags": []
          },
          "execution_count": 61
        }
      ]
    },
    {
      "metadata": {
        "id": "u25Id3xe0E25",
        "colab_type": "text"
      },
      "cell_type": "markdown",
      "source": [
        "By default, this saves the model's weights in the\n",
        "[TensorFlow checkpoint](./checkpoints.md) file format. Weights can\n",
        "also be saved to the Keras HDF5 format (the default for the multi-backend\n",
        "implementation of Keras):"
      ]
    },
    {
      "metadata": {
        "id": "JSAYoFEd0E26",
        "colab_type": "code",
        "colab": {}
      },
      "cell_type": "code",
      "source": [
        "# Save weights to a HDF5 file\n",
        "model.save_weights('my_model.h5', save_format='h5')\n",
        "\n",
        "# Restore the model's state\n",
        "model.load_weights('my_model.h5')"
      ],
      "execution_count": 0,
      "outputs": []
    },
    {
      "metadata": {
        "id": "mje_yKL10E29",
        "colab_type": "text"
      },
      "cell_type": "markdown",
      "source": [
        "### Configuration only\n",
        "\n",
        "A model's configuration can be saved—this serializes the model architecture\n",
        "without any weights. A saved configuration can recreate and initialize the same\n",
        "model, even without the code that defined the original model. Keras supports\n",
        "JSON and YAML serialization formats:"
      ]
    },
    {
      "metadata": {
        "id": "pX_badhH3yWV",
        "colab_type": "code",
        "colab": {
          "base_uri": "https://localhost:8080/",
          "height": 54
        },
        "outputId": "3659017f-9eae-4246-9c40-d3daa123728f"
      },
      "cell_type": "code",
      "source": [
        "# Serialize a model to JSON format\n",
        "json_string = model.to_json()\n",
        "json_string"
      ],
      "execution_count": 63,
      "outputs": [
        {
          "output_type": "execute_result",
          "data": {
            "text/plain": [
              "'{\"class_name\": \"Sequential\", \"keras_version\": \"2.1.6-tf\", \"config\": {\"layers\": [{\"class_name\": \"Dense\", \"config\": {\"kernel_initializer\": {\"class_name\": \"GlorotUniform\", \"config\": {\"dtype\": \"float32\", \"seed\": null}}, \"name\": \"dense_37\", \"kernel_constraint\": null, \"bias_regularizer\": null, \"bias_constraint\": null, \"dtype\": null, \"activation\": \"relu\", \"trainable\": true, \"kernel_regularizer\": null, \"bias_initializer\": {\"class_name\": \"Zeros\", \"config\": {\"dtype\": \"float32\"}}, \"units\": 64, \"use_bias\": true, \"activity_regularizer\": null}}, {\"class_name\": \"Dense\", \"config\": {\"kernel_initializer\": {\"class_name\": \"GlorotUniform\", \"config\": {\"dtype\": \"float32\", \"seed\": null}}, \"name\": \"dense_38\", \"kernel_constraint\": null, \"bias_regularizer\": null, \"bias_constraint\": null, \"dtype\": null, \"activation\": \"softmax\", \"trainable\": true, \"kernel_regularizer\": null, \"bias_initializer\": {\"class_name\": \"Zeros\", \"config\": {\"dtype\": \"float32\"}}, \"units\": 10, \"use_bias\": true, \"activity_regularizer\": null}}], \"name\": \"sequential_8\"}, \"backend\": \"tensorflow\"}'"
            ]
          },
          "metadata": {
            "tags": []
          },
          "execution_count": 63
        }
      ]
    },
    {
      "metadata": {
        "id": "Q7CIa05r4yTb",
        "colab_type": "text"
      },
      "cell_type": "markdown",
      "source": [
        "Recreate the model (freshly initialized), from the json."
      ]
    },
    {
      "metadata": {
        "id": "J9UFv9k00E2_",
        "colab_type": "code",
        "colab": {}
      },
      "cell_type": "code",
      "source": [
        "fresh_model = keras.models.model_from_json(json_string)"
      ],
      "execution_count": 0,
      "outputs": []
    },
    {
      "metadata": {
        "id": "t5NHtICh4uHK",
        "colab_type": "text"
      },
      "cell_type": "markdown",
      "source": [
        "Serialize a model to YAML format"
      ]
    },
    {
      "metadata": {
        "id": "aj24KB3Z36S4",
        "colab_type": "code",
        "colab": {
          "base_uri": "https://localhost:8080/",
          "height": 782
        },
        "outputId": "b6d64930-dccb-442a-d6fb-f460a6a4119f"
      },
      "cell_type": "code",
      "source": [
        "yaml_string = model.to_yaml()\n",
        "print(yaml_string)"
      ],
      "execution_count": 67,
      "outputs": [
        {
          "output_type": "stream",
          "text": [
            "backend: tensorflow\n",
            "class_name: Sequential\n",
            "config:\n",
            "  layers:\n",
            "  - class_name: Dense\n",
            "    config:\n",
            "      activation: relu\n",
            "      activity_regularizer: null\n",
            "      bias_constraint: null\n",
            "      bias_initializer:\n",
            "        class_name: Zeros\n",
            "        config: {dtype: float32}\n",
            "      bias_regularizer: null\n",
            "      dtype: null\n",
            "      kernel_constraint: null\n",
            "      kernel_initializer:\n",
            "        class_name: GlorotUniform\n",
            "        config: {dtype: float32, seed: null}\n",
            "      kernel_regularizer: null\n",
            "      name: dense_37\n",
            "      trainable: true\n",
            "      units: 64\n",
            "      use_bias: true\n",
            "  - class_name: Dense\n",
            "    config:\n",
            "      activation: softmax\n",
            "      activity_regularizer: null\n",
            "      bias_constraint: null\n",
            "      bias_initializer:\n",
            "        class_name: Zeros\n",
            "        config: {dtype: float32}\n",
            "      bias_regularizer: null\n",
            "      dtype: null\n",
            "      kernel_constraint: null\n",
            "      kernel_initializer:\n",
            "        class_name: GlorotUniform\n",
            "        config: {dtype: float32, seed: null}\n",
            "      kernel_regularizer: null\n",
            "      name: dense_38\n",
            "      trainable: true\n",
            "      units: 10\n",
            "      use_bias: true\n",
            "  name: sequential_8\n",
            "keras_version: 2.1.6-tf\n",
            "\n"
          ],
          "name": "stdout"
        }
      ]
    },
    {
      "metadata": {
        "id": "O53Kerfl43v7",
        "colab_type": "text"
      },
      "cell_type": "markdown",
      "source": [
        "Recreate the model from the yaml"
      ]
    },
    {
      "metadata": {
        "id": "77yRuwg03_MG",
        "colab_type": "code",
        "colab": {}
      },
      "cell_type": "code",
      "source": [
        "\n",
        "fresh_model = keras.models.model_from_yaml(yaml_string)"
      ],
      "execution_count": 0,
      "outputs": []
    },
    {
      "metadata": {
        "id": "xPvOSSzM0E3B",
        "colab_type": "text"
      },
      "cell_type": "markdown",
      "source": [
        "Caution: Subclassed models are not serializable because their architecture is\n",
        "defined by the Python code in the body of the `call` method."
      ]
    },
    {
      "metadata": {
        "id": "iu8qMwld4-71",
        "colab_type": "text"
      },
      "cell_type": "markdown",
      "source": [
        "\n",
        "### Entire model\n",
        "\n",
        "The entire model can be saved to a file that contains the weight values, the\n",
        "model's configuration, and even the optimizer's configuration. This allows you\n",
        "to checkpoint a model and resume training later—from the exact same\n",
        "state—without access to the original code."
      ]
    },
    {
      "metadata": {
        "id": "45oNY34Z0E3C",
        "colab_type": "code",
        "colab": {
          "base_uri": "https://localhost:8080/",
          "height": 232
        },
        "outputId": "3b216a33-b146-4385-86ff-45e369000de5"
      },
      "cell_type": "code",
      "source": [
        "# Create a trivial model\n",
        "model = keras.Sequential([\n",
        "  keras.layers.Dense(10, activation='softmax', input_shape=(32,)),\n",
        "  keras.layers.Dense(10, activation='softmax')\n",
        "])\n",
        "model.compile(optimizer='rmsprop',\n",
        "              loss='categorical_crossentropy',\n",
        "              metrics=['accuracy'])\n",
        "model.fit(data, targets, batch_size=32, epochs=5)\n",
        "\n",
        "\n",
        "# Save entire model to a HDF5 file\n",
        "model.save('my_model.h5')\n",
        "\n",
        "# Recreate the exact same model, including weights and optimizer.\n",
        "model = keras.models.load_model('my_model.h5')"
      ],
      "execution_count": 70,
      "outputs": [
        {
          "output_type": "error",
          "ename": "NameError",
          "evalue": "ignored",
          "traceback": [
            "\u001b[0;31m\u001b[0m",
            "\u001b[0;31mNameError\u001b[0mTraceback (most recent call last)",
            "\u001b[0;32m<ipython-input-70-b3d527b0b219>\u001b[0m in \u001b[0;36m<module>\u001b[0;34m()\u001b[0m\n\u001b[1;32m      6\u001b[0m               \u001b[0mloss\u001b[0m\u001b[0;34m=\u001b[0m\u001b[0;34m'categorical_crossentropy'\u001b[0m\u001b[0;34m,\u001b[0m\u001b[0;34m\u001b[0m\u001b[0m\n\u001b[1;32m      7\u001b[0m               metrics=['accuracy'])\n\u001b[0;32m----> 8\u001b[0;31m \u001b[0mmodel\u001b[0m\u001b[0;34m.\u001b[0m\u001b[0mfit\u001b[0m\u001b[0;34m(\u001b[0m\u001b[0mdata\u001b[0m\u001b[0;34m,\u001b[0m \u001b[0mtargets\u001b[0m\u001b[0;34m,\u001b[0m \u001b[0mbatch_size\u001b[0m\u001b[0;34m=\u001b[0m\u001b[0;36m32\u001b[0m\u001b[0;34m,\u001b[0m \u001b[0mepochs\u001b[0m\u001b[0;34m=\u001b[0m\u001b[0;36m5\u001b[0m\u001b[0;34m)\u001b[0m\u001b[0;34m\u001b[0m\u001b[0m\n\u001b[0m\u001b[1;32m      9\u001b[0m \u001b[0;34m\u001b[0m\u001b[0m\n\u001b[1;32m     10\u001b[0m \u001b[0;34m\u001b[0m\u001b[0m\n",
            "\u001b[0;31mNameError\u001b[0m: name 'targets' is not defined"
          ]
        }
      ]
    },
    {
      "metadata": {
        "id": "PMOWhDOB0E3E",
        "colab_type": "text"
      },
      "cell_type": "markdown",
      "source": [
        "## Eager execution\n",
        "\n",
        "[Eager execution](./eager.md) is an imperative programming\n",
        "environment that evaluates operations immediately. This is not required for\n",
        "Keras, but is supported by `tf.keras` and useful for inspecting your program and\n",
        "debugging.\n",
        "\n",
        "All of the `tf.keras` model-building APIs are compatible with eager execution.\n",
        "And while the `Sequential` and functional APIs can be used, eager execution\n",
        "especially benefits *model subclassing* and building *custom layers*—the APIs\n",
        "that require you to write the forward pass as code (instead of the APIs that\n",
        "create models by assembling existing layers).\n",
        "\n",
        "See the [eager execution guide](./eager.md#build_a_model) for\n",
        "examples of using Keras models with custom training loops and `tf.GradientTape`."
      ]
    },
    {
      "metadata": {
        "id": "2wG3NVco5B5V",
        "colab_type": "text"
      },
      "cell_type": "markdown",
      "source": [
        "## Distribution\n",
        "\n",
        "### Estimators\n",
        "\n",
        "The [Estimators](./estimators.md) API is used for training models\n",
        "for distributed environments. This targets industry use cases such as\n",
        "distributed training on large datasets that can export a model for production.\n",
        "\n",
        "A `tf.keras.Model` can be trained with the `tf.estimator` API by converting the\n",
        "model to an `tf.estimator.Estimator` object with\n",
        "`tf.keras.estimator.model_to_estimator`. See\n",
        "[Creating Estimators from Keras models](./estimators.md#creating_estimators_from_keras_models)."
      ]
    },
    {
      "metadata": {
        "id": "cVg0vfTO0E3E",
        "colab_type": "code",
        "colab": {
          "base_uri": "https://localhost:8080/",
          "height": 207
        },
        "outputId": "c86e5e49-b9fe-40f3-9059-943bfa49761d"
      },
      "cell_type": "code",
      "source": [
        "model = keras.Sequential([layers.Dense(10,activation='softmax'),\n",
        "                          layers.Dense(10,activation='softmax')])\n",
        "\n",
        "model.compile(optimizer=tf.train.RMSPropOptimizer(0.001),\n",
        "              loss='categorical_crossentropy',\n",
        "              metrics=['accuracy'])\n",
        "\n",
        "estimator = keras.estimator.model_to_estimator(model)"
      ],
      "execution_count": 71,
      "outputs": [
        {
          "output_type": "stream",
          "text": [
            "INFO:tensorflow:Using default config.\n",
            "WARNING:tensorflow:Using temporary folder as model directory: /tmp/tmp7CrOgB\n",
            "INFO:tensorflow:Using the Keras model provided.\n",
            "INFO:tensorflow:Using config: {'_save_checkpoints_secs': 600, '_num_ps_replicas': 0, '_keep_checkpoint_max': 5, '_task_type': 'worker', '_global_id_in_cluster': 0, '_is_chief': True, '_cluster_spec': <tensorflow.python.training.server_lib.ClusterSpec object at 0x7f68b105b050>, '_model_dir': '/tmp/tmp7CrOgB', '_protocol': None, '_save_checkpoints_steps': None, '_keep_checkpoint_every_n_hours': 10000, '_service': None, '_session_config': allow_soft_placement: true\n",
            "graph_options {\n",
            "  rewrite_options {\n",
            "    meta_optimizer_iterations: ONE\n",
            "  }\n",
            "}\n",
            ", '_tf_random_seed': None, '_save_summary_steps': 100, '_device_fn': None, '_experimental_distribute': None, '_num_worker_replicas': 1, '_task_id': 0, '_log_step_count_steps': 100, '_evaluation_master': '', '_eval_distribute': None, '_train_distribute': None, '_master': ''}\n"
          ],
          "name": "stdout"
        }
      ]
    },
    {
      "metadata": {
        "id": "S7FKvikO0E3H",
        "colab_type": "text"
      },
      "cell_type": "markdown",
      "source": [
        "Note: Enable [eager execution](./eager.md) for debugging\n",
        "[Estimator input functions](./premade_estimators.md#create_input_functions)\n",
        "and inspecting data."
      ]
    },
    {
      "metadata": {
        "id": "6PJZ6e9J5JHF",
        "colab_type": "text"
      },
      "cell_type": "markdown",
      "source": [
        "### Multiple GPUs\n",
        "\n",
        "`tf.keras` models can run on multiple GPUs using\n",
        "`tf.contrib.distribute.DistributionStrategy`. This API provides distributed\n",
        "training on multiple GPUs with almost no changes to existing code.\n",
        "\n",
        "Currently, `tf.contrib.distribute.MirroredStrategy` is the only supported\n",
        "distribution strategy. `MirroredStrategy` does in-graph replication with\n",
        "synchronous training using all-reduce on a single machine. To use\n",
        "`DistributionStrategy` with Keras, convert the `tf.keras.Model` to a\n",
        "`tf.estimator.Estimator` with `tf.keras.estimator.model_to_estimator`, then\n",
        "train the estimator\n",
        "\n",
        "The following example distributes a `tf.keras.Model` across multiple GPUs on a\n",
        "single machine.\n",
        "\n",
        "First, define a simple model:"
      ]
    },
    {
      "metadata": {
        "id": "sbaRr7g-0E3I",
        "colab_type": "code",
        "colab": {
          "base_uri": "https://localhost:8080/",
          "height": 204
        },
        "outputId": "66b3250b-7b31-40bf-e32b-63e9999d6e3e"
      },
      "cell_type": "code",
      "source": [
        "model = keras.Sequential()\n",
        "model.add(keras.layers.Dense(16, activation='relu', input_shape=(10,)))\n",
        "model.add(keras.layers.Dense(1, activation='sigmoid'))\n",
        "\n",
        "optimizer = tf.train.GradientDescentOptimizer(0.2)\n",
        "\n",
        "model.compile(loss='binary_crossentropy', optimizer=optimizer)\n",
        "model.summary()"
      ],
      "execution_count": 72,
      "outputs": [
        {
          "output_type": "stream",
          "text": [
            "_________________________________________________________________\n",
            "Layer (type)                 Output Shape              Param #   \n",
            "=================================================================\n",
            "dense_43 (Dense)             (None, 16)                176       \n",
            "_________________________________________________________________\n",
            "dense_44 (Dense)             (None, 1)                 17        \n",
            "=================================================================\n",
            "Total params: 193\n",
            "Trainable params: 193\n",
            "Non-trainable params: 0\n",
            "_________________________________________________________________\n"
          ],
          "name": "stdout"
        }
      ]
    },
    {
      "metadata": {
        "id": "yw4hSJme0E3L",
        "colab_type": "text"
      },
      "cell_type": "markdown",
      "source": [
        "Define an *input pipeline*. The `input_fn` returns a `tf.data.Dataset` object\n",
        "used to distribute the data across multiple devices—with each device processing\n",
        "a slice of the input batch."
      ]
    },
    {
      "metadata": {
        "id": "CxJW1QMH0E3L",
        "colab_type": "code",
        "colab": {}
      },
      "cell_type": "code",
      "source": [
        "def input_fn():\n",
        "  x = np.random.random((1024, 10))\n",
        "  y = np.random.randint(2, size=(1024, 1))\n",
        "  x = tf.cast(x, tf.float32)\n",
        "  dataset = tf.data.Dataset.from_tensor_slices((x, y))\n",
        "  dataset = dataset.repeat(10)\n",
        "  dataset = dataset.batch(32)\n",
        "  return dataset"
      ],
      "execution_count": 0,
      "outputs": []
    },
    {
      "metadata": {
        "id": "rO9MiL6X0E3O",
        "colab_type": "text"
      },
      "cell_type": "markdown",
      "source": [
        "Next, create a `tf.estimator.RunConfig` and set the `train_distribute` argument\n",
        "to the `tf.contrib.distribute.MirroredStrategy` instance. When creating\n",
        "`MirroredStrategy`, you can specify a list of devices or set the `num_gpus`\n",
        "argument. The default uses all available GPUs, like the following:"
      ]
    },
    {
      "metadata": {
        "id": "BEwFq4PM0E3P",
        "colab_type": "code",
        "colab": {
          "base_uri": "https://localhost:8080/",
          "height": 51
        },
        "outputId": "c39aaf15-d4e9-4673-9cb8-678db61849a6"
      },
      "cell_type": "code",
      "source": [
        "strategy = tf.contrib.distribute.MirroredStrategy()\n",
        "config = tf.estimator.RunConfig(train_distribute=strategy)"
      ],
      "execution_count": 74,
      "outputs": [
        {
          "output_type": "stream",
          "text": [
            "INFO:tensorflow:Initializing RunConfig with distribution strategies.\n",
            "INFO:tensorflow:Not using Distribute Coordinator.\n"
          ],
          "name": "stdout"
        }
      ]
    },
    {
      "metadata": {
        "id": "TcnwYVun0E3R",
        "colab_type": "text"
      },
      "cell_type": "markdown",
      "source": [
        "Convert the Keras model to a `tf.estimator.Estimator` instance:"
      ]
    },
    {
      "metadata": {
        "id": "VSvbuIID0E3S",
        "colab_type": "code",
        "colab": {
          "base_uri": "https://localhost:8080/",
          "height": 173
        },
        "outputId": "ad5885f6-4e9f-477a-a7d8-06519d7028de"
      },
      "cell_type": "code",
      "source": [
        "keras_estimator = keras.estimator.model_to_estimator(\n",
        "  keras_model=model,\n",
        "  config=config,\n",
        "  model_dir='/tmp/model_dir')"
      ],
      "execution_count": 75,
      "outputs": [
        {
          "output_type": "stream",
          "text": [
            "INFO:tensorflow:Using the Keras model provided.\n",
            "INFO:tensorflow:Using config: {'_save_checkpoints_secs': 600, '_num_ps_replicas': 0, '_keep_checkpoint_max': 5, '_task_type': 'worker', '_global_id_in_cluster': 0, '_is_chief': True, '_cluster_spec': <tensorflow.python.training.server_lib.ClusterSpec object at 0x7f68afc8e710>, '_model_dir': '/tmp/model_dir', '_protocol': None, '_save_checkpoints_steps': None, '_keep_checkpoint_every_n_hours': 10000, '_service': None, '_session_config': allow_soft_placement: true\n",
            "graph_options {\n",
            "  rewrite_options {\n",
            "    meta_optimizer_iterations: ONE\n",
            "  }\n",
            "}\n",
            ", '_tf_random_seed': None, '_save_summary_steps': 100, '_device_fn': None, '_experimental_distribute': None, '_num_worker_replicas': 1, '_task_id': 0, '_log_step_count_steps': 100, '_evaluation_master': '', '_eval_distribute': None, '_train_distribute': <tensorflow.contrib.distribute.python.mirrored_strategy.MirroredStrategy object at 0x7f68b1259fd0>, '_master': '', '_distribute_coordinator_mode': None}\n"
          ],
          "name": "stdout"
        }
      ]
    },
    {
      "metadata": {
        "id": "N6BXU5F90E3U",
        "colab_type": "text"
      },
      "cell_type": "markdown",
      "source": [
        "Finally, train the `Estimator` instance by providing the `input_fn` and `steps`\n",
        "arguments:"
      ]
    },
    {
      "metadata": {
        "id": "XKoJ2wUH0E3U",
        "colab_type": "code",
        "colab": {
          "base_uri": "https://localhost:8080/",
          "height": 360
        },
        "outputId": "ad40ce73-58b3-45d2-9de5-07d0bd39c0c3"
      },
      "cell_type": "code",
      "source": [
        "keras_estimator.train(input_fn=input_fn, steps=10)"
      ],
      "execution_count": 76,
      "outputs": [
        {
          "output_type": "stream",
          "text": [
            "WARNING:tensorflow:Not all devices in DistributionStrategy are visible to TensorFlow session.\n",
            "INFO:tensorflow:Calling model_fn.\n",
            "INFO:tensorflow:Done calling model_fn.\n",
            "INFO:tensorflow:Warm-starting with WarmStartSettings: WarmStartSettings(ckpt_to_initialize_from='/tmp/model_dir/keras/keras_model.ckpt', vars_to_warm_start='.*', var_name_to_vocab_info={}, var_name_to_prev_var_name={})\n",
            "INFO:tensorflow:Warm-starting from: ('/tmp/model_dir/keras/keras_model.ckpt',)\n",
            "INFO:tensorflow:Warm-starting variable: dense_43/bias; prev_var_name: Unchanged\n",
            "INFO:tensorflow:Warm-starting variable: dense_44/kernel; prev_var_name: Unchanged\n",
            "INFO:tensorflow:Warm-starting variable: dense_44/bias; prev_var_name: Unchanged\n",
            "INFO:tensorflow:Warm-starting variable: dense_43/kernel; prev_var_name: Unchanged\n",
            "INFO:tensorflow:Create CheckpointSaverHook.\n",
            "INFO:tensorflow:Graph was finalized.\n",
            "INFO:tensorflow:Running local_init_op.\n",
            "INFO:tensorflow:Done running local_init_op.\n",
            "INFO:tensorflow:Saving checkpoints for 0 into /tmp/model_dir/model.ckpt.\n",
            "INFO:tensorflow:loss = 0.6286142, step = 0\n",
            "INFO:tensorflow:Saving checkpoints for 10 into /tmp/model_dir/model.ckpt.\n",
            "INFO:tensorflow:Finalize system.\n",
            "INFO:tensorflow:Loss for final step: 0.7201078.\n"
          ],
          "name": "stdout"
        },
        {
          "output_type": "execute_result",
          "data": {
            "text/plain": [
              "<tensorflow.python.estimator.estimator.Estimator at 0x7f68af584890>"
            ]
          },
          "metadata": {
            "tags": []
          },
          "execution_count": 76
        }
      ]
    },
    {
      "metadata": {
        "id": "6b9jAuJ25NuM",
        "colab_type": "code",
        "colab": {}
      },
      "cell_type": "code",
      "source": [
        ""
      ],
      "execution_count": 0,
      "outputs": []
    }
  ]
}