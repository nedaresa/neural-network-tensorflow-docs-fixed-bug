{
  "nbformat": 4,
  "nbformat_minor": 0,
  "metadata": {
    "colab": {
      "name": "keras.ipynb",
      "version": "0.3.2",
      "provenance": [],
      "toc_visible": true
    },
    "kernelspec": {
      "name": "python3",
      "display_name": "Python 3"
    }
  },
  "cells": [
    {
      "metadata": {
        "id": "CCQY7jpBfMur",
        "colab_type": "text"
      },
      "cell_type": "markdown",
      "source": [
        "##### Copyright 2018 The TensorFlow Authors."
      ]
    },
    {
      "metadata": {
        "id": "z6X9omPnfO_h",
        "colab_type": "code",
        "colab": {}
      },
      "cell_type": "code",
      "source": [
        "#@title Licensed under the Apache License, Version 2.0 (the \"License\");\n",
        "# you may not use this file except in compliance with the License.\n",
        "# You may obtain a copy of the License at\n",
        "#\n",
        "# https://www.apache.org/licenses/LICENSE-2.0\n",
        "#\n",
        "# Unless required by applicable law or agreed to in writing, software\n",
        "# distributed under the License is distributed on an \"AS IS\" BASIS,\n",
        "# WITHOUT WARRANTIES OR CONDITIONS OF ANY KIND, either express or implied.\n",
        "# See the License for the specific language governing permissions and\n",
        "# limitations under the License."
      ],
      "execution_count": 0,
      "outputs": []
    },
    {
      "metadata": {
        "id": "F1xIRPtY0E1w",
        "colab_type": "text"
      },
      "cell_type": "markdown",
      "source": [
        "# Keras"
      ]
    },
    {
      "metadata": {
        "id": "VyOjQZHhZxaA",
        "colab_type": "text"
      },
      "cell_type": "markdown",
      "source": [
        "<table class=\"tfo-notebook-buttons\" align=\"left\">\n",
        "  <td>\n",
        "    <a target=\"_blank\" href=\"https://www.tensorflow.org/guide/eager\"><img src=\"https://www.tensorflow.org/images/tf_logo_32px.png\" />View on TensorFlow.org</a>\n",
        "  </td>\n",
        "  <td>\n",
        "    <a target=\"_blank\" href=\"https://colab.research.google.com/github/tensorflow/docs/blob/master/site/en/guide/eager.ipynb\"><img src=\"https://www.tensorflow.org/images/colab_logo_32px.png\" />Run in Google Colab</a>\n",
        "  </td>\n",
        "  <td>\n",
        "    <a target=\"_blank\" href=\"https://github.com/tensorflow/docs/blob/master/site/en/guide/eager.ipynb\"><img src=\"https://www.tensorflow.org/images/GitHub-Mark-32px.png\" />View source on GitHub</a>\n",
        "  </td>\n",
        "</table>"
      ]
    },
    {
      "metadata": {
        "id": "ViAXWoKlZ8s6",
        "colab_type": "text"
      },
      "cell_type": "markdown",
      "source": [
        "Keras is a high-level API to build and train deep learning models. It's used for\n",
        "fast prototyping, advanced research, and production, with three key advantages:\n",
        "\n",
        "- *User friendly*<br>\n",
        "  Keras has a simple, consistent interface optimized for common use cases. It\n",
        "  provides clear and actionable feedback for user errors.\n",
        "- *Modular and composable*<br>\n",
        "  Keras models are made by connecting configurable building blocks together,\n",
        "  with few restrictions.\n",
        "- *Easy to extend*<br> Write custom building blocks to express new ideas for\n",
        "  research. Create new layers, loss functions, and develop state-of-the-art\n",
        "  models."
      ]
    },
    {
      "metadata": {
        "id": "IsK5aF2xZ-40",
        "colab_type": "text"
      },
      "cell_type": "markdown",
      "source": [
        "## Import tf.keras\n",
        "\n",
        "`tf.keras` is TensorFlow's implementation of the\n",
        "[Keras API specification](https://keras.io){:.external}. This is a high-level\n",
        "API to build and train models that includes first-class support for\n",
        "TensorFlow-specific functionality, such as [eager execution](#eager_execution),\n",
        "`tf.data` pipelines, and [Estimators](./estimators.md).\n",
        "`tf.keras` makes TensorFlow easier to use without sacrificing flexibility and\n",
        "performance.\n",
        "\n",
        "To get started, import `tf.keras` as part of your TensorFlow program setup:"
      ]
    },
    {
      "metadata": {
        "id": "TgPcBFru0E1z",
        "colab_type": "code",
        "colab": {
          "base_uri": "https://localhost:8080/",
          "height": 51
        },
        "outputId": "9aef0f0c-b1e4-441e-f384-4286ad4add80"
      },
      "cell_type": "code",
      "source": [
        "import tensorflow as tf\n",
        "from tensorflow import keras\n",
        "from tensorflow.keras import layers\n",
        "\n",
        "print(tf.VERSION)\n",
        "print(tf.keras.__version__)"
      ],
      "execution_count": 2,
      "outputs": [
        {
          "output_type": "stream",
          "text": [
            "1.12.0-rc1\n",
            "2.1.6-tf\n"
          ],
          "name": "stdout"
        }
      ]
    },
    {
      "metadata": {
        "id": "lj03RamP0E13",
        "colab_type": "text"
      },
      "cell_type": "markdown",
      "source": [
        "`tf.keras` can run any Keras-compatible code, but keep in mind:\n",
        "\n",
        "* The `tf.keras` version in the latest TensorFlow release might not be the same\n",
        "  as the latest `keras` version from PyPI. Check `tf.keras.__version__`.\n",
        "* When [saving a model's weights](#weights_only), `tf.keras` defaults to the\n",
        "  [checkpoint format](./checkpoints.md). Pass `save_format='h5'` to\n",
        "  use HDF5."
      ]
    },
    {
      "metadata": {
        "id": "7e1LPcXx0gR6",
        "colab_type": "text"
      },
      "cell_type": "markdown",
      "source": [
        "## Build a simple model\n",
        "\n",
        "### Sequential model\n",
        "\n",
        "In Keras, you assemble *layers* to build *models*. A model is (usually) a graph\n",
        "of layers. The most common type of model is a stack of layers: the\n",
        "`tf.keras.Sequential` model.\n",
        "\n",
        "To build a simple, fully-connected network (i.e. multi-layer perceptron):"
      ]
    },
    {
      "metadata": {
        "id": "WM-DUVQB0E14",
        "colab_type": "code",
        "colab": {}
      },
      "cell_type": "code",
      "source": [
        "model = keras.Sequential()\n",
        "# Adds a densely-connected layer with 64 units to the model:\n",
        "model.add(keras.layers.Dense(64, activation='relu'))\n",
        "# Add another:\n",
        "model.add(keras.layers.Dense(64, activation='relu'))\n",
        "# Add a softmax layer with 10 output units:\n",
        "model.add(keras.layers.Dense(10, activation='softmax'))"
      ],
      "execution_count": 0,
      "outputs": []
    },
    {
      "metadata": {
        "id": "-ztyTipu0E18",
        "colab_type": "text"
      },
      "cell_type": "markdown",
      "source": [
        "### Configure the layers\n",
        "\n",
        "There are many `tf.keras.layers` available with some common constructor\n",
        "parameters:\n",
        "\n",
        "* `activation`: Set the activation function for the layer. This parameter is\n",
        "  specified by the name of a built-in function or as a callable object. By\n",
        "  default, no activation is applied.\n",
        "* `kernel_initializer` and `bias_initializer`: The initialization schemes\n",
        "  that create the layer's weights (kernel and bias). This parameter is a name or\n",
        "  a callable object. This defaults to the `\"Glorot uniform\"` initializer.\n",
        "* `kernel_regularizer` and `bias_regularizer`: The regularization schemes\n",
        "  that apply the layer's weights (kernel and bias), such as L1 or L2\n",
        "  regularization. By default, no regularization is applied.\n",
        "\n",
        "The following instantiates `tf.keras.layers.Dense` layers using constructor\n",
        "arguments:"
      ]
    },
    {
      "metadata": {
        "id": "MlL7PBtp0E19",
        "colab_type": "code",
        "colab": {
          "base_uri": "https://localhost:8080/",
          "height": 34
        },
        "outputId": "5ff04b42-5ae6-47b4-e8c7-0dbb8032af3f"
      },
      "cell_type": "code",
      "source": [
        "# Create a sigmoid layer:\n",
        "layers.Dense(64, activation='sigmoid')\n",
        "# Or:\n",
        "layers.Dense(64, activation=tf.sigmoid)\n",
        "\n",
        "# A linear layer with L1 regularization of factor 0.01 applied to the kernel matrix:\n",
        "layers.Dense(64, kernel_regularizer=keras.regularizers.l1(0.01))\n",
        "\n",
        "# A linear layer with L2 regularization of factor 0.01 applied to the bias vector:\n",
        "layers.Dense(64, bias_regularizer=keras.regularizers.l2(0.01))\n",
        "\n",
        "# A linear layer with a kernel initialized to a random orthogonal matrix:\n",
        "layers.Dense(64, kernel_initializer='orthogonal')\n",
        "\n",
        "# A linear layer with a bias vector initialized to 2.0s:\n",
        "layers.Dense(64, bias_initializer=keras.initializers.constant(2.0))"
      ],
      "execution_count": 4,
      "outputs": [
        {
          "output_type": "execute_result",
          "data": {
            "text/plain": [
              "<tensorflow.python.keras.layers.core.Dense at 0x7ff7a4d6dba8>"
            ]
          },
          "metadata": {
            "tags": []
          },
          "execution_count": 4
        }
      ]
    },
    {
      "metadata": {
        "id": "9NR6reyk0E2A",
        "colab_type": "text"
      },
      "cell_type": "markdown",
      "source": [
        "## Train and evaluate\n",
        "\n",
        "### Set up training\n",
        "\n",
        "After the model is constructed, configure its learning process by calling the\n",
        "`compile` method:"
      ]
    },
    {
      "metadata": {
        "id": "sJ4AOn090E2A",
        "colab_type": "code",
        "colab": {}
      },
      "cell_type": "code",
      "source": [
        "model = keras.Sequential([\n",
        "# Adds a densely-connected layer with 64 units to the model:\n",
        "layers.Dense(64, activation='relu'),\n",
        "# Add another:\n",
        "layers.Dense(64, activation='relu'),\n",
        "# Add a softmax layer with 10 output units:\n",
        "layers.Dense(10, activation='softmax')])\n",
        "\n",
        "model.compile(optimizer=tf.train.AdamOptimizer(0.001),\n",
        "              loss='categorical_crossentropy',\n",
        "              metrics=['accuracy'])"
      ],
      "execution_count": 0,
      "outputs": []
    },
    {
      "metadata": {
        "id": "HG-RAa9F0E2D",
        "colab_type": "text"
      },
      "cell_type": "markdown",
      "source": [
        "`tf.keras.Model.compile` takes three important arguments:\n",
        "\n",
        "* `optimizer`: This object specifies the training procedure. Pass it optimizer\n",
        "  instances from the `tf.train` module, such as\n",
        "  `tf.train.AdamOptimizer`, `tf.train.RMSPropOptimizer`, or\n",
        "  `tf.train.GradientDescentOptimizer`.\n",
        "* `loss`: The function to minimize during optimization. Common choices include\n",
        "  mean square error (`mse`), `categorical_crossentropy`, and\n",
        "  `binary_crossentropy`. Loss functions are specified by name or by\n",
        "  passing a callable object from the `tf.keras.losses` module.\n",
        "* `metrics`: Used to monitor training. These are string names or callables from\n",
        "  the `tf.keras.metrics` module.\n",
        "\n",
        "The following shows a few examples of configuring a model for training:"
      ]
    },
    {
      "metadata": {
        "id": "St4Mgdar0E2E",
        "colab_type": "code",
        "colab": {}
      },
      "cell_type": "code",
      "source": [
        "# Configure a model for mean-squared error regression.\n",
        "model.compile(optimizer=tf.train.AdamOptimizer(0.01),\n",
        "              loss='mse',       # mean squared error\n",
        "              metrics=['mae'])  # mean absolute error\n",
        "\n",
        "# Configure a model for categorical classification.\n",
        "model.compile(optimizer=tf.train.RMSPropOptimizer(0.01),\n",
        "              loss=keras.losses.categorical_crossentropy,\n",
        "              metrics=[keras.metrics.categorical_accuracy])"
      ],
      "execution_count": 0,
      "outputs": []
    },
    {
      "metadata": {
        "id": "yjI5rbi80E2G",
        "colab_type": "text"
      },
      "cell_type": "markdown",
      "source": [
        "### Input NumPy data\n",
        "\n",
        "For small datasets, use in-memory [NumPy](https://www.numpy.org/){:.external}\n",
        "arrays to train and evaluate a model. The model is \"fit\" to the training data\n",
        "using the `fit` method:"
      ]
    },
    {
      "metadata": {
        "id": "3CvP6L-m0E2I",
        "colab_type": "code",
        "colab": {
          "base_uri": "https://localhost:8080/",
          "height": 374
        },
        "outputId": "d99d8a20-5dd7-4bf7-83c5-6d4831c2c584"
      },
      "cell_type": "code",
      "source": [
        "import numpy as np\n",
        "\n",
        "data = np.random.random((1000, 32))\n",
        "labels = np.random.random((1000, 10))\n",
        "\n",
        "model.fit(data, labels, epochs=10, batch_size=32)"
      ],
      "execution_count": 7,
      "outputs": [
        {
          "output_type": "stream",
          "text": [
            "Epoch 1/10\n",
            "1000/1000 [==============================] - 0s 155us/step - loss: 11.6315 - categorical_accuracy: 0.0920\n",
            "Epoch 2/10\n",
            "1000/1000 [==============================] - 0s 39us/step - loss: 11.5799 - categorical_accuracy: 0.0950\n",
            "Epoch 3/10\n",
            "1000/1000 [==============================] - 0s 41us/step - loss: 11.5681 - categorical_accuracy: 0.1050\n",
            "Epoch 4/10\n",
            "1000/1000 [==============================] - 0s 38us/step - loss: 11.5604 - categorical_accuracy: 0.1070\n",
            "Epoch 5/10\n",
            "1000/1000 [==============================] - 0s 39us/step - loss: 11.5575 - categorical_accuracy: 0.1010\n",
            "Epoch 6/10\n",
            "1000/1000 [==============================] - 0s 38us/step - loss: 11.5574 - categorical_accuracy: 0.1190\n",
            "Epoch 7/10\n",
            "1000/1000 [==============================] - 0s 40us/step - loss: 11.5528 - categorical_accuracy: 0.1350\n",
            "Epoch 8/10\n",
            "1000/1000 [==============================] - 0s 40us/step - loss: 11.5522 - categorical_accuracy: 0.1240\n",
            "Epoch 9/10\n",
            "1000/1000 [==============================] - 0s 42us/step - loss: 11.5482 - categorical_accuracy: 0.1430\n",
            "Epoch 10/10\n",
            "1000/1000 [==============================] - 0s 39us/step - loss: 11.5403 - categorical_accuracy: 0.1260\n"
          ],
          "name": "stdout"
        },
        {
          "output_type": "execute_result",
          "data": {
            "text/plain": [
              "<tensorflow.python.keras.callbacks.History at 0x7ff7a4d6d668>"
            ]
          },
          "metadata": {
            "tags": []
          },
          "execution_count": 7
        }
      ]
    },
    {
      "metadata": {
        "id": "N-pnVaFe0E2N",
        "colab_type": "text"
      },
      "cell_type": "markdown",
      "source": [
        "`tf.keras.Model.fit` takes three important arguments:\n",
        "\n",
        "* `epochs`: Training is structured into *epochs*. An epoch is one iteration over\n",
        "  the entire input data (this is done in smaller batches).\n",
        "* `batch_size`: When passed NumPy data, the model slices the data into smaller\n",
        "  batches and iterates over these batches during training. This integer\n",
        "  specifies the size of each batch. Be aware that the last batch may be smaller\n",
        "  if the total number of samples is not divisible by the batch size.\n",
        "* `validation_data`: When prototyping a model, you want to easily monitor its\n",
        "  performance on some validation data. Passing this argument—a tuple of inputs\n",
        "  and labels—allows the model to display the loss and metrics in inference mode\n",
        "  for the passed data, at the end of each epoch.\n",
        "\n",
        "Here's an example using `validation_data`:"
      ]
    },
    {
      "metadata": {
        "id": "gFcXzVQa0E2N",
        "colab_type": "code",
        "colab": {
          "base_uri": "https://localhost:8080/",
          "height": 391
        },
        "outputId": "cb4e7ae9-0482-439c-b24b-e4760463450e"
      },
      "cell_type": "code",
      "source": [
        "import numpy as np\n",
        "\n",
        "data = np.random.random((1000, 32))\n",
        "labels = np.random.random((1000, 10))\n",
        "\n",
        "val_data = np.random.random((100, 32))\n",
        "val_labels = np.random.random((100, 10))\n",
        "\n",
        "model.fit(data, labels, epochs=10, batch_size=32,\n",
        "          validation_data=(val_data, val_labels))"
      ],
      "execution_count": 8,
      "outputs": [
        {
          "output_type": "stream",
          "text": [
            "Train on 1000 samples, validate on 100 samples\n",
            "Epoch 1/10\n",
            "1000/1000 [==============================] - 0s 76us/step - loss: 11.5249 - categorical_accuracy: 0.1160 - val_loss: 11.1477 - val_categorical_accuracy: 0.1200\n",
            "Epoch 2/10\n",
            "1000/1000 [==============================] - 0s 46us/step - loss: 11.5199 - categorical_accuracy: 0.1050 - val_loss: 11.2069 - val_categorical_accuracy: 0.1000\n",
            "Epoch 3/10\n",
            "1000/1000 [==============================] - 0s 41us/step - loss: 11.5181 - categorical_accuracy: 0.1160 - val_loss: 11.1265 - val_categorical_accuracy: 0.1000\n",
            "Epoch 4/10\n",
            "1000/1000 [==============================] - 0s 48us/step - loss: 11.5119 - categorical_accuracy: 0.1310 - val_loss: 11.1354 - val_categorical_accuracy: 0.1100\n",
            "Epoch 5/10\n",
            "1000/1000 [==============================] - 0s 40us/step - loss: 11.5144 - categorical_accuracy: 0.1150 - val_loss: 11.1347 - val_categorical_accuracy: 0.1100\n",
            "Epoch 6/10\n",
            "1000/1000 [==============================] - 0s 42us/step - loss: 11.5095 - categorical_accuracy: 0.1270 - val_loss: 11.1420 - val_categorical_accuracy: 0.1000\n",
            "Epoch 7/10\n",
            "1000/1000 [==============================] - 0s 42us/step - loss: 11.5062 - categorical_accuracy: 0.1260 - val_loss: 11.1345 - val_categorical_accuracy: 0.0600\n",
            "Epoch 8/10\n",
            "1000/1000 [==============================] - 0s 46us/step - loss: 11.5042 - categorical_accuracy: 0.1310 - val_loss: 11.1611 - val_categorical_accuracy: 0.0600\n",
            "Epoch 9/10\n",
            "1000/1000 [==============================] - 0s 42us/step - loss: 11.5000 - categorical_accuracy: 0.1360 - val_loss: 11.1403 - val_categorical_accuracy: 0.1700\n",
            "Epoch 10/10\n",
            "1000/1000 [==============================] - 0s 41us/step - loss: 11.5034 - categorical_accuracy: 0.1540 - val_loss: 11.1971 - val_categorical_accuracy: 0.1000\n"
          ],
          "name": "stdout"
        },
        {
          "output_type": "execute_result",
          "data": {
            "text/plain": [
              "<tensorflow.python.keras.callbacks.History at 0x7ff7a20d85c0>"
            ]
          },
          "metadata": {
            "tags": []
          },
          "execution_count": 8
        }
      ]
    },
    {
      "metadata": {
        "id": "-6ImyXzz0E2Q",
        "colab_type": "text"
      },
      "cell_type": "markdown",
      "source": [
        "### Input tf.data datasets\n",
        "\n",
        "Use the [Datasets API](./datasets.md) to scale to large datasets\n",
        "or multi-device training. Pass a `tf.data.Dataset` instance to the `fit`\n",
        "method:"
      ]
    },
    {
      "metadata": {
        "id": "OziqhpIj0E2R",
        "colab_type": "code",
        "colab": {
          "base_uri": "https://localhost:8080/",
          "height": 374
        },
        "outputId": "ab9d06ed-0e93-422b-cc21-aadc6b0ffc62"
      },
      "cell_type": "code",
      "source": [
        "# Instantiates a toy dataset instance:\n",
        "dataset = tf.data.Dataset.from_tensor_slices((data, labels))\n",
        "dataset = dataset.batch(32)\n",
        "dataset = dataset.repeat()\n",
        "\n",
        "# Don't forget to specify `steps_per_epoch` when calling `fit` on a dataset.\n",
        "model.fit(dataset, epochs=10, steps_per_epoch=30)"
      ],
      "execution_count": 9,
      "outputs": [
        {
          "output_type": "stream",
          "text": [
            "Epoch 1/10\n",
            "30/30 [==============================] - 0s 4ms/step - loss: 11.4925 - categorical_accuracy: 0.1458\n",
            "Epoch 2/10\n",
            "30/30 [==============================] - 0s 1ms/step - loss: 11.5411 - categorical_accuracy: 0.1531\n",
            "Epoch 3/10\n",
            "30/30 [==============================] - 0s 1ms/step - loss: 11.5156 - categorical_accuracy: 0.1542\n",
            "Epoch 4/10\n",
            "30/30 [==============================] - 0s 1ms/step - loss: 11.5192 - categorical_accuracy: 0.1635\n",
            "Epoch 5/10\n",
            "30/30 [==============================] - 0s 1ms/step - loss: 11.4680 - categorical_accuracy: 0.1833\n",
            "Epoch 6/10\n",
            "30/30 [==============================] - 0s 1ms/step - loss: 11.5052 - categorical_accuracy: 0.1760\n",
            "Epoch 7/10\n",
            "30/30 [==============================] - 0s 2ms/step - loss: 11.4897 - categorical_accuracy: 0.1615\n",
            "Epoch 8/10\n",
            "30/30 [==============================] - 0s 1ms/step - loss: 11.4889 - categorical_accuracy: 0.1708\n",
            "Epoch 9/10\n",
            "30/30 [==============================] - 0s 1ms/step - loss: 11.4607 - categorical_accuracy: 0.1875\n",
            "Epoch 10/10\n",
            "30/30 [==============================] - 0s 1ms/step - loss: 11.5109 - categorical_accuracy: 0.1844\n"
          ],
          "name": "stdout"
        },
        {
          "output_type": "execute_result",
          "data": {
            "text/plain": [
              "<tensorflow.python.keras.callbacks.History at 0x7ff7a20d8b00>"
            ]
          },
          "metadata": {
            "tags": []
          },
          "execution_count": 9
        }
      ]
    },
    {
      "metadata": {
        "id": "I7BcMHkB0E2U",
        "colab_type": "text"
      },
      "cell_type": "markdown",
      "source": [
        "Here, the `fit` method uses the `steps_per_epoch` argument—this is the number of\n",
        "training steps the model runs before it moves to the next epoch. Since the\n",
        "`Dataset` yields batches of data, this snippet does not require a `batch_size`.\n",
        "\n",
        "Datasets can also be used for validation:"
      ]
    },
    {
      "metadata": {
        "id": "YPMb3A0N0E2V",
        "colab_type": "code",
        "colab": {
          "base_uri": "https://localhost:8080/",
          "height": 374
        },
        "outputId": "fc0dff29-1aab-4c4a-b410-c5a1fc0a010d"
      },
      "cell_type": "code",
      "source": [
        "dataset = tf.data.Dataset.from_tensor_slices((data, labels))\n",
        "dataset = dataset.batch(32).repeat()\n",
        "\n",
        "val_dataset = tf.data.Dataset.from_tensor_slices((val_data, val_labels))\n",
        "val_dataset = val_dataset.batch(32).repeat()\n",
        "\n",
        "model.fit(dataset, epochs=10, steps_per_epoch=30,\n",
        "          validation_data=val_dataset,\n",
        "          validation_steps=3)"
      ],
      "execution_count": 10,
      "outputs": [
        {
          "output_type": "stream",
          "text": [
            "Epoch 1/10\n",
            "30/30 [==============================] - 0s 5ms/step - loss: 11.4465 - categorical_accuracy: 0.1760 - val_loss: 11.2098 - val_categorical_accuracy: 0.0625\n",
            "Epoch 2/10\n",
            "30/30 [==============================] - 0s 1ms/step - loss: 11.4977 - categorical_accuracy: 0.1813 - val_loss: 11.3194 - val_categorical_accuracy: 0.0938\n",
            "Epoch 3/10\n",
            "30/30 [==============================] - 0s 1ms/step - loss: 11.4720 - categorical_accuracy: 0.1979 - val_loss: 11.3087 - val_categorical_accuracy: 0.0729\n",
            "Epoch 4/10\n",
            "30/30 [==============================] - 0s 1ms/step - loss: 11.4810 - categorical_accuracy: 0.1740 - val_loss: 11.3191 - val_categorical_accuracy: 0.0312\n",
            "Epoch 5/10\n",
            "30/30 [==============================] - 0s 1ms/step - loss: 11.4291 - categorical_accuracy: 0.1927 - val_loss: 11.1665 - val_categorical_accuracy: 0.1146\n",
            "Epoch 6/10\n",
            "30/30 [==============================] - 0s 1ms/step - loss: 11.4693 - categorical_accuracy: 0.2021 - val_loss: 11.3782 - val_categorical_accuracy: 0.0312\n",
            "Epoch 7/10\n",
            "30/30 [==============================] - 0s 1ms/step - loss: 11.4509 - categorical_accuracy: 0.2010 - val_loss: 11.3173 - val_categorical_accuracy: 0.0521\n",
            "Epoch 8/10\n",
            "30/30 [==============================] - 0s 1ms/step - loss: 11.4546 - categorical_accuracy: 0.1937 - val_loss: 11.3344 - val_categorical_accuracy: 0.0417\n",
            "Epoch 9/10\n",
            "30/30 [==============================] - 0s 1ms/step - loss: 11.4303 - categorical_accuracy: 0.2000 - val_loss: 11.1785 - val_categorical_accuracy: 0.1458\n",
            "Epoch 10/10\n",
            "30/30 [==============================] - 0s 1ms/step - loss: 11.4777 - categorical_accuracy: 0.2115 - val_loss: 11.3233 - val_categorical_accuracy: 0.0938\n"
          ],
          "name": "stdout"
        },
        {
          "output_type": "execute_result",
          "data": {
            "text/plain": [
              "<tensorflow.python.keras.callbacks.History at 0x7ff7a1886c18>"
            ]
          },
          "metadata": {
            "tags": []
          },
          "execution_count": 10
        }
      ]
    },
    {
      "metadata": {
        "id": "IgGdlXso0E2X",
        "colab_type": "text"
      },
      "cell_type": "markdown",
      "source": [
        "### Evaluate and predict\n",
        "\n",
        "The `tf.keras.Model.evaluate` and `tf.keras.Model.predict` methods can use NumPy\n",
        "data and a `tf.data.Dataset`.\n",
        "\n",
        "To *evaluate* the inference-mode loss and metrics for the data provided:"
      ]
    },
    {
      "metadata": {
        "id": "mhDbOHEK0E2Y",
        "colab_type": "code",
        "colab": {
          "base_uri": "https://localhost:8080/",
          "height": 68
        },
        "outputId": "b0e6e603-b9da-4c97-976c-4d3161e2d5dc"
      },
      "cell_type": "code",
      "source": [
        "data = np.random.random((1000, 32))\n",
        "labels = np.random.random((1000, 10))\n",
        "\n",
        "model.evaluate(data, labels, batch_size=32)\n",
        "\n",
        "model.evaluate(dataset, steps=30)"
      ],
      "execution_count": 11,
      "outputs": [
        {
          "output_type": "stream",
          "text": [
            "1000/1000 [==============================] - 0s 57us/step\n",
            "30/30 [==============================] - 0s 2ms/step\n"
          ],
          "name": "stdout"
        },
        {
          "output_type": "execute_result",
          "data": {
            "text/plain": [
              "[11.44764591852824, 0.15520833333333334]"
            ]
          },
          "metadata": {
            "tags": []
          },
          "execution_count": 11
        }
      ]
    },
    {
      "metadata": {
        "id": "UXUTmDfb0E2b",
        "colab_type": "text"
      },
      "cell_type": "markdown",
      "source": [
        "And to *predict* the output of the last layer in inference for the data provided,\n",
        "as a NumPy array:"
      ]
    },
    {
      "metadata": {
        "id": "9e3JsSoQ0E2c",
        "colab_type": "code",
        "colab": {
          "base_uri": "https://localhost:8080/",
          "height": 34
        },
        "outputId": "e845008d-11ca-434a-e1de-91cd9a671e38"
      },
      "cell_type": "code",
      "source": [
        "result = model.predict(data, batch_size=32)\n",
        "print(result.shape)"
      ],
      "execution_count": 12,
      "outputs": [
        {
          "output_type": "stream",
          "text": [
            "(1000, 10)\n"
          ],
          "name": "stdout"
        }
      ]
    },
    {
      "metadata": {
        "id": "fzEOW4Cn0E2h",
        "colab_type": "text"
      },
      "cell_type": "markdown",
      "source": [
        "## Build advanced models\n",
        "\n",
        "### Functional API\n",
        "\n",
        "The `tf.keras.Sequential` model is a simple stack of layers that cannot\n",
        "represent arbitrary models. Use the\n",
        "[Keras functional API](https://keras.io/getting-started/functional-api-guide/){:.external}\n",
        "to build complex model topologies such as:\n",
        "\n",
        "* Multi-input models,\n",
        "* Multi-output models,\n",
        "* Models with shared layers (the same layer called several times),\n",
        "* Models with non-sequential data flows (e.g. residual connections).\n",
        "\n",
        "Building a model with the functional API works like this:\n",
        "\n",
        "1. A layer instance is callable and returns a tensor.\n",
        "2. Input tensors and output tensors are used to define a `tf.keras.Model`\n",
        "   instance.\n",
        "3. This model is trained just like the `Sequential` model.\n",
        "\n",
        "The following example uses the functional API to build a simple, fully-connected\n",
        "network:"
      ]
    },
    {
      "metadata": {
        "id": "mROj832r0E2i",
        "colab_type": "code",
        "colab": {}
      },
      "cell_type": "code",
      "source": [
        "inputs = keras.Input(shape=(32,))  # Returns a placeholder tensor\n",
        "\n",
        "# A layer instance is callable on a tensor, and returns a tensor.\n",
        "x = keras.layers.Dense(64, activation='relu')(inputs)\n",
        "x = keras.layers.Dense(64, activation='relu')(x)\n",
        "predictions = keras.layers.Dense(10, activation='softmax')(x)"
      ],
      "execution_count": 0,
      "outputs": []
    },
    {
      "metadata": {
        "id": "AFmspHeG1_W7",
        "colab_type": "text"
      },
      "cell_type": "markdown",
      "source": [
        "Instantiate the model given inputs and outputs."
      ]
    },
    {
      "metadata": {
        "id": "5k5uzlyu16HM",
        "colab_type": "code",
        "colab": {
          "base_uri": "https://localhost:8080/",
          "height": 204
        },
        "outputId": "26b442e1-1dbb-4d70-ba31-7f5cae8c3feb"
      },
      "cell_type": "code",
      "source": [
        "model = keras.Model(inputs=inputs, outputs=predictions)\n",
        "\n",
        "# The compile step specifies the training configuration.\n",
        "model.compile(optimizer=tf.train.RMSPropOptimizer(0.001),\n",
        "              loss='categorical_crossentropy',\n",
        "              metrics=['accuracy'])\n",
        "\n",
        "# Trains for 5 epochs\n",
        "model.fit(data, labels, batch_size=32, epochs=5)"
      ],
      "execution_count": 14,
      "outputs": [
        {
          "output_type": "stream",
          "text": [
            "Epoch 1/5\n",
            "1000/1000 [==============================] - 0s 183us/step - loss: 11.5679 - acc: 0.1030\n",
            "Epoch 2/5\n",
            "1000/1000 [==============================] - 0s 38us/step - loss: 11.5270 - acc: 0.1120\n",
            "Epoch 3/5\n",
            "1000/1000 [==============================] - 0s 42us/step - loss: 11.5132 - acc: 0.1150\n",
            "Epoch 4/5\n",
            "1000/1000 [==============================] - 0s 40us/step - loss: 11.5023 - acc: 0.1210\n",
            "Epoch 5/5\n",
            "1000/1000 [==============================] - 0s 39us/step - loss: 11.4939 - acc: 0.1210\n"
          ],
          "name": "stdout"
        },
        {
          "output_type": "execute_result",
          "data": {
            "text/plain": [
              "<tensorflow.python.keras.callbacks.History at 0x7ff7a18b1d68>"
            ]
          },
          "metadata": {
            "tags": []
          },
          "execution_count": 14
        }
      ]
    },
    {
      "metadata": {
        "id": "EcKSLH3i0E2k",
        "colab_type": "text"
      },
      "cell_type": "markdown",
      "source": [
        "### Model subclassing\n",
        "\n",
        "Build a fully-customizable model by subclassing `tf.keras.Model` and defining\n",
        "your own forward pass. Create layers in the `__init__` method and set them as\n",
        "attributes of the class instance. Define the forward pass in the `call` method.\n",
        "\n",
        "Model subclassing is particularly useful when\n",
        "[eager execution](./eager.md) is enabled since the forward pass\n",
        "can be written imperatively.\n",
        "\n",
        "Key Point: Use the right API for the job. While model subclassing offers\n",
        "flexibility, it comes at a cost of greater complexity and more opportunities for\n",
        "user errors. If possible, prefer the functional API.\n",
        "\n",
        "The following example shows a subclassed `tf.keras.Model` using a custom forward\n",
        "pass:"
      ]
    },
    {
      "metadata": {
        "id": "KLiHWzcn2Fzk",
        "colab_type": "code",
        "colab": {}
      },
      "cell_type": "code",
      "source": [
        "class MyModel(keras.Model):\n",
        "\n",
        "  def __init__(self, num_classes=10):\n",
        "    super(MyModel, self).__init__(name='my_model')\n",
        "    self.num_classes = num_classes\n",
        "    # Define your layers here.\n",
        "    self.dense_1 = keras.layers.Dense(32, activation='relu')\n",
        "    self.dense_2 = keras.layers.Dense(num_classes, activation='sigmoid')\n",
        "\n",
        "  def call(self, inputs):\n",
        "    # Define your forward pass here,\n",
        "    # using layers you previously defined (in `__init__`).\n",
        "    x = self.dense_1(inputs)\n",
        "    return self.dense_2(x)\n",
        "\n",
        "  def compute_output_shape(self, input_shape):\n",
        "    # You need to override this function if you want to use the subclassed model\n",
        "    # as part of a functional-style model.\n",
        "    # Otherwise, this method is optional.\n",
        "    shape = tf.TensorShape(input_shape).as_list()\n",
        "    shape[-1] = self.num_classes\n",
        "    return tf.TensorShape(shape)"
      ],
      "execution_count": 0,
      "outputs": []
    },
    {
      "metadata": {
        "id": "ShDD4fv72KGc",
        "colab_type": "text"
      },
      "cell_type": "markdown",
      "source": [
        "Instantiat the new model class:"
      ]
    },
    {
      "metadata": {
        "id": "42C-qQHm0E2l",
        "colab_type": "code",
        "colab": {
          "base_uri": "https://localhost:8080/",
          "height": 204
        },
        "outputId": "4e52fab1-f139-4b57-91b5-a6ff8d18833b"
      },
      "cell_type": "code",
      "source": [
        "model = MyModel(num_classes=10)\n",
        "\n",
        "# The compile step specifies the training configuration.\n",
        "model.compile(optimizer=tf.train.RMSPropOptimizer(0.001),\n",
        "              loss='categorical_crossentropy',\n",
        "              metrics=['accuracy'])\n",
        "\n",
        "# Trains for 5 epochs.\n",
        "model.fit(data, labels, batch_size=32, epochs=5)"
      ],
      "execution_count": 16,
      "outputs": [
        {
          "output_type": "stream",
          "text": [
            "Epoch 1/5\n",
            "1000/1000 [==============================] - 0s 231us/step - loss: 11.6094 - acc: 0.1050\n",
            "Epoch 2/5\n",
            "1000/1000 [==============================] - 0s 41us/step - loss: 11.5699 - acc: 0.1100\n",
            "Epoch 3/5\n",
            "1000/1000 [==============================] - 0s 40us/step - loss: 11.5285 - acc: 0.1190\n",
            "Epoch 4/5\n",
            "1000/1000 [==============================] - 0s 44us/step - loss: 11.5134 - acc: 0.1220\n",
            "Epoch 5/5\n",
            "1000/1000 [==============================] - 0s 44us/step - loss: 11.5060 - acc: 0.1220\n"
          ],
          "name": "stdout"
        },
        {
          "output_type": "execute_result",
          "data": {
            "text/plain": [
              "<tensorflow.python.keras.callbacks.History at 0x7ff79fc81240>"
            ]
          },
          "metadata": {
            "tags": []
          },
          "execution_count": 16
        }
      ]
    },
    {
      "metadata": {
        "id": "yqRQiKj20E2o",
        "colab_type": "text"
      },
      "cell_type": "markdown",
      "source": [
        "### Custom layers\n",
        "\n",
        "Create a custom layer by subclassing `tf.keras.layers.Layer` and implementing\n",
        "the following methods:\n",
        "\n",
        "* `build`: Create the weights of the layer. Add weights with the `add_weight`\n",
        "  method.\n",
        "* `call`: Define the forward pass.\n",
        "* `compute_output_shape`: Specify how to compute the output shape of the layer\n",
        "  given the input shape.\n",
        "* Optionally, a layer can be serialized by implementing the `get_config` method\n",
        "  and the `from_config` class method.\n",
        "\n",
        "Here's an example of a custom layer that implements a `matmul` of an input with\n",
        "a kernel matrix:"
      ]
    },
    {
      "metadata": {
        "id": "l7BFnIHr2WNc",
        "colab_type": "code",
        "colab": {}
      },
      "cell_type": "code",
      "source": [
        "class MyLayer(keras.layers.Layer):\n",
        "\n",
        "  def __init__(self, output_dim, **kwargs):\n",
        "    self.output_dim = output_dim\n",
        "    super(MyLayer, self).__init__(**kwargs)\n",
        "\n",
        "  def build(self, input_shape):\n",
        "    shape = tf.TensorShape((input_shape[1], self.output_dim))\n",
        "    # Create a trainable weight variable for this layer.\n",
        "    self.kernel = self.add_weight(name='kernel',\n",
        "                                  shape=shape,\n",
        "                                  initializer='uniform',\n",
        "                                  trainable=True)\n",
        "    # Be sure to call this at the end\n",
        "    super(MyLayer, self).build(input_shape)\n",
        "\n",
        "  def call(self, inputs):\n",
        "    return tf.matmul(inputs, self.kernel)\n",
        "\n",
        "  def compute_output_shape(self, input_shape):\n",
        "    shape = tf.TensorShape(input_shape).as_list()\n",
        "    shape[-1] = self.output_dim\n",
        "    return tf.TensorShape(shape)\n",
        "\n",
        "  def get_config(self):\n",
        "    base_config = super(MyLayer, self).get_config()\n",
        "    base_config['output_dim'] = self.output_dim\n",
        "    return base_config\n",
        "\n",
        "  @classmethod\n",
        "  def from_config(cls, config):\n",
        "    return cls(**config)"
      ],
      "execution_count": 0,
      "outputs": []
    },
    {
      "metadata": {
        "id": "8wXDRgXV2ZrF",
        "colab_type": "text"
      },
      "cell_type": "markdown",
      "source": [
        "Create a model using your custom layer:"
      ]
    },
    {
      "metadata": {
        "id": "uqH-cY0h0E2p",
        "colab_type": "code",
        "colab": {
          "base_uri": "https://localhost:8080/",
          "height": 204
        },
        "outputId": "e872e6a1-5fae-47f8-eb82-a0e111336904"
      },
      "cell_type": "code",
      "source": [
        "model = keras.Sequential([MyLayer(10),\n",
        "                          keras.layers.Activation('softmax')])\n",
        "\n",
        "# The compile step specifies the training configuration\n",
        "model.compile(optimizer=tf.train.RMSPropOptimizer(0.001),\n",
        "              loss='categorical_crossentropy',\n",
        "              metrics=['accuracy'])\n",
        "\n",
        "# Trains for 5 epochs.\n",
        "model.fit(data, labels, batch_size=32, epochs=5)"
      ],
      "execution_count": 18,
      "outputs": [
        {
          "output_type": "stream",
          "text": [
            "Epoch 1/5\n",
            "1000/1000 [==============================] - 0s 246us/step - loss: 11.5113 - acc: 0.0900\n",
            "Epoch 2/5\n",
            "1000/1000 [==============================] - 0s 42us/step - loss: 11.4995 - acc: 0.0840\n",
            "Epoch 3/5\n",
            "1000/1000 [==============================] - 0s 36us/step - loss: 11.4949 - acc: 0.0990\n",
            "Epoch 4/5\n",
            "1000/1000 [==============================] - 0s 36us/step - loss: 11.4931 - acc: 0.0920\n",
            "Epoch 5/5\n",
            "1000/1000 [==============================] - 0s 40us/step - loss: 11.4901 - acc: 0.1100\n"
          ],
          "name": "stdout"
        },
        {
          "output_type": "execute_result",
          "data": {
            "text/plain": [
              "<tensorflow.python.keras.callbacks.History at 0x7ff79fc816d8>"
            ]
          },
          "metadata": {
            "tags": []
          },
          "execution_count": 18
        }
      ]
    },
    {
      "metadata": {
        "id": "Lu8cc3AJ0E2v",
        "colab_type": "text"
      },
      "cell_type": "markdown",
      "source": [
        "## Callbacks\n",
        "\n",
        "A callback is an object passed to a model to customize and extend its behavior\n",
        "during training. You can write your own custom callback, or use the built-in\n",
        "`tf.keras.callbacks` that include:\n",
        "\n",
        "* `tf.keras.callbacks.ModelCheckpoint`: Save checkpoints of your model at\n",
        "  regular intervals.\n",
        "* `tf.keras.callbacks.LearningRateScheduler`: Dynamically change the learning\n",
        "  rate.\n",
        "* `tf.keras.callbacks.EarlyStopping`: Interrupt training when validation\n",
        "  performance has stopped improving.\n",
        "* `tf.keras.callbacks.TensorBoard`: Monitor the model's behavior using\n",
        "  [TensorBoard](./summaries_and_tensorboard.md).\n",
        "\n",
        "To use a `tf.keras.callbacks.Callback`, pass it to the model's `fit` method:"
      ]
    },
    {
      "metadata": {
        "id": "rdYwzSYV0E2v",
        "colab_type": "code",
        "colab": {
          "base_uri": "https://localhost:8080/",
          "height": 221
        },
        "outputId": "36833855-32c0-4586-cf5c-5bfe0e08615e"
      },
      "cell_type": "code",
      "source": [
        "callbacks = [\n",
        "  # Interrupt training if `val_loss` stops improving for over 2 epochs\n",
        "  keras.callbacks.EarlyStopping(patience=2, monitor='val_loss'),\n",
        "  # Write TensorBoard logs to `./logs` directory\n",
        "  keras.callbacks.TensorBoard(log_dir='./logs')\n",
        "]\n",
        "model.fit(data, labels, batch_size=32, epochs=5, callbacks=callbacks,\n",
        "          validation_data=(val_data, val_labels))"
      ],
      "execution_count": 19,
      "outputs": [
        {
          "output_type": "stream",
          "text": [
            "Train on 1000 samples, validate on 100 samples\n",
            "Epoch 1/5\n",
            "1000/1000 [==============================] - 0s 159us/step - loss: 11.4890 - acc: 0.1080 - val_loss: 11.1212 - val_acc: 0.1100\n",
            "Epoch 2/5\n",
            "1000/1000 [==============================] - 0s 82us/step - loss: 11.4866 - acc: 0.1250 - val_loss: 11.1259 - val_acc: 0.1100\n",
            "Epoch 3/5\n",
            "1000/1000 [==============================] - 0s 74us/step - loss: 11.4845 - acc: 0.1270 - val_loss: 11.1166 - val_acc: 0.1800\n",
            "Epoch 4/5\n",
            "1000/1000 [==============================] - 0s 77us/step - loss: 11.4840 - acc: 0.1240 - val_loss: 11.1187 - val_acc: 0.1400\n",
            "Epoch 5/5\n",
            "1000/1000 [==============================] - 0s 57us/step - loss: 11.4815 - acc: 0.1100 - val_loss: 11.1225 - val_acc: 0.1300\n"
          ],
          "name": "stdout"
        },
        {
          "output_type": "execute_result",
          "data": {
            "text/plain": [
              "<tensorflow.python.keras.callbacks.History at 0x7ff79f6d1f98>"
            ]
          },
          "metadata": {
            "tags": []
          },
          "execution_count": 19
        }
      ]
    },
    {
      "metadata": {
        "id": "qnl7K-aI0E2z",
        "colab_type": "text"
      },
      "cell_type": "markdown",
      "source": [
        "## Save and restore\n",
        "\n",
        "### Weights only\n",
        "\n",
        "Save and load the weights of a model using `tf.keras.Model.save_weights`:"
      ]
    },
    {
      "metadata": {
        "id": "uQIANjB94fLB",
        "colab_type": "code",
        "colab": {}
      },
      "cell_type": "code",
      "source": [
        "model = keras.Sequential([\n",
        "layers.Dense(64, activation='relu'),\n",
        "layers.Dense(10, activation='softmax')])\n",
        "\n",
        "model.compile(optimizer=tf.train.AdamOptimizer(0.001),\n",
        "              loss='categorical_crossentropy',\n",
        "              metrics=['accuracy'])"
      ],
      "execution_count": 0,
      "outputs": []
    },
    {
      "metadata": {
        "id": "4eoHJ-ny0E21",
        "colab_type": "code",
        "colab": {
          "base_uri": "https://localhost:8080/",
          "height": 34
        },
        "outputId": "686c77c3-6cd0-49d0-8f1e-81ac86f68c2a"
      },
      "cell_type": "code",
      "source": [
        "# Save weights to a TensorFlow Checkpoint file\n",
        "model.save_weights('./weights/my_model')\n",
        "\n",
        "# Restore the model's state,\n",
        "# this requires a model with the same architecture.\n",
        "model.load_weights('./weights/my_model')"
      ],
      "execution_count": 21,
      "outputs": [
        {
          "output_type": "execute_result",
          "data": {
            "text/plain": [
              "<tensorflow.python.training.checkpointable.util.CheckpointLoadStatus at 0x7ff79f6e05c0>"
            ]
          },
          "metadata": {
            "tags": []
          },
          "execution_count": 21
        }
      ]
    },
    {
      "metadata": {
        "id": "u25Id3xe0E25",
        "colab_type": "text"
      },
      "cell_type": "markdown",
      "source": [
        "By default, this saves the model's weights in the\n",
        "[TensorFlow checkpoint](./checkpoints.md) file format. Weights can\n",
        "also be saved to the Keras HDF5 format (the default for the multi-backend\n",
        "implementation of Keras):"
      ]
    },
    {
      "metadata": {
        "id": "JSAYoFEd0E26",
        "colab_type": "code",
        "colab": {}
      },
      "cell_type": "code",
      "source": [
        "# Save weights to a HDF5 file\n",
        "model.save_weights('my_model.h5', save_format='h5')\n",
        "\n",
        "# Restore the model's state\n",
        "model.load_weights('my_model.h5')"
      ],
      "execution_count": 0,
      "outputs": []
    },
    {
      "metadata": {
        "id": "mje_yKL10E29",
        "colab_type": "text"
      },
      "cell_type": "markdown",
      "source": [
        "### Configuration only\n",
        "\n",
        "A model's configuration can be saved—this serializes the model architecture\n",
        "without any weights. A saved configuration can recreate and initialize the same\n",
        "model, even without the code that defined the original model. Keras supports\n",
        "JSON and YAML serialization formats:"
      ]
    },
    {
      "metadata": {
        "id": "pX_badhH3yWV",
        "colab_type": "code",
        "colab": {
          "base_uri": "https://localhost:8080/",
          "height": 54
        },
        "outputId": "41b1ea4b-e299-4e05-9be1-b9d042f468ba"
      },
      "cell_type": "code",
      "source": [
        "# Serialize a model to JSON format\n",
        "json_string = model.to_json()\n",
        "json_string"
      ],
      "execution_count": 23,
      "outputs": [
        {
          "output_type": "execute_result",
          "data": {
            "text/plain": [
              "'{\"class_name\": \"Sequential\", \"config\": {\"name\": \"sequential_3\", \"layers\": [{\"class_name\": \"Dense\", \"config\": {\"name\": \"dense_17\", \"trainable\": true, \"dtype\": null, \"units\": 64, \"activation\": \"relu\", \"use_bias\": true, \"kernel_initializer\": {\"class_name\": \"GlorotUniform\", \"config\": {\"seed\": null, \"dtype\": \"float32\"}}, \"bias_initializer\": {\"class_name\": \"Zeros\", \"config\": {\"dtype\": \"float32\"}}, \"kernel_regularizer\": null, \"bias_regularizer\": null, \"activity_regularizer\": null, \"kernel_constraint\": null, \"bias_constraint\": null}}, {\"class_name\": \"Dense\", \"config\": {\"name\": \"dense_18\", \"trainable\": true, \"dtype\": null, \"units\": 10, \"activation\": \"softmax\", \"use_bias\": true, \"kernel_initializer\": {\"class_name\": \"GlorotUniform\", \"config\": {\"seed\": null, \"dtype\": \"float32\"}}, \"bias_initializer\": {\"class_name\": \"Zeros\", \"config\": {\"dtype\": \"float32\"}}, \"kernel_regularizer\": null, \"bias_regularizer\": null, \"activity_regularizer\": null, \"kernel_constraint\": null, \"bias_constraint\": null}}]}, \"keras_version\": \"2.1.6-tf\", \"backend\": \"tensorflow\"}'"
            ]
          },
          "metadata": {
            "tags": []
          },
          "execution_count": 23
        }
      ]
    },
    {
      "metadata": {
        "id": "Q7CIa05r4yTb",
        "colab_type": "text"
      },
      "cell_type": "markdown",
      "source": [
        "Recreate the model (freshly initialized), from the json."
      ]
    },
    {
      "metadata": {
        "id": "J9UFv9k00E2_",
        "colab_type": "code",
        "colab": {}
      },
      "cell_type": "code",
      "source": [
        "fresh_model = keras.models.model_from_json(json_string)"
      ],
      "execution_count": 0,
      "outputs": []
    },
    {
      "metadata": {
        "id": "t5NHtICh4uHK",
        "colab_type": "text"
      },
      "cell_type": "markdown",
      "source": [
        "Serialize a model to YAML format"
      ]
    },
    {
      "metadata": {
        "id": "aj24KB3Z36S4",
        "colab_type": "code",
        "colab": {
          "base_uri": "https://localhost:8080/",
          "height": 782
        },
        "outputId": "e36b0126-3803-4590-e0c8-9ba98b017d16"
      },
      "cell_type": "code",
      "source": [
        "yaml_string = model.to_yaml()\n",
        "print(yaml_string)"
      ],
      "execution_count": 25,
      "outputs": [
        {
          "output_type": "stream",
          "text": [
            "backend: tensorflow\n",
            "class_name: Sequential\n",
            "config:\n",
            "  layers:\n",
            "  - class_name: Dense\n",
            "    config:\n",
            "      activation: relu\n",
            "      activity_regularizer: null\n",
            "      bias_constraint: null\n",
            "      bias_initializer:\n",
            "        class_name: Zeros\n",
            "        config: {dtype: float32}\n",
            "      bias_regularizer: null\n",
            "      dtype: null\n",
            "      kernel_constraint: null\n",
            "      kernel_initializer:\n",
            "        class_name: GlorotUniform\n",
            "        config: {dtype: float32, seed: null}\n",
            "      kernel_regularizer: null\n",
            "      name: dense_17\n",
            "      trainable: true\n",
            "      units: 64\n",
            "      use_bias: true\n",
            "  - class_name: Dense\n",
            "    config:\n",
            "      activation: softmax\n",
            "      activity_regularizer: null\n",
            "      bias_constraint: null\n",
            "      bias_initializer:\n",
            "        class_name: Zeros\n",
            "        config: {dtype: float32}\n",
            "      bias_regularizer: null\n",
            "      dtype: null\n",
            "      kernel_constraint: null\n",
            "      kernel_initializer:\n",
            "        class_name: GlorotUniform\n",
            "        config: {dtype: float32, seed: null}\n",
            "      kernel_regularizer: null\n",
            "      name: dense_18\n",
            "      trainable: true\n",
            "      units: 10\n",
            "      use_bias: true\n",
            "  name: sequential_3\n",
            "keras_version: 2.1.6-tf\n",
            "\n"
          ],
          "name": "stdout"
        }
      ]
    },
    {
      "metadata": {
        "id": "O53Kerfl43v7",
        "colab_type": "text"
      },
      "cell_type": "markdown",
      "source": [
        "Recreate the model from the yaml"
      ]
    },
    {
      "metadata": {
        "id": "77yRuwg03_MG",
        "colab_type": "code",
        "colab": {}
      },
      "cell_type": "code",
      "source": [
        "\n",
        "fresh_model = keras.models.model_from_yaml(yaml_string)"
      ],
      "execution_count": 0,
      "outputs": []
    },
    {
      "metadata": {
        "id": "xPvOSSzM0E3B",
        "colab_type": "text"
      },
      "cell_type": "markdown",
      "source": [
        "Caution: Subclassed models are not serializable because their architecture is\n",
        "defined by the Python code in the body of the `call` method."
      ]
    },
    {
      "metadata": {
        "id": "iu8qMwld4-71",
        "colab_type": "text"
      },
      "cell_type": "markdown",
      "source": [
        "\n",
        "### Entire model\n",
        "\n",
        "The entire model can be saved to a file that contains the weight values, the\n",
        "model's configuration, and even the optimizer's configuration. This allows you\n",
        "to checkpoint a model and resume training later—from the exact same\n",
        "state—without access to the original code."
      ]
    },
    {
      "metadata": {
        "id": "45oNY34Z0E3C",
        "colab_type": "code",
        "colab": {
          "base_uri": "https://localhost:8080/",
          "height": 187
        },
        "outputId": "a4b5a6d1-01de-4ef4-b3df-a276de36305b"
      },
      "cell_type": "code",
      "source": [
        "# Create a trivial model\n",
        "model = keras.Sequential([\n",
        "  keras.layers.Dense(10, activation='softmax', input_shape=(32,)),\n",
        "  keras.layers.Dense(10, activation='softmax')\n",
        "])\n",
        "model.compile(optimizer='rmsprop',\n",
        "              loss='categorical_crossentropy',\n",
        "              metrics=['accuracy'])\n",
        "model.fit(data, labels, batch_size=32, epochs=5)\n",
        "\n",
        "\n",
        "# Save entire model to a HDF5 file\n",
        "model.save('my_model.h5')\n",
        "\n",
        "# Recreate the exact same model, including weights and optimizer.\n",
        "model = keras.models.load_model('my_model.h5')"
      ],
      "execution_count": 27,
      "outputs": [
        {
          "output_type": "stream",
          "text": [
            "Epoch 1/5\n",
            "1000/1000 [==============================] - 0s 276us/step - loss: 11.5162 - acc: 0.0970\n",
            "Epoch 2/5\n",
            "1000/1000 [==============================] - 0s 44us/step - loss: 11.4977 - acc: 0.1020\n",
            "Epoch 3/5\n",
            "1000/1000 [==============================] - 0s 44us/step - loss: 11.4941 - acc: 0.1050\n",
            "Epoch 4/5\n",
            "1000/1000 [==============================] - 0s 41us/step - loss: 11.4928 - acc: 0.1090\n",
            "Epoch 5/5\n",
            "1000/1000 [==============================] - 0s 41us/step - loss: 11.4922 - acc: 0.1130\n"
          ],
          "name": "stdout"
        }
      ]
    },
    {
      "metadata": {
        "id": "PMOWhDOB0E3E",
        "colab_type": "text"
      },
      "cell_type": "markdown",
      "source": [
        "## Eager execution\n",
        "\n",
        "[Eager execution](./eager.md) is an imperative programming\n",
        "environment that evaluates operations immediately. This is not required for\n",
        "Keras, but is supported by `tf.keras` and useful for inspecting your program and\n",
        "debugging.\n",
        "\n",
        "All of the `tf.keras` model-building APIs are compatible with eager execution.\n",
        "And while the `Sequential` and functional APIs can be used, eager execution\n",
        "especially benefits *model subclassing* and building *custom layers*—the APIs\n",
        "that require you to write the forward pass as code (instead of the APIs that\n",
        "create models by assembling existing layers).\n",
        "\n",
        "See the [eager execution guide](./eager.md#build_a_model) for\n",
        "examples of using Keras models with custom training loops and `tf.GradientTape`."
      ]
    },
    {
      "metadata": {
        "id": "2wG3NVco5B5V",
        "colab_type": "text"
      },
      "cell_type": "markdown",
      "source": [
        "## Distribution\n",
        "\n",
        "### Estimators\n",
        "\n",
        "The [Estimators](./estimators.md) API is used for training models\n",
        "for distributed environments. This targets industry use cases such as\n",
        "distributed training on large datasets that can export a model for production.\n",
        "\n",
        "A `tf.keras.Model` can be trained with the `tf.estimator` API by converting the\n",
        "model to an `tf.estimator.Estimator` object with\n",
        "`tf.keras.estimator.model_to_estimator`. See\n",
        "[Creating Estimators from Keras models](./estimators.md#creating_estimators_from_keras_models)."
      ]
    },
    {
      "metadata": {
        "id": "cVg0vfTO0E3E",
        "colab_type": "code",
        "colab": {
          "base_uri": "https://localhost:8080/",
          "height": 207
        },
        "outputId": "477c68f1-f7d8-43e2-96af-b37ca9d74fe6"
      },
      "cell_type": "code",
      "source": [
        "model = keras.Sequential([layers.Dense(10,activation='softmax'),\n",
        "                          layers.Dense(10,activation='softmax')])\n",
        "\n",
        "model.compile(optimizer=tf.train.RMSPropOptimizer(0.001),\n",
        "              loss='categorical_crossentropy',\n",
        "              metrics=['accuracy'])\n",
        "\n",
        "estimator = keras.estimator.model_to_estimator(model)"
      ],
      "execution_count": 28,
      "outputs": [
        {
          "output_type": "stream",
          "text": [
            "INFO:tensorflow:Using default config.\n",
            "WARNING:tensorflow:Using temporary folder as model directory: /tmp/tmpe_m6eu7v\n",
            "INFO:tensorflow:Using the Keras model provided.\n",
            "INFO:tensorflow:Using config: {'_model_dir': '/tmp/tmpe_m6eu7v', '_tf_random_seed': None, '_save_summary_steps': 100, '_save_checkpoints_steps': None, '_save_checkpoints_secs': 600, '_session_config': allow_soft_placement: true\n",
            "graph_options {\n",
            "  rewrite_options {\n",
            "    meta_optimizer_iterations: ONE\n",
            "  }\n",
            "}\n",
            ", '_keep_checkpoint_max': 5, '_keep_checkpoint_every_n_hours': 10000, '_log_step_count_steps': 100, '_train_distribute': None, '_device_fn': None, '_protocol': None, '_eval_distribute': None, '_experimental_distribute': None, '_service': None, '_cluster_spec': <tensorflow.python.training.server_lib.ClusterSpec object at 0x7ff79e24f8d0>, '_task_type': 'worker', '_task_id': 0, '_global_id_in_cluster': 0, '_master': '', '_evaluation_master': '', '_is_chief': True, '_num_ps_replicas': 0, '_num_worker_replicas': 1}\n"
          ],
          "name": "stdout"
        }
      ]
    },
    {
      "metadata": {
        "id": "S7FKvikO0E3H",
        "colab_type": "text"
      },
      "cell_type": "markdown",
      "source": [
        "Note: Enable [eager execution](./eager.md) for debugging\n",
        "[Estimator input functions](./premade_estimators.md#create_input_functions)\n",
        "and inspecting data."
      ]
    },
    {
      "metadata": {
        "id": "6PJZ6e9J5JHF",
        "colab_type": "text"
      },
      "cell_type": "markdown",
      "source": [
        "### Multiple GPUs\n",
        "\n",
        "`tf.keras` models can run on multiple GPUs using\n",
        "`tf.contrib.distribute.DistributionStrategy`. This API provides distributed\n",
        "training on multiple GPUs with almost no changes to existing code.\n",
        "\n",
        "Currently, `tf.contrib.distribute.MirroredStrategy` is the only supported\n",
        "distribution strategy. `MirroredStrategy` does in-graph replication with\n",
        "synchronous training using all-reduce on a single machine. To use\n",
        "`DistributionStrategy` with Keras, convert the `tf.keras.Model` to a\n",
        "`tf.estimator.Estimator` with `tf.keras.estimator.model_to_estimator`, then\n",
        "train the estimator\n",
        "\n",
        "The following example distributes a `tf.keras.Model` across multiple GPUs on a\n",
        "single machine.\n",
        "\n",
        "First, define a simple model:"
      ]
    },
    {
      "metadata": {
        "id": "sbaRr7g-0E3I",
        "colab_type": "code",
        "colab": {
          "base_uri": "https://localhost:8080/",
          "height": 204
        },
        "outputId": "5d4e7f63-f76a-4600-caad-1c71836db4a6"
      },
      "cell_type": "code",
      "source": [
        "model = keras.Sequential()\n",
        "model.add(keras.layers.Dense(16, activation='relu', input_shape=(10,)))\n",
        "model.add(keras.layers.Dense(1, activation='sigmoid'))\n",
        "\n",
        "optimizer = tf.train.GradientDescentOptimizer(0.2)\n",
        "\n",
        "model.compile(loss='binary_crossentropy', optimizer=optimizer)\n",
        "model.summary()"
      ],
      "execution_count": 29,
      "outputs": [
        {
          "output_type": "stream",
          "text": [
            "_________________________________________________________________\n",
            "Layer (type)                 Output Shape              Param #   \n",
            "=================================================================\n",
            "dense_23 (Dense)             (None, 16)                176       \n",
            "_________________________________________________________________\n",
            "dense_24 (Dense)             (None, 1)                 17        \n",
            "=================================================================\n",
            "Total params: 193\n",
            "Trainable params: 193\n",
            "Non-trainable params: 0\n",
            "_________________________________________________________________\n"
          ],
          "name": "stdout"
        }
      ]
    },
    {
      "metadata": {
        "id": "yw4hSJme0E3L",
        "colab_type": "text"
      },
      "cell_type": "markdown",
      "source": [
        "Define an *input pipeline*. The `input_fn` returns a `tf.data.Dataset` object\n",
        "used to distribute the data across multiple devices—with each device processing\n",
        "a slice of the input batch."
      ]
    },
    {
      "metadata": {
        "id": "CxJW1QMH0E3L",
        "colab_type": "code",
        "colab": {}
      },
      "cell_type": "code",
      "source": [
        "def input_fn():\n",
        "  x = np.random.random((1024, 10))\n",
        "  y = np.random.randint(2, size=(1024, 1))\n",
        "  x = tf.cast(x, tf.float32)\n",
        "  dataset = tf.data.Dataset.from_tensor_slices((x, y))\n",
        "  dataset = dataset.repeat(10)\n",
        "  dataset = dataset.batch(32)\n",
        "  return dataset"
      ],
      "execution_count": 0,
      "outputs": []
    },
    {
      "metadata": {
        "id": "rO9MiL6X0E3O",
        "colab_type": "text"
      },
      "cell_type": "markdown",
      "source": [
        "Next, create a `tf.estimator.RunConfig` and set the `train_distribute` argument\n",
        "to the `tf.contrib.distribute.MirroredStrategy` instance. When creating\n",
        "`MirroredStrategy`, you can specify a list of devices or set the `num_gpus`\n",
        "argument. The default uses all available GPUs, like the following:"
      ]
    },
    {
      "metadata": {
        "id": "BEwFq4PM0E3P",
        "colab_type": "code",
        "colab": {
          "base_uri": "https://localhost:8080/",
          "height": 51
        },
        "outputId": "9d6f4287-645c-4593-fa7a-500634f07d80"
      },
      "cell_type": "code",
      "source": [
        "strategy = tf.contrib.distribute.MirroredStrategy()\n",
        "config = tf.estimator.RunConfig(train_distribute=strategy)"
      ],
      "execution_count": 31,
      "outputs": [
        {
          "output_type": "stream",
          "text": [
            "INFO:tensorflow:Initializing RunConfig with distribution strategies.\n",
            "INFO:tensorflow:Not using Distribute Coordinator.\n"
          ],
          "name": "stdout"
        }
      ]
    },
    {
      "metadata": {
        "id": "TcnwYVun0E3R",
        "colab_type": "text"
      },
      "cell_type": "markdown",
      "source": [
        "Convert the Keras model to a `tf.estimator.Estimator` instance:"
      ]
    },
    {
      "metadata": {
        "id": "VSvbuIID0E3S",
        "colab_type": "code",
        "colab": {
          "base_uri": "https://localhost:8080/",
          "height": 173
        },
        "outputId": "89e8bd15-5b58-48b9-a75c-75e4558fd200"
      },
      "cell_type": "code",
      "source": [
        "keras_estimator = keras.estimator.model_to_estimator(\n",
        "  keras_model=model,\n",
        "  config=config,\n",
        "  model_dir='/tmp/model_dir')"
      ],
      "execution_count": 32,
      "outputs": [
        {
          "output_type": "stream",
          "text": [
            "INFO:tensorflow:Using the Keras model provided.\n",
            "INFO:tensorflow:Using config: {'_model_dir': '/tmp/model_dir', '_tf_random_seed': None, '_save_summary_steps': 100, '_save_checkpoints_steps': None, '_save_checkpoints_secs': 600, '_session_config': allow_soft_placement: true\n",
            "graph_options {\n",
            "  rewrite_options {\n",
            "    meta_optimizer_iterations: ONE\n",
            "  }\n",
            "}\n",
            ", '_keep_checkpoint_max': 5, '_keep_checkpoint_every_n_hours': 10000, '_log_step_count_steps': 100, '_train_distribute': <tensorflow.contrib.distribute.python.mirrored_strategy.MirroredStrategy object at 0x7ff79a313c88>, '_device_fn': None, '_protocol': None, '_eval_distribute': None, '_experimental_distribute': None, '_service': None, '_cluster_spec': <tensorflow.python.training.server_lib.ClusterSpec object at 0x7ff79a313ef0>, '_task_type': 'worker', '_task_id': 0, '_global_id_in_cluster': 0, '_master': '', '_evaluation_master': '', '_is_chief': True, '_num_ps_replicas': 0, '_num_worker_replicas': 1, '_distribute_coordinator_mode': None}\n"
          ],
          "name": "stdout"
        }
      ]
    },
    {
      "metadata": {
        "id": "N6BXU5F90E3U",
        "colab_type": "text"
      },
      "cell_type": "markdown",
      "source": [
        "Finally, train the `Estimator` instance by providing the `input_fn` and `steps`\n",
        "arguments:"
      ]
    },
    {
      "metadata": {
        "id": "XKoJ2wUH0E3U",
        "colab_type": "code",
        "colab": {
          "base_uri": "https://localhost:8080/",
          "height": 360
        },
        "outputId": "2b3bf9ee-65ee-4ced-8809-9eabed046e66"
      },
      "cell_type": "code",
      "source": [
        "keras_estimator.train(input_fn=input_fn, steps=10)"
      ],
      "execution_count": 33,
      "outputs": [
        {
          "output_type": "stream",
          "text": [
            "WARNING:tensorflow:Not all devices in DistributionStrategy are visible to TensorFlow session.\n",
            "INFO:tensorflow:Calling model_fn.\n",
            "INFO:tensorflow:Done calling model_fn.\n",
            "INFO:tensorflow:Warm-starting with WarmStartSettings: WarmStartSettings(ckpt_to_initialize_from='/tmp/model_dir/keras/keras_model.ckpt', vars_to_warm_start='.*', var_name_to_vocab_info={}, var_name_to_prev_var_name={})\n",
            "INFO:tensorflow:Warm-starting from: ('/tmp/model_dir/keras/keras_model.ckpt',)\n",
            "INFO:tensorflow:Warm-starting variable: dense_23/kernel; prev_var_name: Unchanged\n",
            "INFO:tensorflow:Warm-starting variable: dense_23/bias; prev_var_name: Unchanged\n",
            "INFO:tensorflow:Warm-starting variable: dense_24/kernel; prev_var_name: Unchanged\n",
            "INFO:tensorflow:Warm-starting variable: dense_24/bias; prev_var_name: Unchanged\n",
            "INFO:tensorflow:Create CheckpointSaverHook.\n",
            "INFO:tensorflow:Graph was finalized.\n",
            "INFO:tensorflow:Running local_init_op.\n",
            "INFO:tensorflow:Done running local_init_op.\n",
            "INFO:tensorflow:Saving checkpoints for 0 into /tmp/model_dir/model.ckpt.\n",
            "INFO:tensorflow:loss = 0.7223552, step = 0\n",
            "INFO:tensorflow:Saving checkpoints for 10 into /tmp/model_dir/model.ckpt.\n",
            "INFO:tensorflow:Finalize system.\n",
            "INFO:tensorflow:Loss for final step: 0.6887239.\n"
          ],
          "name": "stdout"
        },
        {
          "output_type": "execute_result",
          "data": {
            "text/plain": [
              "<tensorflow.python.estimator.estimator.Estimator at 0x7ff79a7c7fd0>"
            ]
          },
          "metadata": {
            "tags": []
          },
          "execution_count": 33
        }
      ]
    }
  ]
}