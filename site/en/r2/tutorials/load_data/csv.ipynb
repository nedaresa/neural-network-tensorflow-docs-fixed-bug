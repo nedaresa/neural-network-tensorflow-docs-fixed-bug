{
  "nbformat": 4,
  "nbformat_minor": 0,
  "metadata": {
    "colab": {
      "name": "csv.ipynb",
      "version": "0.3.2",
      "provenance": [],
      "private_outputs": true
    },
    "kernelspec": {
      "name": "python3",
      "display_name": "Python 3"
    }
  },
  "cells": [
    {
      "metadata": {
        "id": "DweYe9FcbMK_",
        "colab_type": "text"
      },
      "cell_type": "markdown",
      "source": [
        "##### Copyright 2018 The TensorFlow Authors.\n",
        "\n"
      ]
    },
    {
      "metadata": {
        "id": "AVV2e0XKbJeX",
        "colab_type": "code",
        "cellView": "form",
        "colab": {}
      },
      "cell_type": "code",
      "source": [
        "#@title Licensed under the Apache License, Version 2.0 (the \"License\");\n",
        "# you may not use this file except in compliance with the License.\n",
        "# You may obtain a copy of the License at\n",
        "#\n",
        "# https://www.apache.org/licenses/LICENSE-2.0\n",
        "#\n",
        "# Unless required by applicable law or agreed to in writing, software\n",
        "# distributed under the License is distributed on an \"AS IS\" BASIS,\n",
        "# WITHOUT WARRANTIES OR CONDITIONS OF ANY KIND, either express or implied.\n",
        "# See the License for the specific language governing permissions and\n",
        "# limitations under the License."
      ],
      "execution_count": 0,
      "outputs": []
    },
    {
      "metadata": {
        "id": "sUtoed20cRJJ",
        "colab_type": "text"
      },
      "cell_type": "markdown",
      "source": [
        "# Load CSV with tf.data"
      ]
    },
    {
      "metadata": {
        "id": "1ap_W4aQcgNT",
        "colab_type": "text"
      },
      "cell_type": "markdown",
      "source": [
        "<table class=\"tfo-notebook-buttons\" align=\"left\">\n",
        "  <td>\n",
        "    <a target=\"_blank\" href=\"https://www.tensorflow.org/alpha/tutorials/load_data/text\"><img src=\"https://www.tensorflow.org/images/tf_logo_32px.png\" />View on TensorFlow.org</a>\n",
        "  </td>\n",
        "  <td>\n",
        "    <a target=\"_blank\" href=\"https://colab.research.google.com/github/tensorflow/docs/blob/master/site/en/tutorials/load_data/text.ipynb\"><img src=\"https://www.tensorflow.org/images/colab_logo_32px.png\" />Run in Google Colab</a>\n",
        "  </td>\n",
        "  <td>\n",
        "    <a target=\"_blank\" href=\"https://github.com/tensorflow/docs/blob/master/site/en/tutorials/load_data/text.ipynb\"><img src=\"https://www.tensorflow.org/images/GitHub-Mark-32px.png\" />View source on GitHub</a>\n",
        "  </td>\n",
        "</table>"
      ]
    },
    {
      "metadata": {
        "id": "fgZ9gjmPfSnK",
        "colab_type": "text"
      },
      "cell_type": "markdown",
      "source": [
        "## Setup"
      ]
    },
    {
      "metadata": {
        "id": "I4dwMQVQMQWD",
        "colab_type": "code",
        "colab": {}
      },
      "cell_type": "code",
      "source": [
        "!pip install tensorflow==2.0.0-alpha0"
      ],
      "execution_count": 0,
      "outputs": []
    },
    {
      "metadata": {
        "id": "baYFZMW_bJHh",
        "colab_type": "code",
        "colab": {}
      },
      "cell_type": "code",
      "source": [
        "from __future__ import absolute_import, division, print_function\n",
        "\n",
        "import requests\n",
        "\n",
        "import tensorflow as tf\n",
        "import tensorflow_datasets as tfds\n"
      ],
      "execution_count": 0,
      "outputs": []
    },
    {
      "metadata": {
        "id": "54Dv7mCrf9Yw",
        "colab_type": "code",
        "colab": {}
      },
      "cell_type": "code",
      "source": [
        "!ls"
      ],
      "execution_count": 0,
      "outputs": []
    },
    {
      "metadata": {
        "id": "Ncf5t6tgL5ZI",
        "colab_type": "code",
        "colab": {}
      },
      "cell_type": "code",
      "source": [
        "TRAIN_DATA_URL = \"https://archive.ics.uci.edu/ml/machine-learning-databases/adult/adult.data\"\n",
        "TEST_DATA_URL = \"https://archive.ics.uci.edu/ml/machine-learning-databases/adult/adult.test\""
      ],
      "execution_count": 0,
      "outputs": []
    },
    {
      "metadata": {
        "id": "v0sLG216MtwT",
        "colab_type": "code",
        "colab": {}
      },
      "cell_type": "code",
      "source": [
        "# CSV columns in the input file.\n",
        "CSV_COLUMNS = ['age', 'workclass', 'fnlwgt', 'education', 'education_num',\n",
        "               'marital_status', 'occupation', 'relationship', 'race', 'gender',\n",
        "               'capital_gain', 'capital_loss', 'hours_per_week',\n",
        "               'native_country', 'income_bracket']"
      ],
      "execution_count": 0,
      "outputs": []
    },
    {
      "metadata": {
        "id": "mWDniduKMw-C",
        "colab_type": "code",
        "colab": {}
      },
      "cell_type": "code",
      "source": [
        "CATEGORIES = {\n",
        "    'education': ['Bachelors', 'Some-college', '11th', 'HS-grad', 'Prof-school',\n",
        "                  'Assoc-acdm', 'Assoc-voc', '9th', '7th-8th', '12th',\n",
        "                  'Masters', '1st-4th', '10th', 'Doctorate', '5th-6th',\n",
        "                  'Preschool'],\n",
        "    'marital_status': ['Married-civ-spouse', 'Divorced', 'Never-married',\n",
        "                       'Separated', 'Widowed', 'Married-spouse-absent',\n",
        "                       'Married-AF-spouse'],\n",
        "    'relationship': ['Wife', 'Own-child', 'Husband', 'Not-in-family',\n",
        "                     'Other-relative', 'Unmarried'],\n",
        "    'workclass': ['Private', 'Self-emp-not-inc', 'Self-emp-inc', 'Federal-gov',\n",
        "                  'Local-gov', 'State-gov', 'Without-pay', 'Never-worked'],\n",
        "    'occupation': ['Tech-support', 'Craft-repair', 'Other-service', 'Sales',\n",
        "                   'Exec-managerial', 'Prof-specialty', 'Handlers-cleaners',\n",
        "                   'Machine-op-inspct', 'Adm-clerical', 'Farming-fishing',\n",
        "                   'Transport-moving', 'Priv-house-serv', 'Protective-serv',\n",
        "                   'Armed-Forces'],\n",
        "    'gender': ['Male', 'Female'],\n",
        "    'race': ['White', 'Asian-Pac-Islander', 'Amer-Indian-Eskimo', 'Other',\n",
        "             'Black'],\n",
        "}"
      ],
      "execution_count": 0,
      "outputs": []
    },
    {
      "metadata": {
        "id": "-wk-BS1WMzHf",
        "colab_type": "code",
        "colab": {}
      },
      "cell_type": "code",
      "source": [
        "\n",
        "MEANS = {\n",
        "    'age': 38.64358543876172,\n",
        "    'education_num': 10.078088530363212,\n",
        "    'capital_gain': 1079.0676262233324,\n",
        "    'capital_loss': 87.50231358257237,\n",
        "    'hours_per_week': 40.422382375824085,\n",
        "}"
      ],
      "execution_count": 0,
      "outputs": []
    },
    {
      "metadata": {
        "id": "G-t_RSBrM2Vm",
        "colab_type": "code",
        "colab": {}
      },
      "cell_type": "code",
      "source": [
        "LABELS = ['<=50K', '>50K']\n",
        "LABEL_COLUMN = 'income_bracket'"
      ],
      "execution_count": 0,
      "outputs": []
    },
    {
      "metadata": {
        "id": "peA7zeLNM34w",
        "colab_type": "code",
        "colab": {}
      },
      "cell_type": "code",
      "source": [
        "USED_COLUMNS = ['age', 'workclass', 'education', 'education_num',\n",
        "                'marital_status', 'occupation', 'relationship', 'race',\n",
        "                'gender', 'capital_gain', 'capital_loss', 'hours_per_week',\n",
        "                'income_bracket']\n",
        "\n",
        "USED_COLUMN_DEFAULTS = [[0], [''], [''], [0], [''], [''], [''], [''], [''], [0],\n",
        "                        [0], [0], ['']]"
      ],
      "execution_count": 0,
      "outputs": []
    },
    {
      "metadata": {
        "id": "d5NCARS7M8lj",
        "colab_type": "code",
        "colab": {}
      },
      "cell_type": "code",
      "source": [
        "BATCH_SIZE = 64\n",
        "\n",
        "INPUT_SIZE = 63\n",
        "CLASS_SIZE = 2\n",
        "\n",
        "MAX_LEN = 100"
      ],
      "execution_count": 0,
      "outputs": []
    },
    {
      "metadata": {
        "id": "Co7UJ7gpNADC",
        "colab_type": "code",
        "colab": {}
      },
      "cell_type": "code",
      "source": [
        "def get_dataset(path):\n",
        "  dataset = tf.data.experimental.make_csv_dataset(\n",
        "      path,\n",
        "      batch_size=BATCH_SIZE,\n",
        "      column_names=CSV_COLUMNS,\n",
        "      label_name=LABEL_COLUMN,\n",
        "      select_columns=USED_COLUMNS,\n",
        "      column_defaults=USED_COLUMN_DEFAULTS,\n",
        "      na_value=\"?\",\n",
        "      num_epochs=1,\n",
        "      ignore_errors=True)\n",
        "  dataset = dataset.map(preprocess)\n",
        "  return dataset"
      ],
      "execution_count": 0,
      "outputs": []
    },
    {
      "metadata": {
        "id": "rMxEHN0SNPkC",
        "colab_type": "code",
        "colab": {}
      },
      "cell_type": "code",
      "source": [
        "def preprocess(features, label):\n",
        "  \n",
        "  def process_categorical_data(data, categories):\n",
        "    # Remove leading ' '.\n",
        "    data = tf.strings.regex_replace(data, '^ ', '')\n",
        "    # Remove trailing '.'.\n",
        "    data = tf.strings.regex_replace(data, r'\\.$', '')\n",
        "    # Map category to a number.\n",
        "    data = tf.cast(tf.equal(categories, tf.reshape(data, [-1, 1])), tf.float32)\n",
        "    return data\n",
        "  \n",
        "  def process_continuous_data(data, mean):\n",
        "    # Normalize data\n",
        "    data = tf.cast(data, tf.float32) * 1/(2*mean)\n",
        "    return tf.reshape(data, [-1, 1])\n",
        "\n",
        "  # Process categorial features.\n",
        "  for feature in [\n",
        "      'education', 'marital_status', 'relationship', 'workclass', 'occupation',\n",
        "      'gender', 'race'\n",
        "  ]:\n",
        "    features[feature] = process_categorical_data(features[feature],\n",
        "                                                 CATEGORIES[feature])\n",
        "\n",
        "  # Process continuous features.\n",
        "  for feature in [\n",
        "      'age', 'education_num', 'capital_gain', 'capital_loss', 'hours_per_week'\n",
        "  ]:\n",
        "    features[feature] = process_continuous_data(features[feature],\n",
        "                                                MEANS[feature])\n",
        "\n",
        "  # Process the label.\n",
        "  label = process_categorical_data(label, LABELS)\n",
        "\n",
        "  features = tf.concat([\n",
        "      features['education'], features['marital_status'],\n",
        "      features['relationship'], features['workclass'], features['occupation'],\n",
        "      features['gender'], features['race'], features['age'],\n",
        "      features['education_num'], features['capital_gain'],\n",
        "      features['capital_loss'], features['hours_per_week']\n",
        "  ], 1)\n",
        "\n",
        "  return features, label"
      ],
      "execution_count": 0,
      "outputs": []
    },
    {
      "metadata": {
        "id": "JDM3FIgHNCW3",
        "colab_type": "code",
        "colab": {}
      },
      "cell_type": "code",
      "source": [
        "def get_model(input_dim, labels_dim, hidden_units=[100], learning_rate=0.01):\n",
        "  \"\"\"Create a Keras Sequential model with layers.\n",
        "\n",
        "  Args:\n",
        "    input_dim: (int) Input dimensions for input layer.\n",
        "    labels_dim: (int) Label dimensions for input layer.\n",
        "    hidden_units: [int] the layer sizes of the DNN (input layer first)\n",
        "    learning_rate: (float) the learning rate for the optimizer.\n",
        "\n",
        "  Returns:\n",
        "    A Keras model.\n",
        "  \"\"\"\n",
        "\n",
        "  inputs = tf.keras.Input(shape=(input_dim,))\n",
        "  x = inputs\n",
        "  for units in hidden_units:\n",
        "    x = tf.keras.layers.Dense(units, activation=tf.keras.backend.relu)(x)\n",
        "  outputs = tf.keras.layers.Dense(labels_dim, activation='sigmoid')(x)\n",
        "\n",
        "  model = tf.keras.Model(inputs, outputs)\n",
        "  model.compile(\n",
        "      loss='categorical_crossentropy',\n",
        "      optimizer=tf.keras.optimizers.RMSprop(learning_rate),\n",
        "      metrics=['accuracy'])\n",
        "  return model"
      ],
      "execution_count": 0,
      "outputs": []
    },
    {
      "metadata": {
        "id": "Q_nm28IzNDTO",
        "colab_type": "code",
        "colab": {}
      },
      "cell_type": "code",
      "source": [
        "def main():\n",
        "  \n",
        "  \n",
        "  train_file = tf.keras.utils.get_file(\"adults.data\", TRAIN_DATA_URL)\n",
        "  test_file = tf.keras.utils.get_file(\"adults.test\", TEST_DATA_URL)\n",
        "\n",
        "  train_data = get_dataset(train_file)\n",
        "  test_data = get_dataset(test_file)\n",
        "  model = get_model(INPUT_SIZE, CLASS_SIZE)\n",
        "\n",
        "  model.fit(train_data, epochs=20)\n",
        "  model.evaluate(test_data)"
      ],
      "execution_count": 0,
      "outputs": []
    },
    {
      "metadata": {
        "id": "uXKYMC72LJbf",
        "colab_type": "code",
        "colab": {}
      },
      "cell_type": "code",
      "source": [
        "main()"
      ],
      "execution_count": 0,
      "outputs": []
    },
    {
      "metadata": {
        "id": "eB3R3ViVONOp",
        "colab_type": "code",
        "colab": {}
      },
      "cell_type": "code",
      "source": [
        ""
      ],
      "execution_count": 0,
      "outputs": []
    }
  ]
}