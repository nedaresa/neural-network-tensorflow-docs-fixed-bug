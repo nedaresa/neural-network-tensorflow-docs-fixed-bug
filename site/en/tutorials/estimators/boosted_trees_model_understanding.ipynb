{
  "nbformat": 4,
  "nbformat_minor": 0,
  "metadata": {
    "colab": {
      "name": "boosted_trees_model_understanding.ipynb",
      "version": "0.3.2",
      "provenance": [],
      "collapsed_sections": [],
      "toc_visible": true
    },
    "kernelspec": {
      "name": "python3",
      "display_name": "Python 3"
    }
  },
  "cells": [
    {
      "metadata": {
        "colab_type": "text",
        "id": "7765UFHoyGx6"
      },
      "cell_type": "markdown",
      "source": [
        "##### Copyright 2019 The TensorFlow Authors."
      ]
    },
    {
      "metadata": {
        "cellView": "form",
        "colab_type": "code",
        "id": "KVtTDrUNyL7x",
        "colab": {}
      },
      "cell_type": "code",
      "source": [
        "#@title Licensed under the Apache License, Version 2.0 (the \"License\");\n",
        "# you may not use this file except in compliance with the License.\n",
        "# You may obtain a copy of the License at\n",
        "#\n",
        "# https://www.apache.org/licenses/LICENSE-2.0\n",
        "#\n",
        "# Unless required by applicable law or agreed to in writing, software\n",
        "# distributed under the License is distributed on an \"AS IS\" BASIS,\n",
        "# WITHOUT WARRANTIES OR CONDITIONS OF ANY KIND, either express or implied.\n",
        "# See the License for the specific language governing permissions and\n",
        "# limitations under the License."
      ],
      "execution_count": 0,
      "outputs": []
    },
    {
      "metadata": {
        "colab_type": "text",
        "id": "r0_fqL3ayLHX"
      },
      "cell_type": "markdown",
      "source": [
        "# Gradient Boosted Trees: Model understanding"
      ]
    },
    {
      "metadata": {
        "colab_type": "text",
        "id": "PS6_yKSoyLAl"
      },
      "cell_type": "markdown",
      "source": [
        "<table class=\"tfo-notebook-buttons\" align=\"left\">\n",
        "  <td>\n",
        "    <a target=\"_blank\" href=\"https://www.tensorflow.org/tutorials/estimators/boosted_trees_model_understanding\"><img src=\"https://www.tensorflow.org/images/tf_logo_32px.png\" />View on TensorFlow.org</a>\n",
        "  </td>\n",
        "  <td>\n",
        "    <a target=\"_blank\" href=\"https://colab.sandbox.google.com/github/tensorflow/docs/blob/master/site/en/tutorials/estimators/boosted_trees_model_understanding.ipynb\"><img src=\"https://www.tensorflow.org/images/colab_logo_32px.png\" />Run in Google Colab</a>\n",
        "  </td>\n",
        "  <td>\n",
        "    <a target=\"_blank\" href=\"https://github.com/tensorflow/docs/tree/master/site/en/tutorials/estimators/boosted_trees_model_understanding.ipynb\"><img src=\"https://www.tensorflow.org/images/GitHub-Mark-32px.png\" />View source on GitHub</a>\n",
        "  </td>\n",
        "</table>"
      ]
    },
    {
      "metadata": {
        "colab_type": "text",
        "id": "dW3r7qVxzqN5"
      },
      "cell_type": "markdown",
      "source": [
        "\n",
        "For an end-to-end walkthrough of training a Gradient Boosting model check out the [boosted trees tutorial](https://www.tensorflow.org/tutorials/boosted_trees). In this tutorial you will:\n",
        "\n",
        "* Learn how to interpret a Boosted Tree model both *locally* and *globally*\n",
        "* Gain intution for how a Boosted Trees model fits a dataset\n",
        "\n",
        "## How to interpret Boosted Trees models both locally and globally\n",
        "\n",
        "Local interpretability refers to an understanding of a model’s predictions at the individual example level, while global interpretability refers to an understanding of the model as a whole. Such techniques can help machine learning (ML) practitioners detect bias and bugs during the model development stage\n",
        "\n",
        "For local interpretability, you will learn how to create and visualize per-instance contributions. To distinguish this from feature importances, we refer to these values as directional feature contributions (DFCs).\n",
        "\n",
        "For global interpretability you will retrieve and visualize gain-based feature importances, [permutation feature importances](https://www.stat.berkeley.edu/~breiman/randomforest2001.pdf) and also show aggregated DFCs."
      ]
    },
    {
      "metadata": {
        "colab_type": "text",
        "id": "eylrTPAN3rJV"
      },
      "cell_type": "markdown",
      "source": [
        "## Load the titanic dataset\n",
        "You will be using the titanic dataset, where the (rather morbid) goal is to predict passenger survival, given characteristics such as gender, age, class, etc."
      ]
    },
    {
      "metadata": {
        "colab_type": "code",
        "id": "XC30GjNbnIQc",
        "colab": {}
      },
      "cell_type": "code",
      "source": [
        "!pip install tf-nightly  # Requires tf 1.13"
      ],
      "execution_count": 0,
      "outputs": []
    },
    {
      "metadata": {
        "colab_type": "code",
        "id": "KuhAiPfZ3rJW",
        "colab": {}
      },
      "cell_type": "code",
      "source": [
        "from __future__ import absolute_import, division, print_function\n",
        "\n",
        "import numpy as np\n",
        "import pandas as pd\n",
        "import tensorflow as tf\n",
        "\n",
        "tf.logging.set_verbosity(tf.logging.ERROR)\n",
        "tf.set_random_seed(123)\n",
        "\n",
        "# Load dataset.\n",
        "dftrain = pd.read_csv('https://storage.googleapis.com/tfbt/titanic_train.csv')\n",
        "dfeval = pd.read_csv('https://storage.googleapis.com/tfbt/titanic_eval.csv')\n",
        "y_train = dftrain.pop('survived')\n",
        "y_eval = dfeval.pop('survived')"
      ],
      "execution_count": 0,
      "outputs": []
    },
    {
      "metadata": {
        "colab_type": "text",
        "id": "3ioodHdVJVdA"
      },
      "cell_type": "markdown",
      "source": [
        "For a description of the features, please review the prior tutorial."
      ]
    },
    {
      "metadata": {
        "colab_type": "text",
        "id": "krkRHuMp3rJn"
      },
      "cell_type": "markdown",
      "source": [
        "## Create feature columns, input_fn, and the train the estimator"
      ]
    },
    {
      "metadata": {
        "colab_type": "text",
        "id": "JiJ6K3hr1lXW"
      },
      "cell_type": "markdown",
      "source": [
        "### Preprocess the data"
      ]
    },
    {
      "metadata": {
        "colab_type": "text",
        "id": "udMytRJC05oW"
      },
      "cell_type": "markdown",
      "source": [
        "Create the feature columns, using the original numeric columns as is and one-hot-encoding categorical variables."
      ]
    },
    {
      "metadata": {
        "colab_type": "code",
        "id": "upaNWxcF3rJn",
        "colab": {}
      },
      "cell_type": "code",
      "source": [
        "fc = tf.feature_column\n",
        "CATEGORICAL_COLUMNS = ['sex', 'n_siblings_spouses', 'parch', 'class', 'deck', \n",
        "                       'embark_town', 'alone']\n",
        "NUMERIC_COLUMNS = ['age', 'fare']\n",
        "  \n",
        "def one_hot_cat_column(feature_name, vocab):\n",
        "  return fc.indicator_column(\n",
        "      fc.categorical_column_with_vocabulary_list(feature_name,\n",
        "                                                 vocab))\n",
        "feature_columns = []\n",
        "for feature_name in CATEGORICAL_COLUMNS:\n",
        "  # Need to one-hot encode categorical features.\n",
        "  vocabulary = dftrain[feature_name].unique()\n",
        "  feature_columns.append(one_hot_cat_column(feature_name, vocabulary))\n",
        "  \n",
        "for feature_name in NUMERIC_COLUMNS:\n",
        "  feature_columns.append(fc.numeric_column(feature_name,\n",
        "                                           dtype=tf.float32))"
      ],
      "execution_count": 0,
      "outputs": []
    },
    {
      "metadata": {
        "colab_type": "text",
        "id": "9rTefnXe1n0v"
      },
      "cell_type": "markdown",
      "source": [
        "### Build the input pipeline"
      ]
    },
    {
      "metadata": {
        "colab_type": "text",
        "id": "-UOlROp33rJo"
      },
      "cell_type": "markdown",
      "source": [
        "Create the input functions using the `from_tensor_slices` method in the [`tf.data`](https://www.tensorflow.org/api_docs/python/tf/data) API to read in data directly from Pandas."
      ]
    },
    {
      "metadata": {
        "colab_type": "code",
        "id": "9dquwCQB3rJp",
        "colab": {}
      },
      "cell_type": "code",
      "source": [
        "# Use entire batch since this is such a small dataset.\n",
        "NUM_EXAMPLES = len(y_train)\n",
        "\n",
        "def make_input_fn(X, y, n_epochs=None, shuffle=True):\n",
        "  def input_fn():\n",
        "    dataset = tf.data.Dataset.from_tensor_slices((X.to_dict(orient='list'), y))\n",
        "    if shuffle:\n",
        "      dataset = dataset.shuffle(NUM_EXAMPLES)\n",
        "    # For training, cycle thru dataset as many times as need (n_epochs=None).    \n",
        "    dataset = (dataset\n",
        "      .repeat(n_epochs)\n",
        "      .batch(NUM_EXAMPLES)) \n",
        "    return dataset\n",
        "  return input_fn\n",
        "\n",
        "# Training and evaluation input functions.\n",
        "train_input_fn = make_input_fn(dftrain, y_train)\n",
        "eval_input_fn = make_input_fn(dfeval, y_eval, shuffle=False, n_epochs=1)"
      ],
      "execution_count": 0,
      "outputs": []
    },
    {
      "metadata": {
        "colab_type": "text",
        "id": "HttfNNlN3rJr"
      },
      "cell_type": "markdown",
      "source": [
        "### Train the model"
      ]
    },
    {
      "metadata": {
        "colab_type": "code",
        "id": "tgEzMtlw3rJu",
        "colab": {}
      },
      "cell_type": "code",
      "source": [
        "params = {\n",
        "  'n_trees': 50,\n",
        "  'max_depth': 3,\n",
        "  'n_batches_per_layer': 1,\n",
        "  # You must enable center_bias = True to get DFCs. This will force the model to \n",
        "  # make an initial prediction before using any features (e.g. use the mean of \n",
        "  # the training labels for regression or log odds for classificaiton when\n",
        "  # using cross entropy loss).\n",
        "  'center_bias': True\n",
        "}\n",
        "\n",
        "est = tf.estimator.BoostedTreesClassifier(feature_columns, **params)\n",
        "est.train(train_input_fn, max_steps=100)\n",
        "results = est.evaluate(eval_input_fn)\n",
        "pd.Series(results).to_frame()"
      ],
      "execution_count": 0,
      "outputs": []
    },
    {
      "metadata": {
        "colab_type": "text",
        "id": "cUrakbu6sqKe"
      },
      "cell_type": "markdown",
      "source": [
        "For performance reasons, when your data fits in memory, we recommend use the `boosted_trees_classifier_train_in_memory` function. However if training time is not of a concern or if you have a very large dataset and want to do distributed training, use the `tf.estimator.BoostedTrees` API shown above.\n",
        "\n",
        "\n",
        "When using this method, you should not batch your input data, as the method operates on the entire dataset.\n"
      ]
    },
    {
      "metadata": {
        "colab_type": "code",
        "id": "-4_xz3b_D0W5",
        "colab": {}
      },
      "cell_type": "code",
      "source": [
        "in_memory_params = dict(params)\n",
        "del in_memory_params['n_batches_per_layer']\n",
        "# In-memory input_fn does not use batching.\n",
        "def make_inmemory_train_input_fn(X, y):\n",
        "  def input_fn():\n",
        "    return dict(X), y\n",
        "  return input_fn\n",
        "train_input_fn = make_inmemory_train_input_fn(dftrain, y_train)\n",
        "\n",
        "# Train the model.\n",
        "est = tf.contrib.estimator.boosted_trees_classifier_train_in_memory(\n",
        "    train_input_fn,\n",
        "    feature_columns,\n",
        "    **in_memory_params)\n",
        "print(est.evaluate(eval_input_fn))"
      ],
      "execution_count": 0,
      "outputs": []
    },
    {
      "metadata": {
        "colab_type": "text",
        "id": "TSZYqNcRuczV"
      },
      "cell_type": "markdown",
      "source": [
        "## Model interpretation and plotting"
      ]
    },
    {
      "metadata": {
        "colab_type": "code",
        "id": "BjcfLiI3uczW",
        "colab": {}
      },
      "cell_type": "code",
      "source": [
        "import matplotlib.pyplot as plt\n",
        "import seaborn as sns\n",
        "sns_colors = sns.color_palette('colorblind')"
      ],
      "execution_count": 0,
      "outputs": []
    },
    {
      "metadata": {
        "colab_type": "text",
        "id": "ywTtbBvBuczY"
      },
      "cell_type": "markdown",
      "source": [
        "## Local interpretability\n",
        "Next you will output the directional feature contributions (DFCs) to explain individual predictions using the approach outlined in [Palczewska et al](https://arxiv.org/pdf/1312.1121.pdf) and by Saabas in [Interpreting Random Forests](http://blog.datadive.net/interpreting-random-forests/) (this method is also available in scikit-learn for Random Forests in the [`treeinterpreter`](https://github.com/andosa/treeinterpreter) package). The DFCs are generated with:\n",
        "\n",
        "`pred_dicts = list(est.experimental_predict_with_explanations(pred_input_fn))`\n",
        "\n",
        "(Note: The method is named experimental as we may modify the API before dropping the experimental prefix.)"
      ]
    },
    {
      "metadata": {
        "colab_type": "code",
        "id": "TIL93B4sDRqE",
        "colab": {}
      },
      "cell_type": "code",
      "source": [
        "pred_dicts = list(est.experimental_predict_with_explanations(eval_input_fn))"
      ],
      "execution_count": 0,
      "outputs": []
    },
    {
      "metadata": {
        "colab_type": "code",
        "id": "tDPoRx_ZaY1E",
        "colab": {}
      },
      "cell_type": "code",
      "source": [
        "# Create DFC Pandas dataframe.\n",
        "labels = y_eval.values\n",
        "probs = pd.Series([pred['probabilities'][1] for pred in pred_dicts])\n",
        "df_dfc = pd.DataFrame([pred['dfc'] for pred in pred_dicts])\n",
        "df_dfc.describe().T"
      ],
      "execution_count": 0,
      "outputs": []
    },
    {
      "metadata": {
        "colab_type": "text",
        "id": "EUKSaVoraY1C"
      },
      "cell_type": "markdown",
      "source": [
        "A nice property of DFCs is that the sum of the contributions + the bias is equal to the prediction for a given example."
      ]
    },
    {
      "metadata": {
        "colab_type": "code",
        "id": "Hd9VuizRaY1H",
        "colab": {}
      },
      "cell_type": "code",
      "source": [
        "# Sum of DFCs + bias == probabality.\n",
        "bias = pred_dicts[0]['bias']\n",
        "dfc_prob = df_dfc.sum(axis=1) + bias\n",
        "np.testing.assert_almost_equal(dfc_prob.values,\n",
        "                               probs.values)"
      ],
      "execution_count": 0,
      "outputs": []
    },
    {
      "metadata": {
        "colab_type": "text",
        "id": "uIC7qm1gaY1L"
      },
      "cell_type": "markdown",
      "source": [
        "Plot DFCs for an individual passenger."
      ]
    },
    {
      "metadata": {
        "colab_type": "code",
        "id": "P3u971LsuczZ",
        "colab": {}
      },
      "cell_type": "code",
      "source": [
        "# Plot results.\n",
        "ID = 182\n",
        "example = df_dfc.iloc[ID]  # Choose ith example from evaluation set.\n",
        "TOP_N = 8  # View top 8 features.\n",
        "sorted_ix = example.abs().sort_values()[-TOP_N:].index\n",
        "ax = example[sorted_ix].plot(kind='barh', color=sns_colors[3])\n",
        "ax.grid(False, axis='y')\n",
        "\n",
        "ax.set_title('Feature contributions for example {}\\n pred: {:1.2f}; label: {}'.format(ID, probs[ID], labels[ID]))\n",
        "ax.set_xlabel('Contribution to predicted probability');"
      ],
      "execution_count": 0,
      "outputs": []
    },
    {
      "metadata": {
        "colab_type": "text",
        "id": "L4i4mjK66FYg"
      },
      "cell_type": "markdown",
      "source": [
        "The larger magnitude contributions have a larger impact on the model's prediction. Negative contributions indicate the feature value for this given example reduced the model's prediction, while positive values contribute an increase in the prediction."
      ]
    },
    {
      "metadata": {
        "colab_type": "text",
        "id": "tx5p4vEhuczg"
      },
      "cell_type": "markdown",
      "source": [
        "### Improved plotting\n",
        "Let's make the plot nice by color coding based on the contributions' directionality and add the feature values on figure."
      ]
    },
    {
      "metadata": {
        "colab_type": "code",
        "id": "6z_Tq1Pquczj",
        "colab": {}
      },
      "cell_type": "code",
      "source": [
        "# Boilerplate code for plotting :)\n",
        "def _get_color(value):\n",
        "    \"\"\"To make positive DFCs plot green, negative DFCs plot red.\"\"\"\n",
        "    green, red = sns.color_palette()[2:4]\n",
        "    if value >= 0: return green\n",
        "    return red\n",
        "\n",
        "def _add_feature_values(feature_values, ax):\n",
        "    \"\"\"Display feature's values on left of plot.\"\"\"\n",
        "    x_coord = ax.get_xlim()[0]\n",
        "    OFFSET = 0.15\n",
        "    for y_coord, (feat_name, feat_val) in enumerate(feature_values.items()):\n",
        "        t = plt.text(x_coord, y_coord - OFFSET, '{}'.format(feat_val), size=12)\n",
        "        t.set_bbox(dict(facecolor='white', alpha=0.5))\n",
        "    from matplotlib.font_manager import FontProperties\n",
        "    font = FontProperties()\n",
        "    font.set_weight('bold')\n",
        "    t = plt.text(x_coord, y_coord + 1 - OFFSET, 'feature\\nvalue',\n",
        "    fontproperties=font, size=12)\n",
        "    \n",
        "def plot_example(example):\n",
        "  TOP_N = 8 # View top 8 features.\n",
        "  sorted_ix = example.abs().sort_values()[-TOP_N:].index  # Sort by magnitude.\n",
        "  example = example[sorted_ix]\n",
        "  colors = example.map(_get_color).tolist()\n",
        "  ax = example.to_frame().plot(kind='barh',\n",
        "                          color=[colors],\n",
        "                          legend=None,\n",
        "                          alpha=0.75,\n",
        "                          figsize=(10,6))\n",
        "  ax.grid(False, axis='y')\n",
        "  ax.set_yticklabels(ax.get_yticklabels(), size=14)\n",
        "\n",
        "  # Add feature values.\n",
        "  _add_feature_values(dfeval.iloc[ID][sorted_ix], ax)\n",
        "  return ax"
      ],
      "execution_count": 0,
      "outputs": []
    },
    {
      "metadata": {
        "colab_type": "text",
        "id": "FlrsuOu8-Yds"
      },
      "cell_type": "markdown",
      "source": [
        "Plot example."
      ]
    },
    {
      "metadata": {
        "colab_type": "code",
        "id": "Ht1P2-1euczk",
        "colab": {}
      },
      "cell_type": "code",
      "source": [
        "example = df_dfc.iloc[ID]  # Choose IDth example from evaluation set.\n",
        "ax = plot_example(example)\n",
        "ax.set_title('Feature contributions for example {}\\n pred: {:1.2f}; label: {}'.format(ID, probs[ID], labels[ID]))\n",
        "ax.set_xlabel('Contribution to predicted probability', size=14);"
      ],
      "execution_count": 0,
      "outputs": []
    },
    {
      "metadata": {
        "colab_type": "text",
        "id": "0swvlkZFaY1Z"
      },
      "cell_type": "markdown",
      "source": [
        "You can also plot the example's DFCs compare with the entire distribution using a voilin plot."
      ]
    },
    {
      "metadata": {
        "colab_type": "code",
        "id": "zo7rNd1v_5e2",
        "colab": {}
      },
      "cell_type": "code",
      "source": [
        "# Boilerplate plotting code.\n",
        "def dist_violin_plot(df_dfc, ID):\n",
        "  # Initialize plot.\n",
        "  fig, ax = plt.subplots(1, 1, figsize=(10, 6))\n",
        "  \n",
        "  # Create example dataframe.\n",
        "  TOP_N = 8  # View top 8 features.\n",
        "  example = df_dfc.iloc[ID]\n",
        "  ix = example.abs().sort_values()[-TOP_N:].index\n",
        "  example = example[ix]\n",
        "  example_df = example.to_frame(name='dfc')\n",
        "  \n",
        "  # Add contributions of entire distribution.\n",
        "  parts=ax.violinplot([df_dfc[w] for w in ix],\n",
        "                 vert=False,\n",
        "                 showextrema=False,\n",
        "                 widths=0.7,\n",
        "                 positions=np.arange(len(ix)))\n",
        "  face_color = sns_colors[0]\n",
        "  alpha = 0.15\n",
        "  for pc in parts['bodies']:\n",
        "      pc.set_facecolor(face_color)\n",
        "      pc.set_alpha(alpha)\n",
        "  \n",
        "  # Add feature values.\n",
        "  _add_feature_values(dfeval.iloc[ID][sorted_ix], ax)\n",
        "\n",
        "  # Add local contributions.\n",
        "  ax.scatter(example,\n",
        "              np.arange(example.shape[0]),\n",
        "              color=sns.color_palette()[2],\n",
        "              s=100,\n",
        "              marker=\"s\",\n",
        "              label='contributions for example')\n",
        "  \n",
        "  # Legend\n",
        "  # Proxy plot, to show violinplot dist on legend.\n",
        "  ax.plot([0,0], [1,1], label='eval set contributions\\ndistributions',\n",
        "          color=face_color, alpha=alpha, linewidth=10)\n",
        "  legend = ax.legend(loc='lower right', shadow=True, fontsize='x-large',\n",
        "                     frameon=True)\n",
        "  legend.get_frame().set_facecolor('white')\n",
        "  \n",
        "  # Format plot.\n",
        "  ax.set_yticks(np.arange(example.shape[0]))\n",
        "  ax.set_yticklabels(example.index)\n",
        "  ax.grid(False, axis='y')\n",
        "  ax.set_xlabel('Contribution to predicted probability', size=14)"
      ],
      "execution_count": 0,
      "outputs": []
    },
    {
      "metadata": {
        "colab_type": "text",
        "id": "PiLw2tlm_9aK"
      },
      "cell_type": "markdown",
      "source": [
        "Plot this example."
      ]
    },
    {
      "metadata": {
        "colab_type": "code",
        "id": "VkCqraA2uczm",
        "colab": {}
      },
      "cell_type": "code",
      "source": [
        "dist_violin_plot(df_dfc, ID)\n",
        "plt.title('Feature contributions for example {}\\n pred: {:1.2f}; label: {}'.format(ID, probs[ID], labels[ID]));"
      ],
      "execution_count": 0,
      "outputs": []
    },
    {
      "metadata": {
        "colab_type": "text",
        "id": "TVJFM85SAWVq"
      },
      "cell_type": "markdown",
      "source": [
        "Finally, third-party tools, such as [LIME](https://github.com/marcotcr/lime) and [shap](https://github.com/slundberg/shap), can also help understand individual predictions for a model."
      ]
    },
    {
      "metadata": {
        "colab_type": "text",
        "id": "PnNXH6mZuczr"
      },
      "cell_type": "markdown",
      "source": [
        "## Global feature importances\n",
        "\n",
        "Additionally, you might want to understand the model as a whole, rather than studying individual predictions. Below, you will compute and use:\n",
        "\n",
        "1. Gain-based feature importances using `est.experimental_feature_importances`\n",
        "2. Permutation importances\n",
        "3. Aggregate DFCs using `est.experimental_predict_with_explanations`\n",
        "\n",
        "Gain-based feature importances measure the loss change when splitting on a particular feature, while permutation feature importances are computed by evaluating model performance on the evaluation set by shuffling each feature one-by-one and attributing the change in model performance to the shuffled feature.\n",
        "\n",
        "In general, permutation feature importance are preferred to gain-based feature importance, though both methods can be unreliable in situations where potential predictor variables vary in their scale of measurement or their number of categories and when features are correlated ([source](https://bmcbioinformatics.biomedcentral.com/articles/10.1186/1471-2105-9-307)). Check out [this article](http://explained.ai/rf-importance/index.html) for an in-depth overview and great discussion on different feature importance types."
      ]
    },
    {
      "metadata": {
        "colab_type": "text",
        "id": "3ocBcMatuczs"
      },
      "cell_type": "markdown",
      "source": [
        "### 1. Gain-based feature importances"
      ]
    },
    {
      "metadata": {
        "colab_type": "text",
        "id": "gMaxCgPbBJ-j"
      },
      "cell_type": "markdown",
      "source": [
        "Gain-based feature importances are built into the TensorFlow Boosted Trees estimators using `est.experimental_feature_importances`."
      ]
    },
    {
      "metadata": {
        "colab_type": "code",
        "id": "pPTxbAaeuczt",
        "colab": {}
      },
      "cell_type": "code",
      "source": [
        "importances = est.experimental_feature_importances(normalize=True)\n",
        "df_imp = pd.Series(importances)\n",
        "\n",
        "# Visualize importances.\n",
        "N = 8\n",
        "ax = (df_imp.iloc[0:N][::-1]\n",
        "    .plot(kind='barh',\n",
        "          color=sns_colors[0],\n",
        "          title='Gain feature importances',\n",
        "          figsize=(10, 6)))\n",
        "ax.grid(False, axis='y')"
      ],
      "execution_count": 0,
      "outputs": []
    },
    {
      "metadata": {
        "colab_type": "text",
        "id": "GvfAcBeGuczw"
      },
      "cell_type": "markdown",
      "source": [
        "### 2. Average absolute DFCs\n",
        "You can also average the absolute values of DFCs to understand impact at a global level."
      ]
    },
    {
      "metadata": {
        "colab_type": "code",
        "id": "JkvAWLWLuczx",
        "colab": {}
      },
      "cell_type": "code",
      "source": [
        "# Plot.\n",
        "dfc_mean = df_dfc.abs().mean()\n",
        "N = 8\n",
        "sorted_ix = dfc_mean.abs().sort_values()[-N:].index  # Average and sort by absolute.\n",
        "ax = dfc_mean[sorted_ix].plot(kind='barh',\n",
        "                       color=sns_colors[1],\n",
        "                       title='Mean |directional feature contributions|',\n",
        "                       figsize=(10, 6))\n",
        "ax.grid(False, axis='y')"
      ],
      "execution_count": 0,
      "outputs": []
    },
    {
      "metadata": {
        "colab_type": "text",
        "id": "Z0k_DvPLaY1o"
      },
      "cell_type": "markdown",
      "source": [
        "You can also see how DFCs vary as a feature value varies."
      ]
    },
    {
      "metadata": {
        "colab_type": "code",
        "id": "ZcIfN1IpaY1o",
        "colab": {}
      },
      "cell_type": "code",
      "source": [
        "FEATURE = 'fare'\n",
        "feature = pd.Series(df_dfc[FEATURE].values, index=dfeval[FEATURE].values).sort_index()\n",
        "ax = sns.regplot(feature.index.values, feature.values, lowess=True);\n",
        "ax.set_ylabel('contribution')\n",
        "ax.set_xlabel(FEATURE);\n",
        "ax.set_xlim(0, 100);"
      ],
      "execution_count": 0,
      "outputs": []
    },
    {
      "metadata": {
        "colab_type": "text",
        "id": "lbpG72ULucz0"
      },
      "cell_type": "markdown",
      "source": [
        "### 3. Permutation feature importance"
      ]
    },
    {
      "metadata": {
        "colab_type": "code",
        "id": "6esOw1VOucz0",
        "colab": {}
      },
      "cell_type": "code",
      "source": [
        "def permutation_importances(est, X_eval, y_eval, metric, features):\n",
        "    \"\"\"Column by column, shuffle values and observe effect on eval set.\n",
        "    \n",
        "    source: http://explained.ai/rf-importance/index.html\n",
        "    A similar approach can be done during training. See \"Drop-column importance\"\n",
        "    in the above article.\"\"\"\n",
        "    baseline = metric(est, X_eval, y_eval)\n",
        "    imp = []\n",
        "    for col in features:\n",
        "        save = X_eval[col].copy()\n",
        "        X_eval[col] = np.random.permutation(X_eval[col])\n",
        "        m = metric(est, X_eval, y_eval)\n",
        "        X_eval[col] = save\n",
        "        imp.append(baseline - m)\n",
        "    return np.array(imp)\n",
        "\n",
        "def accuracy_metric(est, X, y):\n",
        "    \"\"\"TensorFlow estimator accuracy.\"\"\"\n",
        "    eval_input_fn = make_input_fn(X,\n",
        "                                  y=y,\n",
        "                                  shuffle=False,\n",
        "                                  n_epochs=1)\n",
        "    return est.evaluate(input_fn=eval_input_fn)['accuracy']\n",
        "features = CATEGORICAL_COLUMNS + NUMERIC_COLUMNS\n",
        "importances = permutation_importances(est, dfeval, y_eval, accuracy_metric,\n",
        "                                      features)\n",
        "df_imp = pd.Series(importances, index=features)\n",
        "\n",
        "sorted_ix = df_imp.abs().sort_values().index\n",
        "ax = df_imp[sorted_ix][-5:].plot(kind='barh', color=sns_colors[2], figsize=(10, 6))\n",
        "ax.grid(False, axis='y')\n",
        "ax.set_title('Permutation feature importance');"
      ],
      "execution_count": 0,
      "outputs": []
    },
    {
      "metadata": {
        "colab_type": "text",
        "id": "E236y3pVEzHg"
      },
      "cell_type": "markdown",
      "source": [
        "# Visualizing model fitting"
      ]
    },
    {
      "metadata": {
        "colab_type": "text",
        "id": "TrcQ-839EzZ6"
      },
      "cell_type": "markdown",
      "source": [
        "Lets first simulate/create training data using the following formula:\n",
        "\n",
        "\n",
        "$z=x* e^{-x^2 - y^2}$\n",
        "\n",
        "\n",
        "Where $z$ is the dependent variable you are trying to predict and $x$ and $y$ are the features."
      ]
    },
    {
      "metadata": {
        "colab_type": "code",
        "id": "e8woaj81GGE9",
        "colab": {}
      },
      "cell_type": "code",
      "source": [
        "from numpy.random import uniform, seed\n",
        "from matplotlib.mlab import griddata\n",
        "\n",
        "# Create fake data\n",
        "seed(0)\n",
        "npts = 5000\n",
        "x = uniform(-2, 2, npts)\n",
        "y = uniform(-2, 2, npts)\n",
        "z = x*np.exp(-x**2 - y**2)"
      ],
      "execution_count": 0,
      "outputs": []
    },
    {
      "metadata": {
        "colab_type": "code",
        "id": "GRI3KHfLZsGP",
        "colab": {}
      },
      "cell_type": "code",
      "source": [
        "# Prep data for training.\n",
        "df = pd.DataFrame({'x': x, 'y': y, 'z': z})\n",
        "\n",
        "xi = np.linspace(-2.0, 2.0, 200),\n",
        "yi = np.linspace(-2.1, 2.1, 210),\n",
        "xi,yi = np.meshgrid(xi, yi);\n",
        "\n",
        "df_predict = pd.DataFrame({\n",
        "    'x' : xi.flatten(),\n",
        "    'y' : yi.flatten(),\n",
        "})\n",
        "predict_shape = xi.shape"
      ],
      "execution_count": 0,
      "outputs": []
    },
    {
      "metadata": {
        "colab_type": "code",
        "id": "w0JnH4IhZuAb",
        "colab": {}
      },
      "cell_type": "code",
      "source": [
        "def plot_contour(x, y, z, **kwargs):\n",
        "  # Grid the data.\n",
        "  plt.figure(figsize=(10, 8))\n",
        "  # Contour the gridded data, plotting dots at the nonuniform data points.\n",
        "  CS = plt.contour(x, y, z, 15, linewidths=0.5, colors='k')\n",
        "  CS = plt.contourf(x, y, z, 15,\n",
        "                    vmax=abs(zi).max(), vmin=-abs(zi).max(), cmap='RdBu_r')\n",
        "  plt.colorbar()  # Draw colorbar.\n",
        "  # Plot data points.\n",
        "  plt.xlim(-2, 2)\n",
        "  plt.ylim(-2, 2)"
      ],
      "execution_count": 0,
      "outputs": []
    },
    {
      "metadata": {
        "colab_type": "text",
        "id": "KF7WsIcYGF_E"
      },
      "cell_type": "markdown",
      "source": [
        "You can visualize the function. Redder colors correspond to larger function values."
      ]
    },
    {
      "metadata": {
        "colab_type": "code",
        "id": "WrxuqaaXGFOK",
        "colab": {}
      },
      "cell_type": "code",
      "source": [
        "zi = griddata(x, y, z, xi, yi, interp='linear')\n",
        "plot_contour(xi, yi, zi)\n",
        "plt.scatter(df.x, df.y, marker='.')\n",
        "plt.title('Contour on training data');"
      ],
      "execution_count": 0,
      "outputs": []
    },
    {
      "metadata": {
        "colab_type": "code",
        "id": "hoANr0f2GFrM",
        "colab": {}
      },
      "cell_type": "code",
      "source": [
        "fc = [tf.feature_column.numeric_column('x'),\n",
        "      tf.feature_column.numeric_column('y')]"
      ],
      "execution_count": 0,
      "outputs": []
    },
    {
      "metadata": {
        "colab_type": "code",
        "id": "xVRWyoY3ayTK",
        "colab": {}
      },
      "cell_type": "code",
      "source": [
        "def predict(est):\n",
        "  \"\"\"Predictions from a given estimator.\"\"\"\n",
        "  predict_input_fn = lambda: tf.data.Dataset.from_tensors(dict(df_predict))\n",
        "  preds = np.array([p['predictions'][0] for p in est.predict(predict_input_fn)])\n",
        "  return preds.reshape(predict_shape)"
      ],
      "execution_count": 0,
      "outputs": []
    },
    {
      "metadata": {
        "colab_type": "text",
        "id": "uyPu5618GU7K"
      },
      "cell_type": "markdown",
      "source": [
        "First let's try to fit a linear model to the data."
      ]
    },
    {
      "metadata": {
        "colab_type": "code",
        "id": "zUIV2IVgGVSk",
        "colab": {}
      },
      "cell_type": "code",
      "source": [
        "train_input_fn = make_input_fn(df, df.z)\n",
        "est = tf.estimator.LinearRegressor(fc)\n",
        "est.train(train_input_fn, max_steps=500);"
      ],
      "execution_count": 0,
      "outputs": []
    },
    {
      "metadata": {
        "colab_type": "code",
        "id": "_u4WAcCqfbco",
        "colab": {}
      },
      "cell_type": "code",
      "source": [
        "plot_contour(xi, yi, predict(est))"
      ],
      "execution_count": 0,
      "outputs": []
    },
    {
      "metadata": {
        "colab_type": "text",
        "id": "XD_fMAUtSCSa"
      },
      "cell_type": "markdown",
      "source": [
        "It's not a very good fit. Next let's try to fit a GBDT model to it and try to understand how the model fits the function."
      ]
    },
    {
      "metadata": {
        "colab_type": "code",
        "id": "ka1GgvqmSCK7",
        "colab": {}
      },
      "cell_type": "code",
      "source": [
        "def create_bt_est(n_trees):\n",
        "  return tf.estimator.BoostedTreesRegressor(fc,\n",
        "                                            n_batches_per_layer=1,\n",
        "                                            n_trees=n_trees)"
      ],
      "execution_count": 0,
      "outputs": []
    },
    {
      "metadata": {
        "colab_type": "code",
        "id": "w0s86Kq1R_Fc",
        "colab": {}
      },
      "cell_type": "code",
      "source": [
        "N_TREES = [1,2,3,4,10,20,50,100]\n",
        "for n in N_TREES:\n",
        "  est = create_bt_est(n)\n",
        "  est.train(train_input_fn, max_steps=500)\n",
        "  plot_contour(xi, yi, predict(est))\n",
        "  plt.text(-1.8, 2.1, '# trees: {}'.format(n), color='w', backgroundcolor='black', size=20);"
      ],
      "execution_count": 0,
      "outputs": []
    },
    {
      "metadata": {
        "colab_type": "text",
        "id": "5WcZ9fubh1wT"
      },
      "cell_type": "markdown",
      "source": [
        "As you increase the number of trees, the model's predictions better approximates the underlying function."
      ]
    },
    {
      "metadata": {
        "colab_type": "text",
        "id": "SMKoEZnCdrsp"
      },
      "cell_type": "markdown",
      "source": [
        "## Conclusion"
      ]
    },
    {
      "metadata": {
        "colab_type": "text",
        "id": "ZSZUSrjXdw9g"
      },
      "cell_type": "markdown",
      "source": [
        "In this tutorial you learned how to interpret Boosted Trees models using directional feature contributions and feature importance techniques. These techniques provide insight into how the features impact a model's predictions. Finally, you also gained intution for how a Boosted Tree model fits a complex function by viewing the decision surface for several models."
      ]
    }
  ]
}