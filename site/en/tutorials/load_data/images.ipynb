{
  "nbformat": 4,
  "nbformat_minor": 0,
  "metadata": {
    "colab": {
      "name": "Loading Images.ipynb",
      "version": "0.3.2",
      "provenance": [],
      "private_outputs": true,
      "collapsed_sections": [],
      "toc_visible": true
    },
    "kernelspec": {
      "name": "python3",
      "display_name": "Python 3"
    }
  },
  "cells": [
    {
      "metadata": {
        "deletable": true,
        "editable": true,
        "id": "ucMoYase6URl",
        "colab_type": "text"
      },
      "cell_type": "markdown",
      "source": [
        "# Load images with `tf.data`"
      ]
    },
    {
      "metadata": {
        "deletable": true,
        "editable": true,
        "id": "hoQQiZDB6URn",
        "colab_type": "text"
      },
      "cell_type": "markdown",
      "source": [
        "## Setup"
      ]
    },
    {
      "metadata": {
        "deletable": true,
        "editable": true,
        "id": "illI4c426URn",
        "colab_type": "text"
      },
      "cell_type": "markdown",
      "source": [
        "Start by [installing TensorFlow](https://www.tensorflow.org/install/).\n",
        "\n",
        "And testing the installation:"
      ]
    },
    {
      "metadata": {
        "id": "DHz3JONNEHlj",
        "colab_type": "code",
        "colab": {}
      },
      "cell_type": "code",
      "source": [
        "import tensorflow as tf\n",
        "tf.enable_eager_execution()\n",
        "tf.VERSION"
      ],
      "execution_count": 0,
      "outputs": []
    },
    {
      "metadata": {
        "deletable": true,
        "editable": true,
        "id": "wO0InzL66URu",
        "colab_type": "text"
      },
      "cell_type": "markdown",
      "source": [
        "## Retrieve the images\n",
        "\n",
        "Before you start any training, you'll need a set of images to teach the network about the new classes you want to recognize. We've created an archive of creative-commons licensed flower photos to use initially. "
      ]
    },
    {
      "metadata": {
        "id": "rN-Pc6Zd6awg",
        "colab_type": "code",
        "colab": {}
      },
      "cell_type": "code",
      "source": [
        "import pathlib\n",
        "data_root = tf.keras.utils.get_file('flower_photos','https://storage.googleapis.com/download.tensorflow.org/example_images/flower_photos.tgz', untar=True)\n",
        "data_root = pathlib.Path(data_root)"
      ],
      "execution_count": 0,
      "outputs": []
    },
    {
      "metadata": {
        "id": "rFkFK74oO--g",
        "colab_type": "text"
      },
      "cell_type": "markdown",
      "source": [
        "After downloading 218MB, you should now have a copy of the flower photos available in your working directory."
      ]
    },
    {
      "metadata": {
        "id": "7onR_lWE7Njj",
        "colab_type": "code",
        "colab": {}
      },
      "cell_type": "code",
      "source": [
        "for item in data_root.iterdir():\n",
        "  print(item)"
      ],
      "execution_count": 0,
      "outputs": []
    },
    {
      "metadata": {
        "id": "vkM-IpB-6URx",
        "colab_type": "text"
      },
      "cell_type": "markdown",
      "source": [
        "## Inspect the images\n",
        "Now let's have a quick look at a couple of the images, so we know what we're dealing with:"
      ]
    },
    {
      "metadata": {
        "id": "wNGateQJ6UR1",
        "colab_type": "code",
        "colab": {}
      },
      "cell_type": "code",
      "source": [
        "attributions = (data_root/\"LICENSE.txt\").read_text().splitlines()[4:]\n",
        "attributions = [line.split(' CC-BY') for line in attributions]\n",
        "attributions = dict(attributions)"
      ],
      "execution_count": 0,
      "outputs": []
    },
    {
      "metadata": {
        "id": "jgowG2xu88Io",
        "colab_type": "code",
        "colab": {}
      },
      "cell_type": "code",
      "source": [
        "import IPython.display as display\n",
        "\n",
        "def show_image(image_path):\n",
        "    display.display(display.Image(str(image_path)))\n",
        "    \n",
        "    image_rel = pathlib.Path(image_path).relative_to(data_root)\n",
        "    caption = \"Image (CC BY 2.0) \" + ' - '.join(attributions[str(image_rel)].split(' - ')[:-1])\n",
        "    display.display(display.HTML(\"<div>%s</div>\" % caption))"
      ],
      "execution_count": 0,
      "outputs": []
    },
    {
      "metadata": {
        "id": "YIjLi-nX0txI",
        "colab_type": "code",
        "colab": {}
      },
      "cell_type": "code",
      "source": [
        "import random\n",
        "all_image_paths = list(data_root.glob('*/*'))\n",
        "random.shuffle(all_image_paths)\n",
        "\n",
        "show_image(random.choice(all_image_paths))\n",
        "show_image(random.choice(all_image_paths))\n",
        "show_image(random.choice(all_image_paths))"
      ],
      "execution_count": 0,
      "outputs": []
    },
    {
      "metadata": {
        "id": "OaNOr-co3WKk",
        "colab_type": "text"
      },
      "cell_type": "markdown",
      "source": [
        "## Determine the label for each image"
      ]
    },
    {
      "metadata": {
        "id": "-weOQpDw2Jnu",
        "colab_type": "text"
      },
      "cell_type": "markdown",
      "source": [
        "List the available labels:"
      ]
    },
    {
      "metadata": {
        "id": "ssUZ7Qh96UR3",
        "colab_type": "code",
        "colab": {}
      },
      "cell_type": "code",
      "source": [
        "label_names = sorted(item.name for item in data_root.glob('*/') if item.is_dir())\n",
        "label_names"
      ],
      "execution_count": 0,
      "outputs": []
    },
    {
      "metadata": {
        "id": "9l_JEBql2OzS",
        "colab_type": "text"
      },
      "cell_type": "markdown",
      "source": [
        "Assign an index to each label:"
      ]
    },
    {
      "metadata": {
        "id": "Y8pCV46CzPlp",
        "colab_type": "code",
        "colab": {}
      },
      "cell_type": "code",
      "source": [
        "label_to_index = dict((name, index) for index,name in enumerate(label_names))\n",
        "label_to_index"
      ],
      "execution_count": 0,
      "outputs": []
    },
    {
      "metadata": {
        "id": "VkXsHg162T9F",
        "colab_type": "text"
      },
      "cell_type": "markdown",
      "source": [
        "Create a list of every file, and its label index"
      ]
    },
    {
      "metadata": {
        "id": "q62i1RBP4Q02",
        "colab_type": "code",
        "colab": {}
      },
      "cell_type": "code",
      "source": [
        "all_image_labels = [label_to_index[path.parent.name] for path in all_image_paths]\n",
        "all_image_labels[:10]"
      ],
      "execution_count": 0,
      "outputs": []
    },
    {
      "metadata": {
        "id": "6H9Z5Mq63nSH",
        "colab_type": "text"
      },
      "cell_type": "markdown",
      "source": [
        "## A basic `tf.data.Dataset`"
      ]
    },
    {
      "metadata": {
        "id": "GN-s04s-6Luq",
        "colab_type": "text"
      },
      "cell_type": "markdown",
      "source": [
        "The easiest way to build a `tf.data.Dataset` is using the `from_tensor_slices` method.\n",
        "\n",
        "Slicing the array of strings, results in a dataset of strings:"
      ]
    },
    {
      "metadata": {
        "id": "6oRPG3Jz3ie_",
        "colab_type": "code",
        "colab": {}
      },
      "cell_type": "code",
      "source": [
        "string_paths = [str(path) for path in all_image_paths]\n",
        "\n",
        "path_ds = tf.data.Dataset.from_tensor_slices(string_paths)"
      ],
      "execution_count": 0,
      "outputs": []
    },
    {
      "metadata": {
        "id": "uML4JeMmIAvO",
        "colab_type": "text"
      },
      "cell_type": "markdown",
      "source": [
        "The `output_shapes` and `output_types` fields describe the content of each item in the dataset. In this case it is a set of scalar binary-strings"
      ]
    },
    {
      "metadata": {
        "id": "mIsNflFbIK34",
        "colab_type": "code",
        "colab": {}
      },
      "cell_type": "code",
      "source": [
        "print('shape: ', repr(path_ds.output_shapes))\n",
        "print('type: ', path_ds.output_types)\n",
        "print()\n",
        "print(path_ds)"
      ],
      "execution_count": 0,
      "outputs": []
    },
    {
      "metadata": {
        "id": "P6FNqPbxkbdx",
        "colab_type": "text"
      },
      "cell_type": "markdown",
      "source": [
        "## A dataset of `(image, label)` pairs"
      ]
    },
    {
      "metadata": {
        "id": "YgvrWLKG67-x",
        "colab_type": "text"
      },
      "cell_type": "markdown",
      "source": [
        "Slicing both the paths and labels together gives a dataset of `(path, label)` pairs."
      ]
    },
    {
      "metadata": {
        "id": "AgBsAiV06udj",
        "colab_type": "code",
        "colab": {}
      },
      "cell_type": "code",
      "source": [
        "path_ds = tf.data.Dataset.from_tensor_slices((string_paths, all_image_labels))"
      ],
      "execution_count": 0,
      "outputs": []
    },
    {
      "metadata": {
        "id": "BBgixEXHLpND",
        "colab_type": "code",
        "colab": {}
      },
      "cell_type": "code",
      "source": [
        "for path,cls in path_ds.take(3):\n",
        "  print(path.numpy(), \" : \", label_names[cls.numpy()])\n",
        "  print()"
      ],
      "execution_count": 0,
      "outputs": []
    },
    {
      "metadata": {
        "id": "yA2F09SJLMuM",
        "colab_type": "text"
      },
      "cell_type": "markdown",
      "source": [
        "The `shapes` and `types`, are now tuples of shapes and types as well, describing each field:"
      ]
    },
    {
      "metadata": {
        "id": "DuVYNinrLL-N",
        "colab_type": "code",
        "colab": {}
      },
      "cell_type": "code",
      "source": [
        "print('shape: ', path_ds.output_shapes)\n",
        "print('type: ', path_ds.output_types)\n",
        "print()\n",
        "print(path_ds)"
      ],
      "execution_count": 0,
      "outputs": []
    },
    {
      "metadata": {
        "id": "i5L09icm9iph",
        "colab_type": "text"
      },
      "cell_type": "markdown",
      "source": [
        "## Load and format the images"
      ]
    },
    {
      "metadata": {
        "id": "SbqqRUS79ooq",
        "colab_type": "text"
      },
      "cell_type": "markdown",
      "source": [
        "Define a simple function to load, decode and format the image data."
      ]
    },
    {
      "metadata": {
        "id": "HmUiZJNU73vA",
        "colab_type": "code",
        "colab": {}
      },
      "cell_type": "code",
      "source": [
        "def load_and_format_image(path, label):\n",
        "  image = tf.read_file(path)\n",
        "  image = tf.image.decode_jpeg(image, channels=3)\n",
        "  image = tf.image.resize_images(image, [192, 192])\n",
        "  image = (image/128.0) - 1\n",
        "\n",
        "  return image, tf.cast(label, dtype=tf.int64)"
      ],
      "execution_count": 0,
      "outputs": []
    },
    {
      "metadata": {
        "id": "4ratpWRt9x_M",
        "colab_type": "text"
      },
      "cell_type": "markdown",
      "source": [
        "Use the `map` method to convert the dataset of `(path,label)` pairs to `(image,label)` pairs.\n",
        "\n",
        "Like all dataset methods, `map` does not execute the transformation immediately. It only executes as needed."
      ]
    },
    {
      "metadata": {
        "id": "6K1AnLq_7k4U",
        "colab_type": "code",
        "colab": {}
      },
      "cell_type": "code",
      "source": [
        "# many threads will be waiting on disk reads.\n",
        "image_ds = path_ds.map(load_and_format_image, num_parallel_calls=32)\n",
        "image_ds"
      ],
      "execution_count": 0,
      "outputs": []
    },
    {
      "metadata": {
        "id": "OcxMQxBT9MQi",
        "colab_type": "code",
        "colab": {}
      },
      "cell_type": "code",
      "source": [
        "import matplotlib.pyplot as plt\n",
        "\n",
        "for image,label in image_ds.take(3):\n",
        "  plt.figure()\n",
        "  plt.imshow((image+1)/2)\n",
        "  plt.title(label_names[label])\n",
        "  plt.grid(False)"
      ],
      "execution_count": 0,
      "outputs": []
    },
    {
      "metadata": {
        "id": "vYGCgJuR_9Qp",
        "colab_type": "text"
      },
      "cell_type": "markdown",
      "source": [
        "## Pipe to a model for training"
      ]
    },
    {
      "metadata": {
        "id": "wwZavzgsIytz",
        "colab_type": "text"
      },
      "cell_type": "markdown",
      "source": [
        "To train a model with this dataset you will want the data:\n",
        "\n",
        "* To be well shuffeled.\n",
        "* To be batched.\n",
        "* To repeat forever.\n",
        "* Batches to available immediately when needed.\n",
        "\n",
        "These features can be easily added using the `tf.data` api."
      ]
    },
    {
      "metadata": {
        "id": "uZmZJx8ePw_5",
        "colab_type": "code",
        "colab": {}
      },
      "cell_type": "code",
      "source": [
        "BATCH_SIZE = 4\n",
        "# Shuffling the paths takes less memory than shuffling the images.\n",
        "# Setting a buffer size larger than the dataset ensures that the data is completely shuffled.\n",
        "ds = path_ds.shuffle(buffer_size=10000) \n",
        "ds = ds.map(load_and_format_image, num_parallel_calls=32)\n",
        "ds = ds.batch(BATCH_SIZE).prefetch(1)\n",
        "ds"
      ],
      "execution_count": 0,
      "outputs": []
    },
    {
      "metadata": {
        "id": "RBVw3AtGQmWC",
        "colab_type": "text"
      },
      "cell_type": "markdown",
      "source": [
        "### Quick Transfer learning with `keras.Applications`"
      ]
    },
    {
      "metadata": {
        "id": "X0ooIU9fNjPJ",
        "colab_type": "code",
        "colab": {}
      },
      "cell_type": "code",
      "source": [
        "mobile_net = tf.keras.applications.MobileNetV2(input_shape=[192, 192, 3], include_top=False)\n",
        "mobile_net.trainable=False\n",
        "\n",
        "model = tf.keras.Sequential([\n",
        "  mobile_net,\n",
        "  # This mobilnet returns a 6x6 feature map, take the spatial average.\n",
        "  tf.keras.layers.GlobalAveragePooling2D(),\n",
        "  tf.keras.layers.Dense(len(label_names))\n",
        "])"
      ],
      "execution_count": 0,
      "outputs": []
    },
    {
      "metadata": {
        "id": "ZWGqLEWYRNvv",
        "colab_type": "code",
        "colab": {}
      },
      "cell_type": "code",
      "source": [
        "model.compile(optimizer=tf.train.AdamOptimizer(), \n",
        "              loss=tf.keras.losses.sparse_categorical_crossentropy,\n",
        "              metrics=[\"accuracy\"])"
      ],
      "execution_count": 0,
      "outputs": []
    },
    {
      "metadata": {
        "id": "kug5Wg66UJjl",
        "colab_type": "code",
        "colab": {}
      },
      "cell_type": "code",
      "source": [
        "model.summary()"
      ],
      "execution_count": 0,
      "outputs": []
    },
    {
      "metadata": {
        "id": "XjtWzr3_UM0o",
        "colab_type": "code",
        "colab": {}
      },
      "cell_type": "code",
      "source": [
        "len(model.trainable_variables) # Dense `weights` and `bias`"
      ],
      "execution_count": 0,
      "outputs": []
    },
    {
      "metadata": {
        "id": "AnXPRNWoTypI",
        "colab_type": "code",
        "colab": {}
      },
      "cell_type": "code",
      "source": [
        "model.fit(ds, epochs=1, steps_per_epoch=3)  #steps_per_epoch=len(all_image_paths)//BATCH_SIZE"
      ],
      "execution_count": 0,
      "outputs": []
    }
  ]
}