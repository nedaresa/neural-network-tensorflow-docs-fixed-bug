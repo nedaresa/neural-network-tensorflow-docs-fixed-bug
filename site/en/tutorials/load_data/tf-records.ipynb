{
  "nbformat": 4,
  "nbformat_minor": 0,
  "metadata": {
    "colab": {
      "name": "tf-records.ipynb",
      "version": "0.3.2",
      "provenance": [],
      "private_outputs": true,
      "collapsed_sections": [],
      "toc_visible": true
    }
  },
  "cells": [
    {
      "metadata": {
        "id": "pL--_KGdYoBz",
        "colab_type": "text"
      },
      "cell_type": "markdown",
      "source": [
        "##### Copyright 2018 The TensorFlow Authors."
      ]
    },
    {
      "metadata": {
        "id": "uBDvXpYzYnGj",
        "colab_type": "code",
        "colab": {},
        "cellView": "form"
      },
      "cell_type": "code",
      "source": [
        "#@title Licensed under the Apache License, Version 2.0 (the \"License\");\n",
        "# you may not use this file except in compliance with the License.\n",
        "# You may obtain a copy of the License at\n",
        "#\n",
        "# https://www.apache.org/licenses/LICENSE-2.0\n",
        "#\n",
        "# Unless required by applicable law or agreed to in writing, software\n",
        "# distributed under the License is distributed on an \"AS IS\" BASIS,\n",
        "# WITHOUT WARRANTIES OR CONDITIONS OF ANY KIND, either express or implied.\n",
        "# See the License for the specific language governing permissions and\n",
        "# limitations under the License."
      ],
      "execution_count": 0,
      "outputs": []
    },
    {
      "metadata": {
        "id": "HQzaEQuJiW_d",
        "colab_type": "text"
      },
      "cell_type": "markdown",
      "source": [
        "# Using TFRecords and `tf.Example`\n",
        "\n",
        "<table class=\"tfo-notebook-buttons\" align=\"left\">\n",
        "  <td>\n",
        "    <a target=\"_blank\" href=\"https://www.tensorflow.org/tutorials/load_data/tf-records\"><img src=\"https://www.tensorflow.org/images/tf_logo_32px.png\" />View on TensorFlow.org</a>\n",
        "  </td>\n",
        "  <td>\n",
        "    <a target=\"_blank\" href=\"https://colab.research.google.com/github/tensorflow/docs/blob/master/site/en/tutorials/load_data/tf-records.ipynb\"><img src=\"https://www.tensorflow.org/images/colab_logo_32px.png\" />Run in Google Colab</a>\n",
        "  </td>\n",
        "  <td>\n",
        "    <a target=\"_blank\" href=\"https://github.com/tensorflow/docs/blob/master/site/en/tutorials/load_data/tf-records.ipynb\"><img src=\"https://www.tensorflow.org/images/GitHub-Mark-32px.png\" />View source on GitHub</a>\n",
        "  </td>\n",
        "</table>"
      ]
    },
    {
      "metadata": {
        "id": "3pkUd_9IZCFO",
        "colab_type": "text"
      },
      "cell_type": "markdown",
      "source": [
        "To read data efficiently it can be helpful to serialize your data and store it in a set of files (100-200MB each) that can each be read linearly. This is especially true if the data is being streamed over a network. This can also be useful for caching any data-preprocessing.\n",
        "\n",
        "The TFRecord format is a simple format for storing a sequence of binary records.\n",
        "\n",
        "[Protocol buffers](https://developers.google.com/protocol-buffers/) are a cross-platform, cross-language library for efficient serialization of structured data.\n",
        "\n",
        "Protocol messages are defined by `.proto` files, these are often the easiest way to understand a message type. \n",
        "\n",
        "The `tf.Example` message (or protobuf) is a flexible message type that represents a `{\"string\": value}` mapping. It is designed for use with TensorFlow, and is used throughout the higher-level APIs such as [TFX](https://www.tensorflow.org/tfx/)."
      ]
    },
    {
      "metadata": {
        "id": "Ac83J0QxjhFt",
        "colab_type": "text"
      },
      "cell_type": "markdown",
      "source": [
        "\n",
        "This notebook will demonstrate how to create, parse, and use the `tf.Example` message, and then store, read, and write `tf.Example` messages to `.tfrecord` files.\n",
        "\n",
        "Note: While useful, using these structures is ultimately optional. There is no need to convert existing code to use TFRecords, unless you are using [`tf.data`](https://www.tensorflow.org/guide/datasets) and reading data is still the bottleneck to training. See [Data Input Pipeline Performance](https://www.tensorflow.org/guide/performance/datasets) for dataset performance tips."
      ]
    },
    {
      "metadata": {
        "id": "WkRreBf1eDVc",
        "colab_type": "text"
      },
      "cell_type": "markdown",
      "source": [
        "## Setup"
      ]
    },
    {
      "metadata": {
        "id": "Ja7sezsmnXph",
        "colab_type": "code",
        "colab": {}
      },
      "cell_type": "code",
      "source": [
        "from __future__ import absolute_import\n",
        "from __future__ import division\n",
        "from __future__ import print_function\n",
        "\n",
        "import tensorflow as tf\n",
        "tf.enable_eager_execution()\n",
        "\n",
        "import numpy as np\n",
        "import IPython.display as display"
      ],
      "execution_count": 0,
      "outputs": []
    },
    {
      "metadata": {
        "id": "e5Kq88ccUWQV",
        "colab_type": "text"
      },
      "cell_type": "markdown",
      "source": [
        "## `tf.Example`"
      ]
    },
    {
      "metadata": {
        "id": "VrdQHgvNijTi",
        "colab_type": "text"
      },
      "cell_type": "markdown",
      "source": [
        "### Data types for `tf.Example`"
      ]
    },
    {
      "metadata": {
        "id": "lZw57Qrn4CTE",
        "colab_type": "text"
      },
      "cell_type": "markdown",
      "source": [
        "Fundamentally a `tf.Example` is a `{\"string\": tf.train.Feature}` mapping.\n",
        "\n",
        "The `tf.train.Feature` message type can accept one of the following three types (See the [`.proto` file]((https://github.com/tensorflow/tensorflow/blob/master/tensorflow/core/example/feature.proto) for reference). Most other generic types can be coerced into one of these.\n",
        "\n",
        "1. `tf.train.BytesList` (the following types can be coerced)\n",
        "\n",
        "  - `string`\n",
        "  - `byte`\n",
        "\n",
        "1. `tf.train.FloatList` (the following types can be coerced)\n",
        "\n",
        "  - `float` (`float32`)\n",
        "  - `double` (`float64`)\n",
        "\n",
        "1. `tf.train.Int64List` (the following types can be coerced)\n",
        "\n",
        "  - `bool`\n",
        "  - `enum`\n",
        "  - `int32`\n",
        "  - `uint32`\n",
        "  - `int64`\n",
        "  - `uint64`"
      ]
    },
    {
      "metadata": {
        "id": "_e3g9ExathXP",
        "colab_type": "text"
      },
      "cell_type": "markdown",
      "source": [
        "In order to convert a standard TensorFlow type to a `tf.Example`-compatible `tf.train.Feature`, we can use the following shortcut functions:\n",
        "\n",
        "Each function takes a scalar input value and returns a `tf.train.Feature` containing one of the 3 `list` types above."
      ]
    },
    {
      "metadata": {
        "id": "mbsPOUpVtYxA",
        "colab_type": "code",
        "colab": {}
      },
      "cell_type": "code",
      "source": [
        "# The following functions can be used to convert a value to a type compatible\n",
        "# with tf.Example.\n",
        "\n",
        "def _bytes_feature(value):\n",
        "  \"\"\"Returns a bytes_list from a string / byte.\"\"\"\n",
        "  return tf.train.Feature(bytes_list=tf.train.BytesList(value=[value]))\n",
        "\n",
        "def _float_feature(value):\n",
        "  \"\"\"Returns a float_list from a float / double.\"\"\"\n",
        "  return tf.train.Feature(float_list=tf.train.FloatList(value=[value]))\n",
        "\n",
        "def _int64_feature(value):\n",
        "  \"\"\"Returns an int64_list from a bool / enum / int / uint.\"\"\"\n",
        "  return tf.train.Feature(int64_list=tf.train.Int64List(value=[value]))"
      ],
      "execution_count": 0,
      "outputs": []
    },
    {
      "metadata": {
        "id": "Wst0v9O8hgzy",
        "colab_type": "text"
      },
      "cell_type": "markdown",
      "source": [
        "Note: To stay simple, this example only uses scalar inputs. The simplest way to handle non-scalar features is to use `tf.serialize_tensor` to convert tensors to binary-strings. Strings are scalars in tensorflow. Use `tf.parse_tensor` to convert the binary-string back to a tensor."
      ]
    },
    {
      "metadata": {
        "id": "vsMbkkC8xxtB",
        "colab_type": "text"
      },
      "cell_type": "markdown",
      "source": [
        "Below are some examples of how these functions work. Note the varying input types and the standardizes output types. If the input type for a function does not match one of the coercible types stated above, the function will raise an exception (e.g. `_int64_feature(1.0)` will error out, since `1.0` is a float, so should be used with the `_float_feature` function instead)."
      ]
    },
    {
      "metadata": {
        "id": "hZzyLGr0u73y",
        "colab_type": "code",
        "colab": {}
      },
      "cell_type": "code",
      "source": [
        "print(_bytes_feature('test_string'))\n",
        "print(_bytes_feature(bytes('test_bytes')))\n",
        "\n",
        "print(_float_feature(np.exp(1)))\n",
        "\n",
        "print(_int64_feature(True))\n",
        "print(_int64_feature(1))"
      ],
      "execution_count": 0,
      "outputs": []
    },
    {
      "metadata": {
        "id": "nj1qpfQU5qmi",
        "colab_type": "text"
      },
      "cell_type": "markdown",
      "source": [
        "All proto messages can be serialized to a binary-string using the `.SerializeToString` method."
      ]
    },
    {
      "metadata": {
        "id": "5afZkORT5pjm",
        "colab_type": "code",
        "colab": {}
      },
      "cell_type": "code",
      "source": [
        "feature = _float_feature(np.exp(1))\n",
        "\n",
        "feature.SerializeToString()"
      ],
      "execution_count": 0,
      "outputs": []
    },
    {
      "metadata": {
        "id": "laKnw9F3hL-W",
        "colab_type": "text"
      },
      "cell_type": "markdown",
      "source": [
        "### Creating a `tf.Example` message"
      ]
    },
    {
      "metadata": {
        "id": "b_MEnhxchQPC",
        "colab_type": "text"
      },
      "cell_type": "markdown",
      "source": [
        "Suppose you want to create a `tf.Example` message from existing data. In practice, the dataset may come from anywhere, but the procedure of creating the `tf.Example` message from a single observation will be the same. \n",
        "\n",
        "1. Within each observation, each value needs to be converted to a `tf.train.Feature` containing one of the 3 compatible types, using one of the functions above. \n",
        "\n",
        "1. We create a map (dictionary) from the feature name string to the encoded feature value produced in #1.\n",
        "\n",
        "1. The map produced in #2 is converted to a [`Features` message](https://github.com/tensorflow/tensorflow/blob/master/tensorflow/core/example/feature.proto#L85)."
      ]
    },
    {
      "metadata": {
        "id": "4EgFQ2uHtchc",
        "colab_type": "text"
      },
      "cell_type": "markdown",
      "source": [
        "In this notebook, we will create a dataset using NumPy. \n",
        "\n",
        "This dataset will have 4 features.\n",
        "- a boolean feature, `False` or `True` with equal probability\n",
        "- a random bytes feature, uniform across the entire support\n",
        "- an integer feature uniformly randomly chosen from `[-10000, 10000)`\n",
        "- a float feature from a standard normal distribution\n",
        "\n",
        "Consider a sample consisting of 10,000 independently and identically distributed observations from each of the above distributions."
      ]
    },
    {
      "metadata": {
        "id": "CnrguFAy3YQv",
        "colab_type": "code",
        "colab": {}
      },
      "cell_type": "code",
      "source": [
        "# the number of observations in the dataset\n",
        "n_observations = int(1e4)\n",
        "\n",
        "# boolean feature, encoded as False or True\n",
        "feature0 = np.random.choice([False, True], n_observations)\n",
        "\n",
        "# bytes feature\n",
        "feature1 = np.random.bytes(n_observations)\n",
        "\n",
        "# integer feature, random between -10000 and 10000\n",
        "feature2 = np.random.randint(-10000, 10000, n_observations)\n",
        "\n",
        "# float feature, from a standard normal distribution\n",
        "feature3 = np.random.randn(n_observations)"
      ],
      "execution_count": 0,
      "outputs": []
    },
    {
      "metadata": {
        "id": "aGrscehJr7Jd",
        "colab_type": "text"
      },
      "cell_type": "markdown",
      "source": [
        "Each of these features can be coerced into a `tf.Example`-compatible type using one of `_bytes_feature`, `_float_feature`, `_int64_feature`. We can then create a `tf.Example` message from these encoded features."
      ]
    },
    {
      "metadata": {
        "id": "RTCS49Ij_kUw",
        "colab_type": "code",
        "colab": {}
      },
      "cell_type": "code",
      "source": [
        "def create_example(features):\n",
        "  \"\"\"\n",
        "  Creates a tf.Example message ready to be written to a file.\n",
        "  \n",
        "  Inputs:\n",
        "    - features: a 4-list of the values in the observation\n",
        "  \"\"\"\n",
        "  \n",
        "  # Create a dictionary mapping the feature name to the tf.Example-compatible\n",
        "  # data type.\n",
        "  \n",
        "  feature = {\n",
        "      'feature0': _int64_feature(features[0]),\n",
        "      'feature1': _bytes_feature(features[1]),\n",
        "      'feature2': _int64_feature(features[2]),\n",
        "      'feature3': _float_feature(features[3]),\n",
        "  }\n",
        "  \n",
        "  # Create a Features message using tf.train.Example.\n",
        "  \n",
        "  return tf.train.Example(features=tf.train.Features(feature=feature))"
      ],
      "execution_count": 0,
      "outputs": []
    },
    {
      "metadata": {
        "id": "XftzX9CN_uGT",
        "colab_type": "text"
      },
      "cell_type": "markdown",
      "source": [
        "For example, suppose we have a single observation from the dataset, `[False, bytes('example'), -1234, 0.9876]`. We can create and print the `tf.Example` message for this observation using `create_message()`. Each single observation will be written as a `Features` message as per the above. Note that the `tf.Example` [message](https://github.com/tensorflow/tensorflow/blob/master/tensorflow/core/example/example.proto#L88) is just a wrapper around the `Features` message."
      ]
    },
    {
      "metadata": {
        "id": "N8BtSx2RjYcb",
        "colab_type": "code",
        "colab": {}
      },
      "cell_type": "code",
      "source": [
        "# This is an example observation from the dataset.\n",
        "\n",
        "example_observation = [False, bytes('example'), -1234, 0.9876]\n",
        "\n",
        "print(create_example(example_observation))"
      ],
      "execution_count": 0,
      "outputs": []
    },
    {
      "metadata": {
        "id": "_pbGATlG6u-4",
        "colab_type": "text"
      },
      "cell_type": "markdown",
      "source": [
        "Or the serialized form:"
      ]
    },
    {
      "metadata": {
        "id": "dGim-mEm6vit",
        "colab_type": "code",
        "colab": {}
      },
      "cell_type": "code",
      "source": [
        "create_example(example_observation).SerializeToString()"
      ],
      "execution_count": 0,
      "outputs": []
    },
    {
      "metadata": {
        "id": "jyg1g3gU7DNn",
        "colab_type": "text"
      },
      "cell_type": "markdown",
      "source": [
        "## TFRecord files using tf.python_io"
      ]
    },
    {
      "metadata": {
        "id": "3FXG3miA7Kf1",
        "colab_type": "text"
      },
      "cell_type": "markdown",
      "source": [
        "The `tf.python_io` module contains python functions for reading and writing TFRecord files. "
      ]
    },
    {
      "metadata": {
        "id": "CKn5uql2lAaN",
        "colab_type": "text"
      },
      "cell_type": "markdown",
      "source": [
        "### Writing a TFRecord file"
      ]
    },
    {
      "metadata": {
        "id": "LNW_FA-GQWXs",
        "colab_type": "text"
      },
      "cell_type": "markdown",
      "source": [
        "We now write the 10,000 observations to the file `test.tfrecords`. Each observation is converted to a `tf.Example` message, then written to file. We can then verify that the file `test.tfrecords` has been created."
      ]
    },
    {
      "metadata": {
        "id": "MKPHzoGv7q44",
        "colab_type": "code",
        "colab": {}
      },
      "cell_type": "code",
      "source": [
        "# Write the tf.Example observations to test.tfrecords.\n",
        "\n",
        "with tf.python_io.TFRecordWriter('test.tfrecords') as writer:\n",
        "  for i in range(n_observations):\n",
        "    example = create_example([feature0[i], feature1[i], feature2[i], feature3[i]])\n",
        "    writer.write(example.SerializeToString())"
      ],
      "execution_count": 0,
      "outputs": []
    },
    {
      "metadata": {
        "id": "EjdFHHJMpUUo",
        "colab_type": "code",
        "colab": {}
      },
      "cell_type": "code",
      "source": [
        "!ls"
      ],
      "execution_count": 0,
      "outputs": []
    },
    {
      "metadata": {
        "id": "wtQ7k0YWQ1cz",
        "colab_type": "text"
      },
      "cell_type": "markdown",
      "source": [
        "### Reading a TFRecord File"
      ]
    },
    {
      "metadata": {
        "id": "utkozytkQ-2K",
        "colab_type": "text"
      },
      "cell_type": "markdown",
      "source": [
        "Suppose we now want to read this data back, to be input as data into a model.\n",
        "\n",
        "The following example imports the data as is, as a `tf.Example` message. This can be useful to verify that a the file contains the data that we expect. This can also be useful if the input data is stored as TFRecords but you would prefer to input NumPy data (or some other input data type), for example [here](https://www.tensorflow.org/guide/datasets#consuming_numpy_arrays), since this example allows us to read the values themselves.\n",
        "\n",
        "We iterate through the TFRecords in the infile, extract the `tf.Example` message, and can read/store the values within."
      ]
    },
    {
      "metadata": {
        "id": "36ltP9B8OezA",
        "colab_type": "code",
        "colab": {}
      },
      "cell_type": "code",
      "source": [
        "record_iterator = tf.python_io.tf_record_iterator(path='test.tfrecords')\n",
        "\n",
        "for string_record in record_iterator:\n",
        "  example = tf.train.Example()\n",
        "  example.ParseFromString(string_record)\n",
        "  \n",
        "  print(example)\n",
        "  \n",
        "  # Exit after 1 iteration as this is purely demonstrative.\n",
        "  break"
      ],
      "execution_count": 0,
      "outputs": []
    },
    {
      "metadata": {
        "id": "i3uquiiGTZTK",
        "colab_type": "text"
      },
      "cell_type": "markdown",
      "source": [
        "The features of the `example` object (created above of type `tf.Example`) can be accessed using its getters (similarly to any protocol buffer message). `example.features` returns a `repeated feature` message, then getting the `feature` message returns a map of feature name to feature value (stored in Python as a dictionary)."
      ]
    },
    {
      "metadata": {
        "id": "-UNzS7vsUBs0",
        "colab_type": "code",
        "colab": {}
      },
      "cell_type": "code",
      "source": [
        "print(dict(example.features.feature))"
      ],
      "execution_count": 0,
      "outputs": []
    },
    {
      "metadata": {
        "id": "u1M-WrbqUUVW",
        "colab_type": "text"
      },
      "cell_type": "markdown",
      "source": [
        "From this dictionary, you can get any given value as with a dictionary."
      ]
    },
    {
      "metadata": {
        "id": "2yCBu70IUb2H",
        "colab_type": "code",
        "colab": {}
      },
      "cell_type": "code",
      "source": [
        "print(example.features.feature['feature3'])"
      ],
      "execution_count": 0,
      "outputs": []
    },
    {
      "metadata": {
        "id": "4dw6_OI9UiNZ",
        "colab_type": "text"
      },
      "cell_type": "markdown",
      "source": [
        "Now, we can access the value using the getters again."
      ]
    },
    {
      "metadata": {
        "id": "BdDYjDnDUlFe",
        "colab_type": "code",
        "colab": {}
      },
      "cell_type": "code",
      "source": [
        "print(example.features.feature['feature3'].float_list.value)"
      ],
      "execution_count": 0,
      "outputs": []
    },
    {
      "metadata": {
        "id": "y-Hjmee-fbLH",
        "colab_type": "text"
      },
      "cell_type": "markdown",
      "source": [
        "## TFRecord files using `tf.data`"
      ]
    },
    {
      "metadata": {
        "id": "GmehkCCT81Ez",
        "colab_type": "text"
      },
      "cell_type": "markdown",
      "source": [
        "The `tf.data` module also provides tools for reading and writing TFRecord files. The writer, `tf.data.experimental.TFRecordWriter`, is not covered by this tutorial."
      ]
    },
    {
      "metadata": {
        "id": "6aV0GQhV8tmp",
        "colab_type": "text"
      },
      "cell_type": "markdown",
      "source": [
        "### Reading a TFRecord File"
      ]
    },
    {
      "metadata": {
        "id": "o3J5D4gcSy8N",
        "colab_type": "text"
      },
      "cell_type": "markdown",
      "source": [
        "We can also read the TFRecord file using the `tf.data.TFRecordDataset` class. \n",
        "\n",
        "More information on consuming TFRecord files using `tf.data` can be found [here](https://www.tensorflow.org/guide/datasets#consuming_tfrecord_data). \n",
        "\n",
        "Using this dataset structure can be useful for standardizing input data and optimizing performance. It is also easier and quicker to use this object."
      ]
    },
    {
      "metadata": {
        "id": "6OjX6UZl-bHC",
        "colab_type": "code",
        "colab": {}
      },
      "cell_type": "code",
      "source": [
        "filenames = ['test.tfrecords']\n",
        "raw_dataset = tf.data.TFRecordDataset(filenames)\n",
        "raw_dataset"
      ],
      "execution_count": 0,
      "outputs": []
    },
    {
      "metadata": {
        "id": "6_EQ9i2E_-Fz",
        "colab_type": "text"
      },
      "cell_type": "markdown",
      "source": [
        "At this point the dataset contains serialized `tf.train.Example` messages. When iterated over it returns these as scalar string tensors. \n",
        "\n",
        "Use the `.take` method to only show the first 10 records.\n",
        "\n",
        "Note: iterating over a `tf.data.Dataset` only works with eager execution enabled."
      ]
    },
    {
      "metadata": {
        "id": "hxVXpLz_AJlm",
        "colab_type": "code",
        "colab": {}
      },
      "cell_type": "code",
      "source": [
        "for raw_record in raw_dataset.take(10):\n",
        "  print(repr(raw_record))"
      ],
      "execution_count": 0,
      "outputs": []
    },
    {
      "metadata": {
        "id": "W-6oNzM4luFQ",
        "colab_type": "text"
      },
      "cell_type": "markdown",
      "source": [
        "These tensors can be parsed using the function below.\n",
        "\n",
        "Note: The `feature_description` is necessary here because datasets use graph-execution, and need this description to build their shape and type signature."
      ]
    },
    {
      "metadata": {
        "id": "zQjbIR1nleiy",
        "colab_type": "code",
        "colab": {}
      },
      "cell_type": "code",
      "source": [
        "# Create a description of the features.  \n",
        "feature_description = {\n",
        "    'feature0': tf.FixedLenFeature([], tf.int64, default_value=0),\n",
        "    'feature1': tf.FixedLenFeature([], tf.string, default_value=''),\n",
        "    'feature2': tf.FixedLenFeature([], tf.int64, default_value=0),\n",
        "    'feature3': tf.FixedLenFeature([], tf.float32, default_value=0.0),\n",
        "}\n",
        "\n",
        "def _parse_function(example_proto):\n",
        "  # Parse the input tf.Example proto using the dictionary above.\n",
        "  return tf.parse_single_example(example_proto, feature_description)"
      ],
      "execution_count": 0,
      "outputs": []
    },
    {
      "metadata": {
        "id": "gWETjUqhEQZf",
        "colab_type": "text"
      },
      "cell_type": "markdown",
      "source": [
        "Or use `tf.parse example` to parse a whole batch at once."
      ]
    },
    {
      "metadata": {
        "id": "AH73hav6Bnmg",
        "colab_type": "text"
      },
      "cell_type": "markdown",
      "source": [
        "Apply this finction to each item in the dataset using the `tf.data.Dataset.map` method:"
      ]
    },
    {
      "metadata": {
        "id": "6Ob7D-zmBm1w",
        "colab_type": "code",
        "colab": {}
      },
      "cell_type": "code",
      "source": [
        "parsed_dataset = raw_dataset.map(_parse_function)\n",
        "parsed_dataset "
      ],
      "execution_count": 0,
      "outputs": []
    },
    {
      "metadata": {
        "colab_type": "text",
        "id": "sNV-XclGnOvn"
      },
      "cell_type": "markdown",
      "source": [
        "Now, we can use eager execution to display the observations in the dataset. Note that there are 10,000 observations in this dataset, but we only display the first 10. The data is displayed as a dictionary of features. Each item is a `tf.Tensor`, and the `numpy` element of this tensor displays the value of the feature."
      ]
    },
    {
      "metadata": {
        "id": "x2LT2JCqhoD_",
        "colab_type": "code",
        "colab": {}
      },
      "cell_type": "code",
      "source": [
        "for parsed_record in parsed_dataset.take(10):\n",
        "  print(repr(raw_record))"
      ],
      "execution_count": 0,
      "outputs": []
    },
    {
      "metadata": {
        "id": "S0tFDrwdoj3q",
        "colab_type": "text"
      },
      "cell_type": "markdown",
      "source": [
        "## Walkthrough: Reading/Writing Image Data"
      ]
    },
    {
      "metadata": {
        "id": "rjN2LFxFpcR9",
        "colab_type": "text"
      },
      "cell_type": "markdown",
      "source": [
        "This is an example of how to read and write image data using TFRecords. The purpose of this is to show how, end to end, input data (in this case an image) and write the data as a TFRecord file, then read the file back and display the image.\n",
        "\n",
        "This can be useful if, for example, you want to use several models on the same input dataset. Instead of storing the image data raw, it can be preprocessed into the TFRecords format, and that can be used in all further processing and modelling. \n",
        "\n",
        "First, let's download [this](https://commons.wikimedia.org/wiki/File:Felis_catus-cat_on_snow.jpg) adorable image of a cat in the snow, and [this](https://upload.wikimedia.org/wikipedia/commons/f/fe/New_East_River_Bridge_from_Brooklyn_det.4a09796u.jpg) awesome picture of the Williamsburg Bridge, NYC under construction."
      ]
    },
    {
      "metadata": {
        "id": "5Lk2qrKvN0yu",
        "colab_type": "text"
      },
      "cell_type": "markdown",
      "source": [
        "### Fetch the images"
      ]
    },
    {
      "metadata": {
        "id": "3a0fmwg8lHdF",
        "colab_type": "code",
        "colab": {}
      },
      "cell_type": "code",
      "source": [
        "cat_in_snow  = tf.keras.utils.get_file('320px-Felis_catus-cat_on_snow.jpg', 'https://upload.wikimedia.org/wikipedia/commons/thumb/b/b6/Felis_catus-cat_on_snow.jpg/320px-Felis_catus-cat_on_snow.jpg')\n",
        "williamsburg_bridge = tf.keras.utils.get_file('194px-New_East_River_Bridge_from_Brooklyn_det.4a09796u.jpg','https://upload.wikimedia.org/wikipedia/commons/thumb/f/fe/New_East_River_Bridge_from_Brooklyn_det.4a09796u.jpg/194px-New_East_River_Bridge_from_Brooklyn_det.4a09796u.jpg')"
      ],
      "execution_count": 0,
      "outputs": []
    },
    {
      "metadata": {
        "id": "7aJJh7vENeE4",
        "colab_type": "code",
        "colab": {}
      },
      "cell_type": "code",
      "source": [
        "display.Image(filename=cat_in_snow)"
      ],
      "execution_count": 0,
      "outputs": []
    },
    {
      "metadata": {
        "id": "KkW0uuhcXZqA",
        "colab_type": "code",
        "colab": {}
      },
      "cell_type": "code",
      "source": [
        "display.Image(filename=williamsburg_bridge)"
      ],
      "execution_count": 0,
      "outputs": []
    },
    {
      "metadata": {
        "id": "VSOgJSwoN5TQ",
        "colab_type": "text"
      },
      "cell_type": "markdown",
      "source": [
        "### Write the TFRecord file"
      ]
    },
    {
      "metadata": {
        "id": "Azx83ryQEU6T",
        "colab_type": "text"
      },
      "cell_type": "markdown",
      "source": [
        "As we did earlier, we can now encode the features as types compatible with `tf.Example`. In this case, we will not only store the raw image string as a feature, but we will store the height, width, depth, and an arbitrary `label` feature, which is used when we write the file to distinguish between the cat image and the bridge image. We will use `0` for the cat image, and `1` for the bridge image. "
      ]
    },
    {
      "metadata": {
        "id": "kC4TS1ZEONHr",
        "colab_type": "code",
        "colab": {}
      },
      "cell_type": "code",
      "source": [
        "image_labels = {\n",
        "    cat_in_snow : 0,\n",
        "    williamsburg_bridge : 1,\n",
        "}"
      ],
      "execution_count": 0,
      "outputs": []
    },
    {
      "metadata": {
        "id": "c5njMSYNEhNZ",
        "colab_type": "code",
        "colab": {}
      },
      "cell_type": "code",
      "source": [
        "# This is an example, just using the cat image.\n",
        "image_string = open(cat_in_snow, 'rb').read()\n",
        "\n",
        "label = image_labels[cat_in_snow]\n",
        "\n",
        "# Create a dictionary with features that may be relevant.\n",
        "def image_example(image_string, label):\n",
        "  image_shape = tf.image.decode_jpeg(image_string).shape\n",
        "\n",
        "  feature = {\n",
        "      'height': _int64_feature(image_shape[0]),\n",
        "      'width': _int64_feature(image_shape[1]),\n",
        "      'depth': _int64_feature(image_shape[2]),\n",
        "      'label': _int64_feature(label),\n",
        "      'image_raw': _bytes_feature(image_string),\n",
        "  }\n",
        "\n",
        "  return tf.train.Example(features=tf.train.Features(feature=feature))\n",
        "\n",
        "for line in str(image_example(image_string, label)).split('\\n')[:15]:\n",
        "  print(line)\n",
        "print('...')"
      ],
      "execution_count": 0,
      "outputs": []
    },
    {
      "metadata": {
        "id": "2G_o3O9MN0Qx",
        "colab_type": "text"
      },
      "cell_type": "markdown",
      "source": [
        "We see that all of the features are now stores in the `tf.Example` message. Now, we functionalize the code above and write the example messages to a file, `images.tfrecords`."
      ]
    },
    {
      "metadata": {
        "id": "qcw06lQCOCZU",
        "colab_type": "code",
        "colab": {}
      },
      "cell_type": "code",
      "source": [
        "# Write the raw image files to images.tfrecords.\n",
        "# First, process the two images into tf.Example messages.\n",
        "# Then, write to a .tfrecords file.\n",
        "\n",
        "with tf.python_io.TFRecordWriter('images.tfrecords') as writer:\n",
        "  for filename, label in image_labels.items():\n",
        "    image_string = open(filename, 'rb').read()\n",
        "    tf_example = image_example(image_string, label)\n",
        "    writer.write(tf_example.SerializeToString())"
      ],
      "execution_count": 0,
      "outputs": []
    },
    {
      "metadata": {
        "id": "yJrTe6tHPCfs",
        "colab_type": "code",
        "colab": {}
      },
      "cell_type": "code",
      "source": [
        "!ls"
      ],
      "execution_count": 0,
      "outputs": []
    },
    {
      "metadata": {
        "id": "jJSsCkZLPH6K",
        "colab_type": "text"
      },
      "cell_type": "markdown",
      "source": [
        "### Read the TFRecord file\n",
        "\n",
        "We now have the file `images.tfrecords`. We can now iterate over the records in the file to read back what we wrote. Since, for our use case we will just reproduce the image, the only feature we need is the raw image string. We can extract that using the getters described above, namely `example.features.feature['image_raw'].bytes_list.value[0]`. We also use the labels to determine which record is the cat as opposed to the bridge."
      ]
    },
    {
      "metadata": {
        "colab_type": "code",
        "id": "M6Cnfd3cTKHN",
        "colab": {}
      },
      "cell_type": "code",
      "source": [
        "raw_image_dataset = tf.data.TFRecordDataset('images.tfrecords')\n",
        "\n",
        "# Create a dictionary describing the features.  \n",
        "image_feature_description = {\n",
        "    'height': tf.FixedLenFeature([], tf.int64),\n",
        "    'width': tf.FixedLenFeature([], tf.int64),\n",
        "    'depth': tf.FixedLenFeature([], tf.int64),\n",
        "    'label': tf.FixedLenFeature([], tf.int64),\n",
        "    'image_raw': tf.FixedLenFeature([], tf.string),\n",
        "}\n",
        "\n",
        "def _parse_image_function(example_proto):\n",
        "  # Parse the input tf.Example proto using the dictionary above.\n",
        "  return tf.parse_single_example(example_proto, image_feature_description)\n",
        "\n",
        "parsed_image_dataset = raw_image_dataset.map(_parse_image_function)\n",
        "parsed_image_dataset"
      ],
      "execution_count": 0,
      "outputs": []
    },
    {
      "metadata": {
        "id": "0PEEFPk4NEg1",
        "colab_type": "text"
      },
      "cell_type": "markdown",
      "source": [
        "Now we can recover the images from the TFRecord file:"
      ]
    },
    {
      "metadata": {
        "id": "yZf8jOyEIjSF",
        "colab_type": "code",
        "colab": {}
      },
      "cell_type": "code",
      "source": [
        "for image_features in parsed_image_dataset:\n",
        "  image_raw = image_features['image_raw'].numpy()\n",
        "  display.display(display.Image(data=image_raw))"
      ],
      "execution_count": 0,
      "outputs": []
    }
  ]
}