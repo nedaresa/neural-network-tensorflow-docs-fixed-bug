{
  "nbformat": 4,
  "nbformat_minor": 0,
  "metadata": {
    "colab": {
      "name": "Hub with Keras_kamiya_translate.ipynb",
      "version": "0.3.2",
      "provenance": [],
      "private_outputs": true,
      "collapsed_sections": [
        "W_tvPdyfA-BL"
      ],
      "toc_visible": true
    },
    "kernelspec": {
      "display_name": "Python 3",
      "name": "python3"
    },
    "accelerator": "GPU"
  },
  "cells": [
    {
      "metadata": {
        "colab_type": "text",
        "id": "W_tvPdyfA-BL"
      },
      "cell_type": "markdown",
      "source": [
        "##### Copyright 2018 The TensorFlow Authors."
      ]
    },
    {
      "metadata": {
        "cellView": "both",
        "colab_type": "code",
        "id": "0O_LFhwSBCjm",
        "colab": {}
      },
      "cell_type": "code",
      "source": [
        "#@title Licensed under the Apache License, Version 2.0 (the \"License\");\n",
        "# you may not use this file except in compliance with the License.\n",
        "# You may obtain a copy of the License at\n",
        "#\n",
        "# https://www.apache.org/licenses/LICENSE-2.0\n",
        "#\n",
        "# Unless required by applicable law or agreed to in writing, software\n",
        "# distributed under the License is distributed on an \"AS IS\" BASIS,\n",
        "# WITHOUT WARRANTIES OR CONDITIONS OF ANY KIND, either express or implied.\n",
        "# See the License for the specific language governing permissions and\n",
        "# limitations under the License."
      ],
      "execution_count": 0,
      "outputs": []
    },
    {
      "metadata": {
        "colab_type": "text",
        "id": "PWUmcKKjtwXL"
      },
      "cell_type": "markdown",
      "source": [
        "# Hub with Keras\n",
        "\n",
        "<table class=\"tfo-notebook-buttons\" align=\"left\">\n",
        "  <td>\n",
        "    <a target=\"_blank\" href=\"https://www.tensorflow.org/tutorials/images/hub_with_keras\"><img src=\"https://www.tensorflow.org/images/tf_logo_32px.png\" />View on TensorFlow.org</a>\n",
        "  </td>\n",
        "  <td>\n",
        "    <a target=\"_blank\" href=\"https://colab.research.google.com/github/tensorflow/docs/blob/master/site/en/tutorials/images/hub_with_keras.ipynb\"><img src=\"https://www.tensorflow.org/images/colab_logo_32px.png\" />Run in Google Colab</a>\n",
        "  </td>\n",
        "  <td>\n",
        "    <a target=\"_blank\" href=\"https://github.com/tensorflow/docs/blob/master/site/en/tutorials/images/hub_with_keras.ipynb\"><img src=\"https://www.tensorflow.org/images/GitHub-Mark-32px.png\" />View source on GitHub</a>\n",
        "  </td>\n",
        "</table>"
      ]
    },
    {
      "metadata": {
        "id": "n7lolpUcBAjC",
        "colab_type": "text"
      },
      "cell_type": "markdown",
      "source": [
        "[TensorFlow Hub](http://tensorflow.org/hub) は事前学習済みモデルのコンポーネントを共有する一つの方法です。事前学習済みモデルの検索可能なリストは [TensorFlow Module Hub](https://tfhub.dev/) をご覧ください。\n",
        "\n",
        "このチュートリアルでは以下の事を説明します。\n",
        "\n",
        "1. tf.kerasでのTensorFlow Hubの使い方\n",
        "1. TensorFlow Hubを使って画像を分類する方法\n",
        "1. シンプルな転移学習の方法\n",
        "\n"
      ]
    },
    {
      "metadata": {
        "id": "kaOgjhflDSfP",
        "colab_type": "text"
      },
      "cell_type": "markdown",
      "source": [
        "## セットアップ"
      ]
    },
    {
      "metadata": {
        "id": "AY4_mCeADW3L",
        "colab_type": "text"
      },
      "cell_type": "markdown",
      "source": [
        "### インポート"
      ]
    },
    {
      "metadata": {
        "colab_type": "code",
        "id": "nSiOCtv_Rwi_",
        "colab": {}
      },
      "cell_type": "code",
      "source": [
        "!pip install -U tensorflow_hub\n",
        "!pip install tf-nightly-gpu"
      ],
      "execution_count": 0,
      "outputs": []
    },
    {
      "metadata": {
        "colab_type": "code",
        "id": "OGNpmn43C0O6",
        "colab": {}
      },
      "cell_type": "code",
      "source": [
        "from __future__ import absolute_import, division, print_function, unicode_literals\n",
        "\n",
        "import matplotlib.pylab as plt\n",
        "\n",
        "import tensorflow as tf\n",
        "tf.enable_eager_execution()"
      ],
      "execution_count": 0,
      "outputs": []
    },
    {
      "metadata": {
        "colab_type": "code",
        "id": "-V4l8oN8Lw2q",
        "colab": {}
      },
      "cell_type": "code",
      "source": [
        "import tensorflow_hub as hub\n",
        "\n",
        "from tensorflow.keras import layers"
      ],
      "execution_count": 0,
      "outputs": []
    },
    {
      "metadata": {
        "id": "ksNXy1k7Dogp",
        "colab_type": "text"
      },
      "cell_type": "markdown",
      "source": [
        "## ImageNet分類器"
      ]
    },
    {
      "metadata": {
        "id": "zkKdQJWZED65",
        "colab_type": "text"
      },
      "cell_type": "markdown",
      "source": [
        "### 分類器をダウンロードする\n",
        "\n",
        "mobilenetをロードするにはhub.moduleを、それをkerasレイヤーとしてまとめるにはtf.keras.layers.Lambdaを使ってください。\n",
        "\n",
        "[tfhub.devにあるtf2互換の画像分類器URL](https://tfhub.dev/s?q=tf2&module-type=image-classification) であれば全てここで動作します。\n"
      ]
    },
    {
      "metadata": {
        "cellView": "both",
        "colab_type": "code",
        "id": "feiXojVXAbI9",
        "colab": {}
      },
      "cell_type": "code",
      "source": [
        "classifier_url =\"https://tfhub.dev/google/tf2-preview/mobilenet_v2/classification/2\" #@param {type:\"string\"}"
      ],
      "execution_count": 0,
      "outputs": []
    },
    {
      "metadata": {
        "colab_type": "code",
        "id": "y_6bGjoPtzau",
        "colab": {}
      },
      "cell_type": "code",
      "source": [
        "IMAGE_SHAPE = (224, 224)\n",
        "\n",
        "classifier = tf.keras.Sequential([\n",
        "    hub.KerasLayer(classifier_url, input_shape=IMAGE_SHAPE+(3,))\n",
        "])"
      ],
      "execution_count": 0,
      "outputs": []
    },
    {
      "metadata": {
        "id": "BGySvo8NHGX6",
        "colab_type": "text"
      },
      "cell_type": "markdown",
      "source": [
        "### 単一の画像で実行する"
      ]
    },
    {
      "metadata": {
        "id": "0I3XRw6mHe-M",
        "colab_type": "text"
      },
      "cell_type": "markdown",
      "source": [
        "モデルを試すために単一の画像をダウンロードしてください。"
      ]
    },
    {
      "metadata": {
        "colab_type": "code",
        "id": "w5wDjXNjuXGD",
        "colab": {}
      },
      "cell_type": "code",
      "source": [
        "import numpy as np\n",
        "import PIL.Image as Image\n",
        "\n",
        "grace_hopper = tf.keras.utils.get_file('image.jpg','https://storage.googleapis.com/download.tensorflow.org/example_images/grace_hopper.jpg')\n",
        "grace_hopper = Image.open(grace_hopper).resize(IMAGE_SHAPE)\n",
        "grace_hopper"
      ],
      "execution_count": 0,
      "outputs": []
    },
    {
      "metadata": {
        "colab_type": "code",
        "id": "BEmmBnGbLxPp",
        "colab": {}
      },
      "cell_type": "code",
      "source": [
        "grace_hopper = np.array(grace_hopper)/255.0\n",
        "grace_hopper.shape"
      ],
      "execution_count": 0,
      "outputs": []
    },
    {
      "metadata": {
        "id": "iHRYiMhfH2MX",
        "colab_type": "text"
      },
      "cell_type": "markdown",
      "source": [
        "バッチ次元を一つ追加し、画像をモデルに渡してください"
      ]
    },
    {
      "metadata": {
        "colab_type": "code",
        "id": "EMquyn29v8q3",
        "colab": {}
      },
      "cell_type": "code",
      "source": [
        "result = classifier.predict(grace_hopper[np.newaxis, ...])\n",
        "result.shape"
      ],
      "execution_count": 0,
      "outputs": []
    },
    {
      "metadata": {
        "id": "wzw2-PUeITIF",
        "colab_type": "text"
      },
      "cell_type": "markdown",
      "source": [
        "結果は1001の要素を持つロジットベクトルで、画像がそれぞれのクラスに属する確率を評価します。\n",
        "\n",
        "そのため、最も確率の高いクラスのIDはargmaxで見つけることができます。"
      ]
    },
    {
      "metadata": {
        "colab_type": "code",
        "id": "rgXb44vt6goJ",
        "colab": {}
      },
      "cell_type": "code",
      "source": [
        "predicted_class = np.argmax(result[0], axis=-1)\n",
        "predicted_class"
      ],
      "execution_count": 0,
      "outputs": []
    },
    {
      "metadata": {
        "id": "iKJd8_-CPBFO",
        "colab_type": "text"
      },
      "cell_type": "markdown",
      "source": [
        "### 予測結果をデコードする\n",
        "\n",
        "予測されたクラスのIDをImageNetのラベルと突き合わせて、予測結果をデコードします。"
      ]
    },
    {
      "metadata": {
        "colab_type": "code",
        "id": "ij6SrDxcxzry",
        "colab": {}
      },
      "cell_type": "code",
      "source": [
        "labels_path = tf.keras.utils.get_file('ImageNetLabels.txt','https://storage.googleapis.com/download.tensorflow.org/data/ImageNetLabels.txt')\n",
        "imagenet_labels = np.array(open(labels_path).read().splitlines())"
      ],
      "execution_count": 0,
      "outputs": []
    },
    {
      "metadata": {
        "colab_type": "code",
        "id": "uzziRK3Z2VQo",
        "colab": {}
      },
      "cell_type": "code",
      "source": [
        "plt.imshow(grace_hopper)\n",
        "plt.axis('off')\n",
        "predicted_class_name = imagenet_labels[predicted_class]\n",
        "_ = plt.title(\"Prediction: \" + predicted_class_name.title())"
      ],
      "execution_count": 0,
      "outputs": []
    },
    {
      "metadata": {
        "id": "LZqwsmQdQAgJ",
        "colab_type": "text"
      },
      "cell_type": "markdown",
      "source": [
        "## シンプルな転移学習"
      ]
    },
    {
      "metadata": {
        "id": "JKXfEAkPQFGG",
        "colab_type": "text"
      },
      "cell_type": "markdown",
      "source": [
        "TF Hubを利用すると、私たちが用意したデータセット内のクラスを認識するために、モデルの最上位層を再トレーニングする事が容易になります。"
      ]
    },
    {
      "metadata": {
        "id": "Hkm1j89LR9Ve",
        "colab_type": "text"
      },
      "cell_type": "markdown",
      "source": [
        "### データセット\n",
        "\n",
        "この例では、TensorFlowの花データセットを使用します。"
      ]
    },
    {
      "metadata": {
        "colab_type": "code",
        "id": "DrIUV3V0xDL_",
        "colab": {}
      },
      "cell_type": "code",
      "source": [
        "data_root = tf.keras.utils.get_file(\n",
        "  'flower_photos','https://storage.googleapis.com/download.tensorflow.org/example_images/flower_photos.tgz',\n",
        "   untar=True)"
      ],
      "execution_count": 0,
      "outputs": []
    },
    {
      "metadata": {
        "id": "IC88FdiuSW7B",
        "colab_type": "text"
      },
      "cell_type": "markdown",
      "source": [
        "このデータをモデルに読み込む最も簡単な方法は、tf.keras.preprocessing.image.ImageDataGeneratorを使用することです。\n",
        "\n",
        "TensorFlow Hubのすべての画像モジュールは、[0、1]の範囲のfloat入力を想定しています。これを実現するにはImageDataGeneratorのrescaleパラメータを使用してください。\n",
        "\n",
        "画像のサイズについては後で処理されます。"
      ]
    },
    {
      "metadata": {
        "colab_type": "code",
        "id": "2PwQ_wYDcii9",
        "colab": {}
      },
      "cell_type": "code",
      "source": [
        "image_generator = tf.keras.preprocessing.image.ImageDataGenerator(rescale=1/255)\n",
        "image_data = image_generator.flow_from_directory(str(data_root), target_size=IMAGE_SHAPE)"
      ],
      "execution_count": 0,
      "outputs": []
    },
    {
      "metadata": {
        "id": "K0nYRNxoS34r",
        "colab_type": "text"
      },
      "cell_type": "markdown",
      "source": [
        "結果のオブジェクトは、image_batchとlabel_batchのペアを返すイテレータです。"
      ]
    },
    {
      "metadata": {
        "colab_type": "code",
        "id": "W4lDPkn2cpWZ",
        "colab": {}
      },
      "cell_type": "code",
      "source": [
        "for image_batch, label_batch in image_data:\n",
        "  print(\"Image batch shape: \", image_batch.shape)\n",
        "  print(\"Label batch shape: \", label_batch.shape)\n",
        "  break"
      ],
      "execution_count": 0,
      "outputs": []
    },
    {
      "metadata": {
        "id": "aOgexFeiTR7n",
        "colab_type": "text"
      },
      "cell_type": "markdown",
      "source": [
        "### 画像のバッチに対して分類器を実行する"
      ]
    },
    {
      "metadata": {
        "id": "vHy2P-SVTcJL",
        "colab_type": "text"
      },
      "cell_type": "markdown",
      "source": [
        "それでは、画像のバッチで分類器を実行します。"
      ]
    },
    {
      "metadata": {
        "colab_type": "code",
        "id": "nbyg6tcyxDLh",
        "colab": {}
      },
      "cell_type": "code",
      "source": [
        "result_batch = classifier.predict(image_batch)\n",
        "result_batch.shape"
      ],
      "execution_count": 0,
      "outputs": []
    },
    {
      "metadata": {
        "colab_type": "code",
        "id": "Kv7ZwuR4xDLc",
        "colab": {}
      },
      "cell_type": "code",
      "source": [
        "predicted_class_names = imagenet_labels[np.argmax(result_batch, axis=-1)]\n",
        "predicted_class_names"
      ],
      "execution_count": 0,
      "outputs": []
    },
    {
      "metadata": {
        "id": "Xa2jtplHT3-V",
        "colab_type": "text"
      },
      "cell_type": "markdown",
      "source": [
        "これらの予測結果と実際の画像がどの程度一致しているか確認してください。"
      ]
    },
    {
      "metadata": {
        "colab_type": "code",
        "id": "IXTB22SpxDLP",
        "colab": {}
      },
      "cell_type": "code",
      "source": [
        "plt.figure(figsize=(10,9))\n",
        "plt.subplots_adjust(hspace=0.5)\n",
        "for n in range(30):\n",
        "  plt.subplot(6,5,n+1)\n",
        "  plt.imshow(image_batch[n])\n",
        "  plt.title(predicted_class_names[n])\n",
        "  plt.axis('off')\n",
        "_ = plt.suptitle(\"ImageNet predictions\")"
      ],
      "execution_count": 0,
      "outputs": []
    },
    {
      "metadata": {
        "id": "ZNgiCF3jUlK2",
        "colab_type": "text"
      },
      "cell_type": "markdown",
      "source": [
        "画像の属性については、LICENSE.txtファイルを参照してください。\n",
        "\n",
        "結果は完全には程遠いですが、これらがこのモデルのためにトレーニングされたクラスでない事を考えると妥当です（ 「デイジー」を除く）。\n"
      ]
    },
    {
      "metadata": {
        "id": "UrPVz0XMXAYk",
        "colab_type": "text"
      },
      "cell_type": "markdown",
      "source": [
        "### ヘッドレスモデルをダウンロードする\n",
        "\n",
        "TensorFlow Hubはさらに、最上位の分類層がないモデルを配布することもしています。これらは転移学習を簡単に行うために使用することができます。\n",
        "\n",
        "[tfhub.devからの画像特徴ベクトルのURL](https://tfhub.dev/s?module-type=image-feature-vector&q=tf2)は全てここで動作します。"
      ]
    },
    {
      "metadata": {
        "cellView": "both",
        "colab_type": "code",
        "id": "4bw8Jf94DSnP",
        "colab": {}
      },
      "cell_type": "code",
      "source": [
        "feature_extractor_url = \"https://tfhub.dev/google/tf2-preview/mobilenet_v2/feature_vector/2\" #@param {type:\"string\"}"
      ],
      "execution_count": 0,
      "outputs": []
    },
    {
      "metadata": {
        "id": "VcRuZ_TmYJdg",
        "colab_type": "text"
      },
      "cell_type": "markdown",
      "source": [
        "モジュールを作成し、予想される画像サイズを確認します。"
      ]
    },
    {
      "metadata": {
        "colab_type": "code",
        "id": "5wB030nezBwI",
        "colab": {}
      },
      "cell_type": "code",
      "source": [
        "feature_extractor_layer = hub.KerasLayer(feature_extractor_url,\n",
        "                                         input_shape=(224,224,3))"
      ],
      "execution_count": 0,
      "outputs": []
    },
    {
      "metadata": {
        "id": "VCXQ1GpOYSzC",
        "colab_type": "text"
      },
      "cell_type": "markdown",
      "source": [
        "特徴抽出器は、各画像に対して1280要素のベクトルを返します。"
      ]
    },
    {
      "metadata": {
        "colab_type": "code",
        "id": "Of7i-35F09ls",
        "colab": {}
      },
      "cell_type": "code",
      "source": [
        "feature_batch = feature_extractor_layer(image_batch)\n",
        "print(feature_batch.shape)"
      ],
      "execution_count": 0,
      "outputs": []
    },
    {
      "metadata": {
        "id": "hJ43LsM7Ydi_",
        "colab_type": "text"
      },
      "cell_type": "markdown",
      "source": [
        "トレーニングが新しい分類層のみを修正するように、特徴抽出層の変数を凍結します。"
      ]
    },
    {
      "metadata": {
        "colab_type": "code",
        "id": "Jg5ar6rcE4H-",
        "colab": {}
      },
      "cell_type": "code",
      "source": [
        "feature_extractor_layer.trainable = False"
      ],
      "execution_count": 0,
      "outputs": []
    },
    {
      "metadata": {
        "id": "kIWpYufSY-B9",
        "colab_type": "text"
      },
      "cell_type": "markdown",
      "source": [
        "### 分類ヘッドを追加する\n",
        "hubレイヤーをtf.keras.Sequentialモデルでラップし、新しい分類層を一つ追加します。"
      ]
    },
    {
      "metadata": {
        "colab_type": "code",
        "id": "mGcY27fY1q3Q",
        "colab": {}
      },
      "cell_type": "code",
      "source": [
        "model = tf.keras.Sequential([\n",
        "  feature_extractor_layer,\n",
        "  layers.Dense(image_data.num_classes, activation='softmax')\n",
        "])\n",
        "\n",
        "model.summary()"
      ],
      "execution_count": 0,
      "outputs": []
    },
    {
      "metadata": {
        "colab_type": "code",
        "id": "G9VkAz00HOJx",
        "colab": {}
      },
      "cell_type": "code",
      "source": [
        "predictions = model(image_batch)"
      ],
      "execution_count": 0,
      "outputs": []
    },
    {
      "metadata": {
        "colab_type": "code",
        "id": "sB7sVGJ23vrY",
        "colab": {}
      },
      "cell_type": "code",
      "source": [
        "predictions.shape"
      ],
      "execution_count": 0,
      "outputs": []
    },
    {
      "metadata": {
        "id": "0Cv3gkekZVWg",
        "colab_type": "text"
      },
      "cell_type": "markdown",
      "source": [
        "### モデルをトレーニングする\n",
        "トレーニングプロセスを構成するために、compileを使用してください。"
      ]
    },
    {
      "metadata": {
        "colab_type": "code",
        "id": "3n0Wb9ylKd8R",
        "colab": {}
      },
      "cell_type": "code",
      "source": [
        "model.compile(\n",
        "  optimizer=tf.keras.optimizers.Adam(),\n",
        "  loss='categorical_crossentropy',\n",
        "  metrics=['acc'])"
      ],
      "execution_count": 0,
      "outputs": []
    },
    {
      "metadata": {
        "id": "t7sV4B6ZZoWV",
        "colab_type": "text"
      },
      "cell_type": "markdown",
      "source": [
        "今度は.fitメソッドを使ってモデルをトレーニングします。\n",
        "\n",
        "この例を短くするために、2エポックだけトレーニングを実行します。トレーニングの進行状況を可視化するには、エポック平均ではなく、カスタムコールバックを使用して各バッチの損失と精度を個別に記録します。"
      ]
    },
    {
      "metadata": {
        "colab_type": "code",
        "id": "jZ54Gubac4Lu",
        "colab": {}
      },
      "cell_type": "code",
      "source": [
        "class CollectBatchStats(tf.keras.callbacks.Callback):\n",
        "  def __init__(self):\n",
        "    self.batch_losses = []\n",
        "    self.batch_acc = []\n",
        "\n",
        "  def on_train_batch_end(self, batch, logs=None):\n",
        "    self.batch_losses.append(logs['loss'])\n",
        "    self.batch_acc.append(logs['acc'])\n",
        "    self.model.reset_metrics()"
      ],
      "execution_count": 0,
      "outputs": []
    },
    {
      "metadata": {
        "colab_type": "code",
        "id": "EyMDJxt2HdHr",
        "colab": {}
      },
      "cell_type": "code",
      "source": [
        "steps_per_epoch = np.ceil(image_data.samples/image_data.batch_size)\n",
        "\n",
        "batch_stats_callback = CollectBatchStats()\n",
        "\n",
        "history = model.fit(image_data, epochs=2,\n",
        "                    steps_per_epoch=steps_per_epoch,\n",
        "                    callbacks = [batch_stats_callback])"
      ],
      "execution_count": 0,
      "outputs": []
    },
    {
      "metadata": {
        "id": "6Cv_dZntae-4",
        "colab_type": "text"
      },
      "cell_type": "markdown",
      "source": [
        "これで、ほんの数回のトレーニングの繰り返しでも、モデルがタスクを進めていることがわかったと思います。"
      ]
    },
    {
      "metadata": {
        "colab_type": "code",
        "id": "A5RfS1QIIP-P",
        "colab": {}
      },
      "cell_type": "code",
      "source": [
        "plt.figure()\n",
        "plt.ylabel(\"Loss\")\n",
        "plt.xlabel(\"Training Steps\")\n",
        "plt.ylim([0,2])\n",
        "plt.plot(batch_stats_callback.batch_losses)"
      ],
      "execution_count": 0,
      "outputs": []
    },
    {
      "metadata": {
        "colab_type": "code",
        "id": "3uvX11avTiDg",
        "colab": {}
      },
      "cell_type": "code",
      "source": [
        "plt.figure()\n",
        "plt.ylabel(\"Accuracy\")\n",
        "plt.xlabel(\"Training Steps\")\n",
        "plt.ylim([0,1])\n",
        "plt.plot(batch_stats_callback.batch_acc)"
      ],
      "execution_count": 0,
      "outputs": []
    },
    {
      "metadata": {
        "id": "IzvS8Mq4W8vl",
        "colab_type": "text"
      },
      "cell_type": "markdown",
      "source": [
        "### 予測結果を確認する\n",
        "前からプロットをやり直すには、まずクラス名の順序付きリストを取得します。\n"
      ]
    },
    {
      "metadata": {
        "colab_type": "code",
        "id": "JGbEf5l1I4jz",
        "colab": {}
      },
      "cell_type": "code",
      "source": [
        "class_names = sorted(image_data.class_indices.items(), key=lambda pair:pair[1])\n",
        "class_names = np.array([key.title() for key, value in class_names])\n",
        "class_names"
      ],
      "execution_count": 0,
      "outputs": []
    },
    {
      "metadata": {
        "id": "-DyJWGGzYFFE",
        "colab_type": "text"
      },
      "cell_type": "markdown",
      "source": [
        "モデルを介してイメージバッチを実行し、インデックスをクラス名に変換します。"
      ]
    },
    {
      "metadata": {
        "colab_type": "code",
        "id": "fCLVCpEjJ_VP",
        "colab": {}
      },
      "cell_type": "code",
      "source": [
        "predicted_batch = model.predict(image_batch)\n",
        "predicted_id = np.argmax(predicted_batch, axis=-1)\n",
        "predicted_label_batch = class_names[predicted_id]"
      ],
      "execution_count": 0,
      "outputs": []
    },
    {
      "metadata": {
        "id": "ruBwv8tuYf4y",
        "colab_type": "text"
      },
      "cell_type": "markdown",
      "source": [
        "結果をプロットする"
      ]
    },
    {
      "metadata": {
        "colab_type": "code",
        "id": "rpFQR1MPMtT1",
        "colab": {}
      },
      "cell_type": "code",
      "source": [
        "label_id = np.argmax(label_batch, axis=-1)"
      ],
      "execution_count": 0,
      "outputs": []
    },
    {
      "metadata": {
        "colab_type": "code",
        "id": "wC_AYRJU9NQe",
        "colab": {}
      },
      "cell_type": "code",
      "source": [
        "plt.figure(figsize=(10,9))\n",
        "plt.subplots_adjust(hspace=0.5)\n",
        "for n in range(30):\n",
        "  plt.subplot(6,5,n+1)\n",
        "  plt.imshow(image_batch[n])\n",
        "  color = \"green\" if predicted_id[n] == label_id[n] else \"red\"\n",
        "  plt.title(predicted_label_batch[n].title(), color=color)\n",
        "  plt.axis('off')\n",
        "_ = plt.suptitle(\"Model predictions (green: correct, red: incorrect)\")"
      ],
      "execution_count": 0,
      "outputs": []
    },
    {
      "metadata": {
        "id": "3lezNC1JYj_w",
        "colab_type": "text"
      },
      "cell_type": "markdown",
      "source": [
        "## モデルをエクスポートする\n",
        "モデルのトレーニングが完了したので、保存されたモデルとしてエクスポートします。"
      ]
    },
    {
      "metadata": {
        "colab_type": "code",
        "id": "PLcqg-RmsLno",
        "colab": {}
      },
      "cell_type": "code",
      "source": [
        "import time\n",
        "t = time.time()\n",
        "\n",
        "export_path = \"/tmp/saved_models/{}\".format(int(t))\n",
        "tf.keras.experimental.export_saved_model(model, export_path)\n",
        "\n",
        "export_path"
      ],
      "execution_count": 0,
      "outputs": []
    },
    {
      "metadata": {
        "id": "PHipRvSaZjoO",
        "colab_type": "text"
      },
      "cell_type": "markdown",
      "source": [
        "それではモデルをリロードできることを確認してください。リロードしたモデルでも同じ結果が得られます。"
      ]
    },
    {
      "metadata": {
        "colab_type": "code",
        "id": "7nI5fvkAQvbS",
        "colab": {}
      },
      "cell_type": "code",
      "source": [
        "reloaded = tf.keras.experimental.load_from_saved_model(export_path, custom_objects={'KerasLayer':hub.KerasLayer})"
      ],
      "execution_count": 0,
      "outputs": []
    },
    {
      "metadata": {
        "colab_type": "code",
        "id": "jor83-LqI8xW",
        "colab": {}
      },
      "cell_type": "code",
      "source": [
        "result_batch = model.predict(image_batch)\n",
        "reloaded_result_batch = reloaded.predict(image_batch)"
      ],
      "execution_count": 0,
      "outputs": []
    },
    {
      "metadata": {
        "colab_type": "code",
        "id": "dnZO14taYPH6",
        "colab": {}
      },
      "cell_type": "code",
      "source": [
        "abs(reloaded_result_batch - result_batch).max()"
      ],
      "execution_count": 0,
      "outputs": []
    },
    {
      "metadata": {
        "id": "0YcgJhbAZ7aw",
        "colab_type": "text"
      },
      "cell_type": "markdown",
      "source": [
        "この保存されたモデルは後で推論のためにロードするか、もしくは [TFLite](https://www.tensorflow.org/lite/convert/) か [TFjs](https://github.com/tensorflow/tfjs-converter).に変換することができます。\n"
      ]
    },
    {
      "metadata": {
        "id": "EtBAnnm-Z-ut",
        "colab_type": "code",
        "colab": {}
      },
      "cell_type": "code",
      "source": [
        ""
      ],
      "execution_count": 0,
      "outputs": []
    }
  ]
}